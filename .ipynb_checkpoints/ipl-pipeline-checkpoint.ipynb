{
 "cells": [
  {
   "cell_type": "code",
   "execution_count": 103,
   "id": "8b2b4d73",
   "metadata": {},
   "outputs": [],
   "source": [
    "import numpy as np\n",
    "import pandas as pd\n",
    "import scipy\n",
    "import scipy.optimize as opt\n",
    "import json\n",
    "import os\n",
    "import matplotlib.pyplot as plt\n",
    "import sklearn.linear_model as lm\n",
    "from sklearn.feature_selection import r_regression\n",
    "\n",
    "from espncricinfo.match import Match\n",
    "\n",
    "from tqdm import tqdm"
   ]
  },
  {
   "cell_type": "code",
   "execution_count": 104,
   "id": "9b81a3ac",
   "metadata": {},
   "outputs": [],
   "source": [
    "#!pip3 install python-espncricinfo"
   ]
  },
  {
   "cell_type": "code",
   "execution_count": 105,
   "id": "9fe88515",
   "metadata": {},
   "outputs": [],
   "source": [
    "import warnings\n",
    "warnings.filterwarnings('ignore')"
   ]
  },
  {
   "cell_type": "code",
   "execution_count": 106,
   "id": "773b990a",
   "metadata": {},
   "outputs": [],
   "source": [
    "# df_afg = scrape_afghanistan_t20is()\n",
    "# df_afg.head()"
   ]
  },
  {
   "cell_type": "code",
   "execution_count": 107,
   "id": "6087467f",
   "metadata": {},
   "outputs": [],
   "source": [
    "# data = pd.read_csv('cricket_matches.csv')\n",
    "# data"
   ]
  },
  {
   "cell_type": "code",
   "execution_count": 108,
   "id": "83c8e57f",
   "metadata": {},
   "outputs": [],
   "source": [
    "# teams = np.unique(np.append(data['team1'].values, data['team2'].values))\n",
    "# teams"
   ]
  },
  {
   "cell_type": "code",
   "execution_count": 109,
   "id": "4f4d5916",
   "metadata": {},
   "outputs": [],
   "source": [
    "# data.columns.values"
   ]
  },
  {
   "cell_type": "code",
   "execution_count": 110,
   "id": "43a55a82",
   "metadata": {},
   "outputs": [],
   "source": [
    "def prob_win_A(R_a: float, R_b: float, alpha: float = 400, home: str = 'neutral', hga: float = 0):\n",
    "    if home == 'neutral':\n",
    "        E_a = 1 / (1 + 10**( (R_b - R_a) / alpha ))\n",
    "    elif home == 'first':\n",
    "        E_a = 1 / (1 + 10**( (R_b - (R_a + hga) ) / alpha ))\n",
    "    elif home == 'second':\n",
    "        E_a = E_a = 1 / (1 + 10**( (R_b + hga - R_a) / alpha ))\n",
    "    else:\n",
    "        raise ValueError('Not a valid home country')\n",
    "    return E_a\n",
    "\n",
    "def elo_step(R_a: float, R_b: float, S: float, K: float, W_mv: float, alpha: float, home: str = 'neutral', hga: float = 0):\n",
    "    E_a = prob_win_A(R_a, R_b, alpha, home, hga)\n",
    "    E_b = 1 - E_a\n",
    "    R_a_pr = R_a + K*(S - E_a)*W_mv\n",
    "    R_b_pr = R_b + K*((1-S) - E_b)*W_mv\n",
    "    \n",
    "    return R_a_pr, R_b_pr"
   ]
  },
  {
   "cell_type": "code",
   "execution_count": 111,
   "id": "44a21a0c",
   "metadata": {},
   "outputs": [],
   "source": [
    "def prob_win_country_A(team_elos, country_A: str, country_B: str, venue_country: str, alpha: float = 400, hga: float = 0):\n",
    "    \"\"\"\n",
    "    :param team_elos: Dictionary of elo ratings for each team.\n",
    "    For the purposes of this function, country_A is the country for which win probability is calculated.\n",
    "    \"\"\"\n",
    "    R_a = team_elos[country_A]\n",
    "    R_b = team_elos[country_B]\n",
    "    if venue_country == country_A:\n",
    "        home = 'first'\n",
    "    elif venue_country == country_B:\n",
    "        home = 'second'\n",
    "    else:\n",
    "        home = 'neutral'\n",
    "    return prob_win_A(R_a, R_b, alpha, home, hga)"
   ]
  },
  {
   "cell_type": "code",
   "execution_count": 112,
   "id": "8979c122",
   "metadata": {},
   "outputs": [],
   "source": [
    "def calculate_W_mv_m1(nrr):\n",
    "    \"\"\"\n",
    "    :param nrr: Net run rate for game.\n",
    "    \"\"\"\n",
    "    return (3 + nrr)**0.63 - 1 # Testing this out\n",
    "\n",
    "def calculate_W_mv_log(nrr, elodiff):\n",
    "    \"\"\"\n",
    "    :param nrr: Net run rate for game\n",
    "    :param elodiff: Elo rating difference. ELODIFF = ELOW - ELOL\n",
    "    \"\"\"\n",
    "    return np.log(1 + abs(min(nrr, 3))) * 2.2/(0.001*elodiff + 2.2) # Testing this out"
   ]
  },
  {
   "cell_type": "code",
   "execution_count": 113,
   "id": "270fec40",
   "metadata": {},
   "outputs": [],
   "source": [
    "def generate_elo_ratings(data, teams, K, alpha=400, calculate_W_mv=calculate_W_mv_log, hga=0, mean_rev_const=0.3):\n",
    "    \"\"\"\n",
    "    :param data: DataFrame of games played.\n",
    "    :param teams: Dictionary of all teams with respective elo rating scores. At the start, all teams' Elo ratings \n",
    "    will be set to 1500.\n",
    "    :param K: K-parameter for Elo rating updates.\n",
    "    :param alpha: alpha parameter for calculating probabilities from Elo.\n",
    "    :param calculate_W_mv: Function for calculating the victory multiplier.\n",
    "    \n",
    "    Runs through Elo from start to finish for set of games, assuming that we are starting from the beginning -\n",
    "    i.e. the teams do not have pre-existing Elo ratings calculated from other games and thus all initial\n",
    "    Elo ratings are set to 1500.\n",
    "    \"\"\"\n",
    "    teams_final = teams.copy()\n",
    "    previous_year = 2008\n",
    "    \n",
    "    for i in range(data.shape[0]):\n",
    "        row = data.iloc[i, :]\n",
    "        \n",
    "        first = row['first_team']\n",
    "        second = row['second_team']\n",
    "        winner = row['winner']\n",
    "        nrr = row['net_run_rate']\n",
    "        home_country = row['venue_country']\n",
    "        year = row['year']\n",
    "        \n",
    "        if year > previous_year:\n",
    "            previous_year = year\n",
    "            avg = np.mean(np.array(list(teams_final.values())))\n",
    "            for ind in np.array(list(teams_final.keys())):\n",
    "                mean_rev = mean_rev_const*(teams_final[ind]-avg)\n",
    "                teams_final[ind] -= mean_rev\n",
    "        \n",
    "        if home_country == first:\n",
    "            home = 'first'\n",
    "        elif home_country == second:\n",
    "            home = 'second'\n",
    "        else:\n",
    "            home = 'neutral'\n",
    "        \n",
    "        if first == winner:\n",
    "            S_a = 1\n",
    "            loser = second\n",
    "        elif winner == 'tie':\n",
    "            S_a = 0.5\n",
    "            loser = 'tie'\n",
    "        else:\n",
    "            S_a = 0\n",
    "            loser = first\n",
    "        \n",
    "        if winner != 'tie':\n",
    "            W_mv = calculate_W_mv(nrr, teams_final[winner]-teams_final[loser])\n",
    "        else:\n",
    "            W_mv = 2.2*np.log(2)\n",
    "        R_a_pr, R_b_pr = elo_step(teams_final[first], teams_final[second], S_a, K, W_mv, alpha, home, hga)\n",
    "        \n",
    "        teams_final[first] = R_a_pr\n",
    "        teams_final[second] = R_b_pr\n",
    "    \n",
    "    return teams_final"
   ]
  },
  {
   "cell_type": "code",
   "execution_count": 114,
   "id": "a1ac515a",
   "metadata": {},
   "outputs": [],
   "source": [
    "def brier(data, teams, K, alpha=400, calculate_W_mv=calculate_W_mv_log, hga=0, mean_rev_const=0.3):\n",
    "    \"\"\"\n",
    "    :param data: DataFrame of all games.\n",
    "    :param elodict: Dictionary of teams and their final Elo scores.\n",
    "    :param alpha: alpha parameter.\n",
    "    Assumes simulation has already been completed and Elo ratings calculated. Cross entropy loss for Elo ratings.\n",
    "    \"\"\"\n",
    "    score = 0\n",
    "    teams_final = teams.copy()\n",
    "    previous_year = 2008\n",
    "    \n",
    "    for i in range(data.shape[0]):\n",
    "        row = data.iloc[i, :]\n",
    "        \n",
    "        first = row['first_team']\n",
    "        second = row['second_team']\n",
    "        winner = row['winner']\n",
    "        nrr = row['net_run_rate']\n",
    "        \n",
    "        home_country = row['venue_country']\n",
    "        \n",
    "        year = row['year']\n",
    "        \n",
    "        if year > previous_year:\n",
    "            previous_year = year\n",
    "            avg = np.mean(np.array(list(teams_final.values())))\n",
    "            for ind in np.array(list(teams_final.keys())):\n",
    "                mean_rev = mean_rev_const*(teams_final[ind]-avg)\n",
    "                teams_final[ind] -= mean_rev\n",
    "        \n",
    "        if home_country == first:\n",
    "            home = 'first'\n",
    "        elif home_country == second:\n",
    "            home = 'second'\n",
    "        else:\n",
    "            home = 'neutral'\n",
    "        \n",
    "        \n",
    "        if first == winner:\n",
    "            S_a = 1\n",
    "            loser = second\n",
    "        elif winner == 'tie':\n",
    "            S_a = 0.5\n",
    "            loser = 'tie'\n",
    "        else:\n",
    "            S_a = 0\n",
    "            loser = first\n",
    "        \n",
    "        if winner != 'tie':\n",
    "            W_mv = calculate_W_mv(nrr, teams_final[winner]-teams_final[loser])\n",
    "        else:\n",
    "            W_mv = 2.2*np.log(2)\n",
    "            \n",
    "        E_a = prob_win_A(teams_final[first], teams_final[second], alpha, home, hga)\n",
    "        E_b = 1 - E_a\n",
    "        \n",
    "        R_a_pr, R_b_pr = elo_step(teams_final[first], teams_final[second], S_a, K, W_mv, alpha, home, hga)\n",
    "        \n",
    "        brier_comp = (S_a - E_a)**2 + ((1-S_a) - E_b)**2\n",
    "        score += brier_comp\n",
    "        \n",
    "        teams_final[first] = R_a_pr\n",
    "        teams_final[second] = R_b_pr\n",
    "        \n",
    "        # brier_comp = (S_a - E_a)**2 + ((1-S_a) - E_b)**2\n",
    "    \n",
    "    score /= data.shape[0]\n",
    "    \n",
    "    return score"
   ]
  },
  {
   "cell_type": "code",
   "execution_count": 115,
   "id": "e980683f",
   "metadata": {},
   "outputs": [],
   "source": [
    "# def cross_entropy(data, elodict, alpha=400):\n",
    "#     \"\"\"\n",
    "#     :param data: DataFrame of all games.\n",
    "#     :param elodict: Dictionary of teams and their final Elo scores.\n",
    "#     :param alpha: alpha parameter.\n",
    "#     Assumes simulation has already been completed and Elo ratings calculated. Cross entropy loss for Elo ratings.\n",
    "#     \"\"\"\n",
    "#     score = 0\n",
    "    \n",
    "#     for i in range(data.shape[0]):\n",
    "#         row = data.iloc[i, :]\n",
    "        \n",
    "        \n",
    "#         first, second, winner = row['first_team'], row['second_team'], row['winner']\n",
    "        \n",
    "#         elo1, elo2 = elodict[first], elodict[second]\n",
    "#         E_a = prob_win_A(elo1, elo2, alpha)\n",
    "#         E_b = 1 - E_a\n",
    "        \n",
    "#         if first == winner:\n",
    "#             S_a = 1\n",
    "#         elif winner == 'tie':\n",
    "#             S_a = 0.5\n",
    "#         else:\n",
    "#             S_a = 0\n",
    "        \n",
    "#         # brier_comp = (S_a - E_a)**2 + ((1-S_a) - E_b)**2\n",
    "#         cross_entropy_comp = -(S_a*np.log(E_a) + (1-S_a)*np.log(1-E_a))\n",
    "#         score += cross_entropy_comp\n",
    "    \n",
    "#     score /= data.shape[0]\n",
    "    \n",
    "#     return score"
   ]
  },
  {
   "cell_type": "code",
   "execution_count": 116,
   "id": "c482fa82",
   "metadata": {},
   "outputs": [],
   "source": [
    "def cross_entropy(data, teams, K, alpha=400, calculate_W_mv=calculate_W_mv_log, hga=0, mean_rev_const=0.3):\n",
    "    \"\"\"\n",
    "    :param data: DataFrame of all games.\n",
    "    :param elodict: Dictionary of teams and their final Elo scores.\n",
    "    :param alpha: alpha parameter.\n",
    "    Assumes simulation has already been completed and Elo ratings calculated. Cross entropy loss for Elo ratings.\n",
    "    \"\"\"\n",
    "    score = 0\n",
    "    teams_final = teams.copy()\n",
    "    previous_year = 2008\n",
    "    \n",
    "    for i in range(data.shape[0]):\n",
    "        row = data.iloc[i, :]\n",
    "        \n",
    "        first = row['first_team']\n",
    "        second = row['second_team']\n",
    "        winner = row['winner']\n",
    "        nrr = row['net_run_rate']\n",
    "        \n",
    "        home_country = row['venue_country']\n",
    "        year = row['year']\n",
    "        \n",
    "        if year > previous_year:\n",
    "            previous_year = year\n",
    "            avg = np.mean(np.array(list(teams_final.values())))\n",
    "            for ind in np.array(list(teams_final.keys())):\n",
    "                mean_rev = mean_rev_const*(teams_final[ind]-avg)\n",
    "                teams_final[ind] -= mean_rev\n",
    "        \n",
    "        if home_country == first:\n",
    "            home = 'first'\n",
    "        elif home_country == second:\n",
    "            home = 'second'\n",
    "        else:\n",
    "            home = 'neutral'\n",
    "        \n",
    "        \n",
    "        if first == winner:\n",
    "            S_a = 1\n",
    "            loser = second\n",
    "        elif winner == 'tie':\n",
    "            S_a = 0.5\n",
    "            loser = 'tie'\n",
    "        else:\n",
    "            S_a = 0\n",
    "            loser = first\n",
    "        \n",
    "        if winner != 'tie':\n",
    "            W_mv = calculate_W_mv(nrr, teams_final[winner]-teams_final[loser])\n",
    "        else:\n",
    "            W_mv = 2.2*np.log(2)\n",
    "            \n",
    "        E_a = prob_win_A(teams_final[first], teams_final[second], alpha, home, hga)\n",
    "        E_b = 1 - E_a\n",
    "        \n",
    "        R_a_pr, R_b_pr = elo_step(teams_final[first], teams_final[second], S_a, K, W_mv, alpha, home, hga)\n",
    "        \n",
    "        cross_entropy_comp = -(S_a*np.log(E_a) + (1-S_a)*np.log(1-E_a))\n",
    "        score += cross_entropy_comp\n",
    "        \n",
    "        teams_final[first] = R_a_pr\n",
    "        teams_final[second] = R_b_pr\n",
    "        \n",
    "        # brier_comp = (S_a - E_a)**2 + ((1-S_a) - E_b)**2\n",
    "    \n",
    "    score /= data.shape[0]\n",
    "    \n",
    "    return score"
   ]
  },
  {
   "cell_type": "code",
   "execution_count": 117,
   "id": "09acfea0",
   "metadata": {},
   "outputs": [],
   "source": [
    "# def correctness(data, elodict, alpha=400): # TODO: Fix this\n",
    "#     \"\"\"\n",
    "#     :param data: DataFrame of all games.\n",
    "#     :param elodict: Dictionary of teams and their final Elo scores.\n",
    "#     :param alpha: alpha parameter.\n",
    "#     Assumes simulation has already been completed and Elo ratings calculated. Correctness (i.e., what %\n",
    "#     of games are predicted correctly) for Elo ratings.\n",
    "#     \"\"\"\n",
    "#     score = 0\n",
    "    \n",
    "#     for i in range(data.shape[0]):\n",
    "#         row = data.iloc[i, :]\n",
    "        \n",
    "        \n",
    "#         first, second, winner = row['first_team'], row['second_team'], row['winner']\n",
    "        \n",
    "#         elo1, elo2 = elodict[first], elodict[second]\n",
    "#         E_a = prob_win_A(elo1, elo2, alpha)\n",
    "#         E_b = 1 - E_a\n",
    "        \n",
    "#         if E_a >= 0.5:\n",
    "#             S_exp = 1\n",
    "#         else:\n",
    "#             S_exp = 0\n",
    "        \n",
    "#         if first == winner:\n",
    "#             S_a = 1\n",
    "#         elif winner == 'tie':\n",
    "#             S_a = 0.5\n",
    "#         else:\n",
    "#             S_a = 0\n",
    "        \n",
    "#         if S_exp == S_a:\n",
    "#             score += 1\n",
    "    \n",
    "#     score /= data.shape[0]\n",
    "    \n",
    "#     return score"
   ]
  },
  {
   "cell_type": "code",
   "execution_count": 118,
   "id": "0bd54da0",
   "metadata": {},
   "outputs": [],
   "source": [
    "def correctness(data, teams, K, alpha=400, calculate_W_mv=calculate_W_mv_log, hga=0, mean_rev_const=0.3):\n",
    "    \"\"\"\n",
    "    :param data: DataFrame of all games.\n",
    "    :param elodict: Dictionary of teams and their final Elo scores.\n",
    "    :param alpha: alpha parameter.\n",
    "    Assumes simulation has already been completed and Elo ratings calculated. Cross entropy loss for Elo ratings.\n",
    "    \"\"\"\n",
    "    score = 0\n",
    "    teams_final = teams.copy()\n",
    "    previous_year = 2008\n",
    "    \n",
    "    for i in range(data.shape[0]):\n",
    "        row = data.iloc[i, :]\n",
    "        \n",
    "        first = row['first_team']\n",
    "        second = row['second_team']\n",
    "        winner = row['winner']\n",
    "        nrr = row['net_run_rate']\n",
    "        \n",
    "        home_country = row['venue_country']\n",
    "        year = row['year']\n",
    "        \n",
    "        if year > previous_year:\n",
    "            previous_year = year\n",
    "            avg = np.mean(np.array(list(teams_final.values())))\n",
    "            for ind in np.array(list(teams_final.keys())):\n",
    "                mean_rev = mean_rev_const*(teams_final[ind]-avg)\n",
    "                teams_final[ind] -= mean_rev\n",
    "        \n",
    "        if home_country == first:\n",
    "            home = 'first'\n",
    "        elif home_country == second:\n",
    "            home = 'second'\n",
    "        else:\n",
    "            home = 'neutral'\n",
    "        \n",
    "        \n",
    "        if first == winner:\n",
    "            S_a = 1\n",
    "            loser = second\n",
    "        elif winner == 'tie':\n",
    "            S_a = 0.5\n",
    "            loser = 'tie'\n",
    "        else:\n",
    "            S_a = 0\n",
    "            loser = first\n",
    "        \n",
    "        if winner != 'tie':\n",
    "            W_mv = calculate_W_mv(nrr, teams_final[winner]-teams_final[loser])\n",
    "        else:\n",
    "            W_mv = 2.2*np.log(2)\n",
    "            \n",
    "        E_a = prob_win_A(teams_final[first], teams_final[second], alpha, home, hga)\n",
    "        E_b = 1 - E_a\n",
    "        \n",
    "        if E_a >= 0.5:\n",
    "            S_exp = 1\n",
    "        else:\n",
    "            S_exp = 0\n",
    "        \n",
    "        R_a_pr, R_b_pr = elo_step(teams_final[first], teams_final[second], S_a, K, W_mv, alpha, home, hga)\n",
    "        \n",
    "        # cross_entropy_comp = -(S_a*np.log(E_a) + (1-S_a)*np.log(1-E_a))\n",
    "        if S_exp == S_a:\n",
    "            score += 1\n",
    "        \n",
    "        teams_final[first] = R_a_pr\n",
    "        teams_final[second] = R_b_pr\n",
    "        \n",
    "        # brier_comp = (S_a - E_a)**2 + ((1-S_a) - E_b)**2\n",
    "    \n",
    "    score /= data.shape[0]\n",
    "    \n",
    "    return score"
   ]
  },
  {
   "cell_type": "code",
   "execution_count": 119,
   "id": "7b643754",
   "metadata": {},
   "outputs": [],
   "source": [
    "# data.iloc[0, :]"
   ]
  },
  {
   "cell_type": "code",
   "execution_count": 120,
   "id": "af6512d6",
   "metadata": {},
   "outputs": [],
   "source": [
    "def extract_cricket_summary(file_path):\n",
    "    with open(file_path, 'r', encoding='utf-8') as f:\n",
    "        data = json.load(f)\n",
    "\n",
    "    # Get teams and winner\n",
    "    teams = data['info']['teams']\n",
    "    \n",
    "    winner = data['info']['outcome'].get('winner')\n",
    "    \n",
    "    if winner is None:\n",
    "        match data['info']['outcome'].get('result'):\n",
    "            case 'no result':\n",
    "                winner = 'no result'\n",
    "            case 'tie':\n",
    "                winner = 'tie'\n",
    "                \n",
    "    if data['info']['outcome'].get('method') == 'Awarded':\n",
    "        print('Haiiiii! We at ', file_path, '<3')\n",
    "    \n",
    "    date = data['info']['dates'][0]\n",
    "    \n",
    "    teams_np = np.array(teams)\n",
    "    \n",
    "    loser = teams_np[teams_np != winner][0]\n",
    "    \n",
    "    first = (data['info']['toss']['winner'] if data['info']['toss']['decision']=='bat' \n",
    "             else teams_np[teams_np != data['info']['toss']['winner']][0])\n",
    "    second = teams_np[teams_np != first][0]\n",
    "    \n",
    "    # city = data['info']['city']\n",
    "    venue = data['info']['venue']\n",
    "\n",
    "    team_stats = {}\n",
    "\n",
    "    for innings in data['innings']:\n",
    "        team = innings['team']\n",
    "        total_runs = 0\n",
    "        legal_balls = 0\n",
    "\n",
    "        for over in innings['overs']:\n",
    "            for delivery in over['deliveries']:\n",
    "                # Add runs\n",
    "                total_runs += delivery['runs']['total']\n",
    "                \n",
    "                # Count legal balls only (not wides or no-balls)\n",
    "                extras = delivery.get('extras', {})\n",
    "                if 'wides' not in extras and 'noballs' not in extras:\n",
    "                    legal_balls += 1\n",
    "\n",
    "        overs = legal_balls // 6 + (legal_balls % 6) / 10\n",
    "        team_stats[team] = {\n",
    "            'runs': total_runs,\n",
    "            'balls': legal_balls,\n",
    "            'overs': round(overs, 1)\n",
    "        }\n",
    "    \n",
    "    if winner == 'no result' or data['info']['outcome'].get('method') == 'Awarded':\n",
    "        nrr = float('nan')\n",
    "    \n",
    "    elif winner == 'tie':\n",
    "        nrr = abs((team_stats[first]['runs'] - team_stats[second]['runs'])/20)\n",
    "    \n",
    "    elif team_stats[second]['balls'] <= 120 and winner == second: # quickfix: Condition on balls instead of overs\n",
    "        nrr = team_stats[winner]['runs']/team_stats[winner]['overs'] - team_stats[loser]['runs']/team_stats[loser]['overs']\n",
    "    \n",
    "    else:\n",
    "        nrr = (team_stats[winner]['runs'] - team_stats[loser]['runs']) / 20\n",
    "    \n",
    "    if winner == 'no result' or data['info']['outcome'].get('method') == 'Awarded': # For our purposes, matches with no result do not matter for Elo rating updates\n",
    "        return {\n",
    "        'date': date,\n",
    "        'winner': winner,\n",
    "        # 'city': city,\n",
    "        'venue': venue,\n",
    "        'first_team': first,\n",
    "        'second_team': second,\n",
    "        'first_runs': float('nan'),\n",
    "        'first_balls': float('nan'),\n",
    "        'first_overs': float('nan'),\n",
    "        'second_runs': float('nan'),\n",
    "        'second_balls': float('nan'),\n",
    "        'second_overs': float('nan'),\n",
    "        'net_run_rate': nrr\n",
    "    }\n",
    "    \n",
    "    return {\n",
    "        'date': date,\n",
    "        'winner': winner,\n",
    "        # 'city': city,\n",
    "        'venue': venue,\n",
    "        'first_team': first,\n",
    "        'second_team': second,\n",
    "        'first_runs': team_stats[first]['runs'],\n",
    "        'first_balls': team_stats[first]['balls'],\n",
    "        'first_overs': team_stats[first]['overs'],\n",
    "        'second_runs': team_stats[second]['runs'],\n",
    "        'second_balls': team_stats[second]['balls'],\n",
    "        'second_overs': team_stats[second]['overs'],\n",
    "        'net_run_rate': nrr\n",
    "    }"
   ]
  },
  {
   "cell_type": "code",
   "execution_count": 121,
   "id": "402cbfcd",
   "metadata": {},
   "outputs": [
    {
     "name": "stdout",
     "output_type": "stream",
     "text": [
      "{'date': '2008-04-19', 'winner': 'Delhi Daredevils', 'venue': 'Feroz Shah Kotla', 'first_team': 'Rajasthan Royals', 'second_team': 'Delhi Daredevils', 'first_runs': 129, 'first_balls': 120, 'first_overs': 20.0, 'second_runs': 132, 'second_balls': 91, 'second_overs': 15.1, 'net_run_rate': 2.291721854304636}\n"
     ]
    }
   ],
   "source": [
    "# Example usage\n",
    "summary = extract_cricket_summary(\"ipl-data/335984.json\")\n",
    "# summary = extract_cricket_summary(\"data/1407719.json\")\n",
    "print(summary)"
   ]
  },
  {
   "cell_type": "code",
   "execution_count": 122,
   "id": "e1db69c6",
   "metadata": {},
   "outputs": [],
   "source": [
    "def load_directory(directory):\n",
    "    summaries = []\n",
    "\n",
    "    for filename in os.listdir(directory):\n",
    "        if filename.endswith('.json'):\n",
    "            full_path = os.path.join(directory, filename)\n",
    "            try:\n",
    "                summary = extract_cricket_summary(full_path)\n",
    "                if summary:\n",
    "                    summaries.append(summary)\n",
    "            except Exception as e:\n",
    "                print(f\"Error processing {filename}: {e}\")\n",
    "\n",
    "    return pd.DataFrame(summaries)"
   ]
  },
  {
   "cell_type": "code",
   "execution_count": 123,
   "id": "498fc4c1",
   "metadata": {},
   "outputs": [],
   "source": [
    "def calculate_nrr(winner, first, second, first_runs, first_overs, second_runs, second_overs):\n",
    "    if winner == 'tie':\n",
    "        nrr = abs((first_runs - second_runs)/20)\n",
    "    elif second_overs <= 20 and winner == second:\n",
    "        nrr = second_runs/second_overs - first_runs/first_overs\n",
    "    elif winner == first:\n",
    "        nrr = (first_runs - second_runs) / 20\n",
    "    \n",
    "    return nrr"
   ]
  },
  {
   "cell_type": "code",
   "execution_count": 124,
   "id": "7fede57e",
   "metadata": {},
   "outputs": [],
   "source": [
    "# # afg = pd.read_csv('afghanistan-T20I-matches.csv')\n",
    "# # print(afg['winner'])\n",
    "# # afg['net_run_rate'] = afg[['winner', 'first_team', 'second_team', 'first_runs', 'first_overs', 'second_runs',\n",
    "#                           'second_overs']].apply(lambda x: calculate_nrr(x['winner'], x['first_team'], x['second_team'],\n",
    "#                                                                          x['first_runs'], x['first_overs'], x['second_runs'],\n",
    "#                                                                          x['second_overs']), axis=1)\n",
    "# # afg.head()"
   ]
  },
  {
   "cell_type": "code",
   "execution_count": 125,
   "id": "6b8d1e8c",
   "metadata": {
    "scrolled": true
   },
   "outputs": [
    {
     "data": {
      "text/html": [
       "<div>\n",
       "<style scoped>\n",
       "    .dataframe tbody tr th:only-of-type {\n",
       "        vertical-align: middle;\n",
       "    }\n",
       "\n",
       "    .dataframe tbody tr th {\n",
       "        vertical-align: top;\n",
       "    }\n",
       "\n",
       "    .dataframe thead th {\n",
       "        text-align: right;\n",
       "    }\n",
       "</style>\n",
       "<table border=\"1\" class=\"dataframe\">\n",
       "  <thead>\n",
       "    <tr style=\"text-align: right;\">\n",
       "      <th></th>\n",
       "      <th>date</th>\n",
       "      <th>winner</th>\n",
       "      <th>venue</th>\n",
       "      <th>first_team</th>\n",
       "      <th>second_team</th>\n",
       "      <th>first_runs</th>\n",
       "      <th>first_balls</th>\n",
       "      <th>first_overs</th>\n",
       "      <th>second_runs</th>\n",
       "      <th>second_balls</th>\n",
       "      <th>second_overs</th>\n",
       "      <th>net_run_rate</th>\n",
       "    </tr>\n",
       "  </thead>\n",
       "  <tbody>\n",
       "    <tr>\n",
       "      <th>592</th>\n",
       "      <td>2008-04-18</td>\n",
       "      <td>Kolkata Knight Riders</td>\n",
       "      <td>M Chinnaswamy Stadium</td>\n",
       "      <td>Kolkata Knight Riders</td>\n",
       "      <td>Royal Challengers Bangalore</td>\n",
       "      <td>222.0</td>\n",
       "      <td>120.0</td>\n",
       "      <td>20.0</td>\n",
       "      <td>82.0</td>\n",
       "      <td>91.0</td>\n",
       "      <td>15.1</td>\n",
       "      <td>7.000000</td>\n",
       "    </tr>\n",
       "    <tr>\n",
       "      <th>593</th>\n",
       "      <td>2008-04-19</td>\n",
       "      <td>Chennai Super Kings</td>\n",
       "      <td>Punjab Cricket Association Stadium, Mohali</td>\n",
       "      <td>Chennai Super Kings</td>\n",
       "      <td>Kings XI Punjab</td>\n",
       "      <td>240.0</td>\n",
       "      <td>120.0</td>\n",
       "      <td>20.0</td>\n",
       "      <td>207.0</td>\n",
       "      <td>120.0</td>\n",
       "      <td>20.0</td>\n",
       "      <td>1.650000</td>\n",
       "    </tr>\n",
       "    <tr>\n",
       "      <th>594</th>\n",
       "      <td>2008-04-19</td>\n",
       "      <td>Delhi Daredevils</td>\n",
       "      <td>Feroz Shah Kotla</td>\n",
       "      <td>Rajasthan Royals</td>\n",
       "      <td>Delhi Daredevils</td>\n",
       "      <td>129.0</td>\n",
       "      <td>120.0</td>\n",
       "      <td>20.0</td>\n",
       "      <td>132.0</td>\n",
       "      <td>91.0</td>\n",
       "      <td>15.1</td>\n",
       "      <td>2.291722</td>\n",
       "    </tr>\n",
       "    <tr>\n",
       "      <th>596</th>\n",
       "      <td>2008-04-20</td>\n",
       "      <td>Kolkata Knight Riders</td>\n",
       "      <td>Eden Gardens</td>\n",
       "      <td>Deccan Chargers</td>\n",
       "      <td>Kolkata Knight Riders</td>\n",
       "      <td>110.0</td>\n",
       "      <td>112.0</td>\n",
       "      <td>18.4</td>\n",
       "      <td>112.0</td>\n",
       "      <td>114.0</td>\n",
       "      <td>19.0</td>\n",
       "      <td>-0.083524</td>\n",
       "    </tr>\n",
       "    <tr>\n",
       "      <th>595</th>\n",
       "      <td>2008-04-20</td>\n",
       "      <td>Royal Challengers Bangalore</td>\n",
       "      <td>Wankhede Stadium</td>\n",
       "      <td>Mumbai Indians</td>\n",
       "      <td>Royal Challengers Bangalore</td>\n",
       "      <td>165.0</td>\n",
       "      <td>120.0</td>\n",
       "      <td>20.0</td>\n",
       "      <td>166.0</td>\n",
       "      <td>118.0</td>\n",
       "      <td>19.4</td>\n",
       "      <td>0.306701</td>\n",
       "    </tr>\n",
       "  </tbody>\n",
       "</table>\n",
       "</div>"
      ],
      "text/plain": [
       "           date                       winner  \\\n",
       "592  2008-04-18        Kolkata Knight Riders   \n",
       "593  2008-04-19          Chennai Super Kings   \n",
       "594  2008-04-19             Delhi Daredevils   \n",
       "596  2008-04-20        Kolkata Knight Riders   \n",
       "595  2008-04-20  Royal Challengers Bangalore   \n",
       "\n",
       "                                          venue             first_team  \\\n",
       "592                       M Chinnaswamy Stadium  Kolkata Knight Riders   \n",
       "593  Punjab Cricket Association Stadium, Mohali    Chennai Super Kings   \n",
       "594                            Feroz Shah Kotla       Rajasthan Royals   \n",
       "596                                Eden Gardens        Deccan Chargers   \n",
       "595                            Wankhede Stadium         Mumbai Indians   \n",
       "\n",
       "                     second_team  first_runs  first_balls  first_overs  \\\n",
       "592  Royal Challengers Bangalore       222.0        120.0         20.0   \n",
       "593              Kings XI Punjab       240.0        120.0         20.0   \n",
       "594             Delhi Daredevils       129.0        120.0         20.0   \n",
       "596        Kolkata Knight Riders       110.0        112.0         18.4   \n",
       "595  Royal Challengers Bangalore       165.0        120.0         20.0   \n",
       "\n",
       "     second_runs  second_balls  second_overs  net_run_rate  \n",
       "592         82.0          91.0          15.1      7.000000  \n",
       "593        207.0         120.0          20.0      1.650000  \n",
       "594        132.0          91.0          15.1      2.291722  \n",
       "596        112.0         114.0          19.0     -0.083524  \n",
       "595        166.0         118.0          19.4      0.306701  "
      ]
     },
     "execution_count": 125,
     "metadata": {},
     "output_type": "execute_result"
    }
   ],
   "source": [
    "data = load_directory('ipl-data/')\n",
    "# data = pd.concat([data, afg], axis=0)\n",
    "data = data.sort_values(by=['date'], ascending=True)\n",
    "data.head()"
   ]
  },
  {
   "cell_type": "code",
   "execution_count": 126,
   "id": "ff70352d",
   "metadata": {},
   "outputs": [
    {
     "data": {
      "text/plain": [
       "(1169, 12)"
      ]
     },
     "execution_count": 126,
     "metadata": {},
     "output_type": "execute_result"
    }
   ],
   "source": [
    "data.shape"
   ]
  },
  {
   "cell_type": "code",
   "execution_count": 127,
   "id": "3e229e77",
   "metadata": {},
   "outputs": [
    {
     "data": {
      "text/plain": [
       "592   2008-04-18\n",
       "593   2008-04-19\n",
       "594   2008-04-19\n",
       "596   2008-04-20\n",
       "595   2008-04-20\n",
       "         ...    \n",
       "586   2025-05-27\n",
       "587   2025-05-29\n",
       "588   2025-05-30\n",
       "589   2025-06-01\n",
       "590   2025-06-03\n",
       "Name: date, Length: 1169, dtype: datetime64[ns]"
      ]
     },
     "execution_count": 127,
     "metadata": {},
     "output_type": "execute_result"
    }
   ],
   "source": [
    "data['date'] = pd.DatetimeIndex(data['date'])\n",
    "data['date']"
   ]
  },
  {
   "cell_type": "code",
   "execution_count": 128,
   "id": "b951d03e",
   "metadata": {},
   "outputs": [
    {
     "data": {
      "text/plain": [
       "592    2008\n",
       "593    2008\n",
       "594    2008\n",
       "596    2008\n",
       "595    2008\n",
       "       ... \n",
       "586    2025\n",
       "587    2025\n",
       "588    2025\n",
       "589    2025\n",
       "590    2025\n",
       "Name: year, Length: 1169, dtype: int64"
      ]
     },
     "execution_count": 128,
     "metadata": {},
     "output_type": "execute_result"
    }
   ],
   "source": [
    "data['year'] = data['date'].map(lambda x: x.year)\n",
    "data['year']"
   ]
  },
  {
   "cell_type": "code",
   "execution_count": 129,
   "id": "ff13b7e5",
   "metadata": {},
   "outputs": [
    {
     "data": {
      "text/html": [
       "<div>\n",
       "<style scoped>\n",
       "    .dataframe tbody tr th:only-of-type {\n",
       "        vertical-align: middle;\n",
       "    }\n",
       "\n",
       "    .dataframe tbody tr th {\n",
       "        vertical-align: top;\n",
       "    }\n",
       "\n",
       "    .dataframe thead th {\n",
       "        text-align: right;\n",
       "    }\n",
       "</style>\n",
       "<table border=\"1\" class=\"dataframe\">\n",
       "  <thead>\n",
       "    <tr style=\"text-align: right;\">\n",
       "      <th></th>\n",
       "      <th>date</th>\n",
       "      <th>winner</th>\n",
       "      <th>venue</th>\n",
       "      <th>first_team</th>\n",
       "      <th>second_team</th>\n",
       "      <th>first_runs</th>\n",
       "      <th>first_balls</th>\n",
       "      <th>first_overs</th>\n",
       "      <th>second_runs</th>\n",
       "      <th>second_balls</th>\n",
       "      <th>second_overs</th>\n",
       "      <th>net_run_rate</th>\n",
       "      <th>year</th>\n",
       "    </tr>\n",
       "  </thead>\n",
       "  <tbody>\n",
       "    <tr>\n",
       "      <th>592</th>\n",
       "      <td>2008-04-18</td>\n",
       "      <td>Kolkata Knight Riders</td>\n",
       "      <td>M Chinnaswamy Stadium</td>\n",
       "      <td>Kolkata Knight Riders</td>\n",
       "      <td>Royal Challengers Bangalore</td>\n",
       "      <td>222.0</td>\n",
       "      <td>120.0</td>\n",
       "      <td>20.0</td>\n",
       "      <td>82.0</td>\n",
       "      <td>91.0</td>\n",
       "      <td>15.1</td>\n",
       "      <td>7.0</td>\n",
       "      <td>2008</td>\n",
       "    </tr>\n",
       "  </tbody>\n",
       "</table>\n",
       "</div>"
      ],
      "text/plain": [
       "          date                 winner                  venue  \\\n",
       "592 2008-04-18  Kolkata Knight Riders  M Chinnaswamy Stadium   \n",
       "\n",
       "                first_team                  second_team  first_runs  \\\n",
       "592  Kolkata Knight Riders  Royal Challengers Bangalore       222.0   \n",
       "\n",
       "     first_balls  first_overs  second_runs  second_balls  second_overs  \\\n",
       "592        120.0         20.0         82.0          91.0          15.1   \n",
       "\n",
       "     net_run_rate  year  \n",
       "592           7.0  2008  "
      ]
     },
     "execution_count": 129,
     "metadata": {},
     "output_type": "execute_result"
    }
   ],
   "source": [
    "data.head(1)"
   ]
  },
  {
   "cell_type": "code",
   "execution_count": 130,
   "id": "779bfd69",
   "metadata": {},
   "outputs": [
    {
     "data": {
      "text/plain": [
       "(1161, 13)"
      ]
     },
     "execution_count": 130,
     "metadata": {},
     "output_type": "execute_result"
    }
   ],
   "source": [
    "data = data[data['winner'] != 'no result']\n",
    "data = data[~data['net_run_rate'].isna()]\n",
    "data.shape"
   ]
  },
  {
   "cell_type": "code",
   "execution_count": 131,
   "id": "275232ca",
   "metadata": {},
   "outputs": [],
   "source": [
    "# data.iloc[-1, :]"
   ]
  },
  {
   "cell_type": "code",
   "execution_count": 132,
   "id": "0a282923",
   "metadata": {
    "scrolled": true
   },
   "outputs": [
    {
     "data": {
      "text/plain": [
       "array(['Arun Jaitley Stadium', 'Arun Jaitley Stadium, Delhi',\n",
       "       'Barabati Stadium', 'Barsapara Cricket Stadium, Guwahati',\n",
       "       'Bharat Ratna Shri Atal Bihari Vajpayee Ekana Cricket Stadium, Lucknow',\n",
       "       'Brabourne Stadium', 'Brabourne Stadium, Mumbai', 'Buffalo Park',\n",
       "       'De Beers Diamond Oval', 'Dr DY Patil Sports Academy',\n",
       "       'Dr DY Patil Sports Academy, Mumbai',\n",
       "       'Dr. Y.S. Rajasekhara Reddy ACA-VDCA Cricket Stadium',\n",
       "       'Dr. Y.S. Rajasekhara Reddy ACA-VDCA Cricket Stadium, Visakhapatnam',\n",
       "       'Dubai International Cricket Stadium', 'Eden Gardens',\n",
       "       'Eden Gardens, Kolkata', 'Feroz Shah Kotla', 'Green Park',\n",
       "       'Himachal Pradesh Cricket Association Stadium',\n",
       "       'Himachal Pradesh Cricket Association Stadium, Dharamsala',\n",
       "       'Holkar Cricket Stadium', 'JSCA International Stadium Complex',\n",
       "       'Kingsmead', 'M Chinnaswamy Stadium',\n",
       "       'M Chinnaswamy Stadium, Bengaluru', 'M.Chinnaswamy Stadium',\n",
       "       'MA Chidambaram Stadium', 'MA Chidambaram Stadium, Chepauk',\n",
       "       'MA Chidambaram Stadium, Chepauk, Chennai',\n",
       "       'Maharaja Yadavindra Singh International Cricket Stadium, Mullanpur',\n",
       "       'Maharaja Yadavindra Singh International Cricket Stadium, New Chandigarh',\n",
       "       'Maharashtra Cricket Association Stadium',\n",
       "       'Maharashtra Cricket Association Stadium, Pune',\n",
       "       'Narendra Modi Stadium, Ahmedabad', 'Nehru Stadium',\n",
       "       'New Wanderers Stadium', 'Newlands', 'OUTsurance Oval',\n",
       "       'Punjab Cricket Association IS Bindra Stadium',\n",
       "       'Punjab Cricket Association IS Bindra Stadium, Mohali',\n",
       "       'Punjab Cricket Association IS Bindra Stadium, Mohali, Chandigarh',\n",
       "       'Punjab Cricket Association Stadium, Mohali',\n",
       "       'Rajiv Gandhi International Stadium',\n",
       "       'Rajiv Gandhi International Stadium, Uppal',\n",
       "       'Rajiv Gandhi International Stadium, Uppal, Hyderabad',\n",
       "       'Sardar Patel Stadium, Motera',\n",
       "       'Saurashtra Cricket Association Stadium', 'Sawai Mansingh Stadium',\n",
       "       'Sawai Mansingh Stadium, Jaipur',\n",
       "       'Shaheed Veer Narayan Singh International Stadium',\n",
       "       'Sharjah Cricket Stadium', 'Sheikh Zayed Stadium',\n",
       "       \"St George's Park\", 'Subrata Roy Sahara Stadium',\n",
       "       'SuperSport Park', 'Vidarbha Cricket Association Stadium, Jamtha',\n",
       "       'Wankhede Stadium', 'Wankhede Stadium, Mumbai',\n",
       "       'Zayed Cricket Stadium, Abu Dhabi'], dtype=object)"
      ]
     },
     "execution_count": 132,
     "metadata": {},
     "output_type": "execute_result"
    }
   ],
   "source": [
    "grounds = np.unique(data['venue'].values)\n",
    "grounds"
   ]
  },
  {
   "cell_type": "code",
   "execution_count": 133,
   "id": "7b755f3d",
   "metadata": {},
   "outputs": [],
   "source": [
    "# Generated with AI: check before utilizing\n",
    "grounds_to_home = {\n",
    "    'Arun Jaitley Stadium': 'Delhi Capitals',\n",
    "    'Arun Jaitley Stadium, Delhi': 'Delhi Capitals',\n",
    "    'Barabati Stadium': 'neutral',\n",
    "    'Barsapara Cricket Stadium, Guwahati': 'neutral',\n",
    "    'Bharat Ratna Shri Atal Bihari Vajpayee Ekana Cricket Stadium, Lucknow': 'Lucknow Super Giants',\n",
    "    'Brabourne Stadium': 'Mumbai Indians',\n",
    "    'Brabourne Stadium, Mumbai': 'Mumbai Indians',\n",
    "    'Buffalo Park': 'neutral',\n",
    "    'De Beers Diamond Oval': 'neutral',\n",
    "    'Dr DY Patil Sports Academy': 'Mumbai Indians',\n",
    "    'Dr DY Patil Sports Academy, Mumbai': 'Mumbai Indians',\n",
    "    'Dr. Y.S. Rajasekhara Reddy ACA-VDCA Cricket Stadium': 'neutral',\n",
    "    'Dr. Y.S. Rajasekhara Reddy ACA-VDCA Cricket Stadium, Visakhapatnam': 'neutral',\n",
    "    'Dubai International Cricket Stadium': 'neutral',\n",
    "    'Eden Gardens': 'Kolkata Knight Riders',\n",
    "    'Eden Gardens, Kolkata': 'Kolkata Knight Riders',\n",
    "    'Feroz Shah Kotla': 'Delhi Capitals',\n",
    "    'Green Park': 'neutral',\n",
    "    'Himachal Pradesh Cricket Association Stadium': 'neutral',\n",
    "    'Himachal Pradesh Cricket Association Stadium, Dharamsala': 'neutral',\n",
    "    'Holkar Cricket Stadium': 'neutral',\n",
    "    'JSCA International Stadium Complex': 'neutral',\n",
    "    'Kingsmead': 'neutral',\n",
    "    'M Chinnaswamy Stadium': 'Royal Challengers Bangalore',\n",
    "    'M Chinnaswamy Stadium, Bengaluru': 'Royal Challengers Bangalore',\n",
    "    'M.Chinnaswamy Stadium': 'Royal Challengers Bangalore',\n",
    "    'MA Chidambaram Stadium': 'Chennai Super Kings',\n",
    "    'MA Chidambaram Stadium, Chepauk': 'Chennai Super Kings',\n",
    "    'MA Chidambaram Stadium, Chepauk, Chennai': 'Chennai Super Kings',\n",
    "    'Maharaja Yadavindra Singh International Cricket Stadium, Mullanpur': 'Punjab Kings',\n",
    "    'Maharaja Yadavindra Singh International Cricket Stadium, New Chandigarh': 'Punjab Kings',\n",
    "    'Maharashtra Cricket Association Stadium': 'neutral',\n",
    "    'Maharashtra Cricket Association Stadium, Pune': 'neutral',\n",
    "    'Narendra Modi Stadium, Ahmedabad': 'Gujarat Titans',\n",
    "    'Nehru Stadium': 'neutral',\n",
    "    'New Wanderers Stadium': 'neutral',\n",
    "    'Newlands': 'neutral',\n",
    "    'OUTsurance Oval': 'neutral',\n",
    "    'Punjab Cricket Association IS Bindra Stadium': 'Punjab Kings',\n",
    "    'Punjab Cricket Association IS Bindra Stadium, Mohali': 'Punjab Kings',\n",
    "    'Punjab Cricket Association IS Bindra Stadium, Mohali, Chandigarh': 'Punjab Kings',\n",
    "    'Punjab Cricket Association Stadium, Mohali': 'Punjab Kings',\n",
    "    'Rajiv Gandhi International Stadium': 'Sunrisers Hyderabad',\n",
    "    'Rajiv Gandhi International Stadium, Uppal': 'Sunrisers Hyderabad',\n",
    "    'Rajiv Gandhi International Stadium, Uppal, Hyderabad': 'Sunrisers Hyderabad',\n",
    "    'Sardar Patel Stadium, Motera': 'Gujarat Titans',\n",
    "    'Saurashtra Cricket Association Stadium': 'neutral',\n",
    "    'Sawai Mansingh Stadium': 'Rajasthan Royals',\n",
    "    'Sawai Mansingh Stadium, Jaipur': 'Rajasthan Royals',\n",
    "    'Shaheed Veer Narayan Singh International Stadium': 'neutral',\n",
    "    'Sharjah Cricket Stadium': 'neutral',\n",
    "    'Sheikh Zayed Stadium': 'neutral',\n",
    "    \"St George's Park\": 'neutral',\n",
    "    'Subrata Roy Sahara Stadium': 'neutral',\n",
    "    'SuperSport Park': 'neutral',\n",
    "    'Vidarbha Cricket Association Stadium, Jamtha': 'neutral',\n",
    "    'Wankhede Stadium': 'Mumbai Indians',\n",
    "    'Wankhede Stadium, Mumbai': 'Mumbai Indians',\n",
    "    'Zayed Cricket Stadium, Abu Dhabi': 'neutral'\n",
    "}\n"
   ]
  },
  {
   "cell_type": "code",
   "execution_count": 134,
   "id": "ae57fa73",
   "metadata": {},
   "outputs": [
    {
     "data": {
      "text/plain": [
       "(59,)"
      ]
     },
     "execution_count": 134,
     "metadata": {},
     "output_type": "execute_result"
    }
   ],
   "source": [
    "grounds.shape"
   ]
  },
  {
   "cell_type": "code",
   "execution_count": 135,
   "id": "57274f17",
   "metadata": {},
   "outputs": [
    {
     "data": {
      "text/html": [
       "<div>\n",
       "<style scoped>\n",
       "    .dataframe tbody tr th:only-of-type {\n",
       "        vertical-align: middle;\n",
       "    }\n",
       "\n",
       "    .dataframe tbody tr th {\n",
       "        vertical-align: top;\n",
       "    }\n",
       "\n",
       "    .dataframe thead th {\n",
       "        text-align: right;\n",
       "    }\n",
       "</style>\n",
       "<table border=\"1\" class=\"dataframe\">\n",
       "  <thead>\n",
       "    <tr style=\"text-align: right;\">\n",
       "      <th></th>\n",
       "      <th>date</th>\n",
       "      <th>winner</th>\n",
       "      <th>venue</th>\n",
       "      <th>first_team</th>\n",
       "      <th>second_team</th>\n",
       "      <th>first_runs</th>\n",
       "      <th>first_balls</th>\n",
       "      <th>first_overs</th>\n",
       "      <th>second_runs</th>\n",
       "      <th>second_balls</th>\n",
       "      <th>second_overs</th>\n",
       "      <th>net_run_rate</th>\n",
       "      <th>year</th>\n",
       "      <th>venue_country</th>\n",
       "    </tr>\n",
       "  </thead>\n",
       "  <tbody>\n",
       "    <tr>\n",
       "      <th>592</th>\n",
       "      <td>2008-04-18</td>\n",
       "      <td>Kolkata Knight Riders</td>\n",
       "      <td>M Chinnaswamy Stadium</td>\n",
       "      <td>Kolkata Knight Riders</td>\n",
       "      <td>Royal Challengers Bangalore</td>\n",
       "      <td>222.0</td>\n",
       "      <td>120.0</td>\n",
       "      <td>20.0</td>\n",
       "      <td>82.0</td>\n",
       "      <td>91.0</td>\n",
       "      <td>15.1</td>\n",
       "      <td>7.000000</td>\n",
       "      <td>2008</td>\n",
       "      <td>Royal Challengers Bangalore</td>\n",
       "    </tr>\n",
       "    <tr>\n",
       "      <th>593</th>\n",
       "      <td>2008-04-19</td>\n",
       "      <td>Chennai Super Kings</td>\n",
       "      <td>Punjab Cricket Association Stadium, Mohali</td>\n",
       "      <td>Chennai Super Kings</td>\n",
       "      <td>Kings XI Punjab</td>\n",
       "      <td>240.0</td>\n",
       "      <td>120.0</td>\n",
       "      <td>20.0</td>\n",
       "      <td>207.0</td>\n",
       "      <td>120.0</td>\n",
       "      <td>20.0</td>\n",
       "      <td>1.650000</td>\n",
       "      <td>2008</td>\n",
       "      <td>Punjab Kings</td>\n",
       "    </tr>\n",
       "    <tr>\n",
       "      <th>594</th>\n",
       "      <td>2008-04-19</td>\n",
       "      <td>Delhi Daredevils</td>\n",
       "      <td>Feroz Shah Kotla</td>\n",
       "      <td>Rajasthan Royals</td>\n",
       "      <td>Delhi Daredevils</td>\n",
       "      <td>129.0</td>\n",
       "      <td>120.0</td>\n",
       "      <td>20.0</td>\n",
       "      <td>132.0</td>\n",
       "      <td>91.0</td>\n",
       "      <td>15.1</td>\n",
       "      <td>2.291722</td>\n",
       "      <td>2008</td>\n",
       "      <td>Delhi Capitals</td>\n",
       "    </tr>\n",
       "    <tr>\n",
       "      <th>596</th>\n",
       "      <td>2008-04-20</td>\n",
       "      <td>Kolkata Knight Riders</td>\n",
       "      <td>Eden Gardens</td>\n",
       "      <td>Deccan Chargers</td>\n",
       "      <td>Kolkata Knight Riders</td>\n",
       "      <td>110.0</td>\n",
       "      <td>112.0</td>\n",
       "      <td>18.4</td>\n",
       "      <td>112.0</td>\n",
       "      <td>114.0</td>\n",
       "      <td>19.0</td>\n",
       "      <td>-0.083524</td>\n",
       "      <td>2008</td>\n",
       "      <td>Kolkata Knight Riders</td>\n",
       "    </tr>\n",
       "    <tr>\n",
       "      <th>595</th>\n",
       "      <td>2008-04-20</td>\n",
       "      <td>Royal Challengers Bangalore</td>\n",
       "      <td>Wankhede Stadium</td>\n",
       "      <td>Mumbai Indians</td>\n",
       "      <td>Royal Challengers Bangalore</td>\n",
       "      <td>165.0</td>\n",
       "      <td>120.0</td>\n",
       "      <td>20.0</td>\n",
       "      <td>166.0</td>\n",
       "      <td>118.0</td>\n",
       "      <td>19.4</td>\n",
       "      <td>0.306701</td>\n",
       "      <td>2008</td>\n",
       "      <td>Mumbai Indians</td>\n",
       "    </tr>\n",
       "    <tr>\n",
       "      <th>...</th>\n",
       "      <td>...</td>\n",
       "      <td>...</td>\n",
       "      <td>...</td>\n",
       "      <td>...</td>\n",
       "      <td>...</td>\n",
       "      <td>...</td>\n",
       "      <td>...</td>\n",
       "      <td>...</td>\n",
       "      <td>...</td>\n",
       "      <td>...</td>\n",
       "      <td>...</td>\n",
       "      <td>...</td>\n",
       "      <td>...</td>\n",
       "      <td>...</td>\n",
       "    </tr>\n",
       "    <tr>\n",
       "      <th>586</th>\n",
       "      <td>2025-05-27</td>\n",
       "      <td>Royal Challengers Bengaluru</td>\n",
       "      <td>Bharat Ratna Shri Atal Bihari Vajpayee Ekana C...</td>\n",
       "      <td>Lucknow Super Giants</td>\n",
       "      <td>Royal Challengers Bengaluru</td>\n",
       "      <td>227.0</td>\n",
       "      <td>120.0</td>\n",
       "      <td>20.0</td>\n",
       "      <td>230.0</td>\n",
       "      <td>112.0</td>\n",
       "      <td>18.4</td>\n",
       "      <td>1.150000</td>\n",
       "      <td>2025</td>\n",
       "      <td>Lucknow Super Giants</td>\n",
       "    </tr>\n",
       "    <tr>\n",
       "      <th>587</th>\n",
       "      <td>2025-05-29</td>\n",
       "      <td>Royal Challengers Bengaluru</td>\n",
       "      <td>Maharaja Yadavindra Singh International Cricke...</td>\n",
       "      <td>Punjab Kings</td>\n",
       "      <td>Royal Challengers Bengaluru</td>\n",
       "      <td>101.0</td>\n",
       "      <td>85.0</td>\n",
       "      <td>14.1</td>\n",
       "      <td>106.0</td>\n",
       "      <td>60.0</td>\n",
       "      <td>10.0</td>\n",
       "      <td>3.436879</td>\n",
       "      <td>2025</td>\n",
       "      <td>Punjab Kings</td>\n",
       "    </tr>\n",
       "    <tr>\n",
       "      <th>588</th>\n",
       "      <td>2025-05-30</td>\n",
       "      <td>Mumbai Indians</td>\n",
       "      <td>Maharaja Yadavindra Singh International Cricke...</td>\n",
       "      <td>Mumbai Indians</td>\n",
       "      <td>Gujarat Titans</td>\n",
       "      <td>228.0</td>\n",
       "      <td>120.0</td>\n",
       "      <td>20.0</td>\n",
       "      <td>208.0</td>\n",
       "      <td>120.0</td>\n",
       "      <td>20.0</td>\n",
       "      <td>1.000000</td>\n",
       "      <td>2025</td>\n",
       "      <td>Punjab Kings</td>\n",
       "    </tr>\n",
       "    <tr>\n",
       "      <th>589</th>\n",
       "      <td>2025-06-01</td>\n",
       "      <td>Punjab Kings</td>\n",
       "      <td>Narendra Modi Stadium, Ahmedabad</td>\n",
       "      <td>Mumbai Indians</td>\n",
       "      <td>Punjab Kings</td>\n",
       "      <td>203.0</td>\n",
       "      <td>120.0</td>\n",
       "      <td>20.0</td>\n",
       "      <td>207.0</td>\n",
       "      <td>114.0</td>\n",
       "      <td>19.0</td>\n",
       "      <td>0.744737</td>\n",
       "      <td>2025</td>\n",
       "      <td>Gujarat Titans</td>\n",
       "    </tr>\n",
       "    <tr>\n",
       "      <th>590</th>\n",
       "      <td>2025-06-03</td>\n",
       "      <td>Royal Challengers Bengaluru</td>\n",
       "      <td>Narendra Modi Stadium, Ahmedabad</td>\n",
       "      <td>Royal Challengers Bengaluru</td>\n",
       "      <td>Punjab Kings</td>\n",
       "      <td>190.0</td>\n",
       "      <td>120.0</td>\n",
       "      <td>20.0</td>\n",
       "      <td>184.0</td>\n",
       "      <td>120.0</td>\n",
       "      <td>20.0</td>\n",
       "      <td>0.300000</td>\n",
       "      <td>2025</td>\n",
       "      <td>Gujarat Titans</td>\n",
       "    </tr>\n",
       "  </tbody>\n",
       "</table>\n",
       "<p>1161 rows × 14 columns</p>\n",
       "</div>"
      ],
      "text/plain": [
       "          date                       winner  \\\n",
       "592 2008-04-18        Kolkata Knight Riders   \n",
       "593 2008-04-19          Chennai Super Kings   \n",
       "594 2008-04-19             Delhi Daredevils   \n",
       "596 2008-04-20        Kolkata Knight Riders   \n",
       "595 2008-04-20  Royal Challengers Bangalore   \n",
       "..         ...                          ...   \n",
       "586 2025-05-27  Royal Challengers Bengaluru   \n",
       "587 2025-05-29  Royal Challengers Bengaluru   \n",
       "588 2025-05-30               Mumbai Indians   \n",
       "589 2025-06-01                 Punjab Kings   \n",
       "590 2025-06-03  Royal Challengers Bengaluru   \n",
       "\n",
       "                                                 venue  \\\n",
       "592                              M Chinnaswamy Stadium   \n",
       "593         Punjab Cricket Association Stadium, Mohali   \n",
       "594                                   Feroz Shah Kotla   \n",
       "596                                       Eden Gardens   \n",
       "595                                   Wankhede Stadium   \n",
       "..                                                 ...   \n",
       "586  Bharat Ratna Shri Atal Bihari Vajpayee Ekana C...   \n",
       "587  Maharaja Yadavindra Singh International Cricke...   \n",
       "588  Maharaja Yadavindra Singh International Cricke...   \n",
       "589                   Narendra Modi Stadium, Ahmedabad   \n",
       "590                   Narendra Modi Stadium, Ahmedabad   \n",
       "\n",
       "                      first_team                  second_team  first_runs  \\\n",
       "592        Kolkata Knight Riders  Royal Challengers Bangalore       222.0   \n",
       "593          Chennai Super Kings              Kings XI Punjab       240.0   \n",
       "594             Rajasthan Royals             Delhi Daredevils       129.0   \n",
       "596              Deccan Chargers        Kolkata Knight Riders       110.0   \n",
       "595               Mumbai Indians  Royal Challengers Bangalore       165.0   \n",
       "..                           ...                          ...         ...   \n",
       "586         Lucknow Super Giants  Royal Challengers Bengaluru       227.0   \n",
       "587                 Punjab Kings  Royal Challengers Bengaluru       101.0   \n",
       "588               Mumbai Indians               Gujarat Titans       228.0   \n",
       "589               Mumbai Indians                 Punjab Kings       203.0   \n",
       "590  Royal Challengers Bengaluru                 Punjab Kings       190.0   \n",
       "\n",
       "     first_balls  first_overs  second_runs  second_balls  second_overs  \\\n",
       "592        120.0         20.0         82.0          91.0          15.1   \n",
       "593        120.0         20.0        207.0         120.0          20.0   \n",
       "594        120.0         20.0        132.0          91.0          15.1   \n",
       "596        112.0         18.4        112.0         114.0          19.0   \n",
       "595        120.0         20.0        166.0         118.0          19.4   \n",
       "..           ...          ...          ...           ...           ...   \n",
       "586        120.0         20.0        230.0         112.0          18.4   \n",
       "587         85.0         14.1        106.0          60.0          10.0   \n",
       "588        120.0         20.0        208.0         120.0          20.0   \n",
       "589        120.0         20.0        207.0         114.0          19.0   \n",
       "590        120.0         20.0        184.0         120.0          20.0   \n",
       "\n",
       "     net_run_rate  year                venue_country  \n",
       "592      7.000000  2008  Royal Challengers Bangalore  \n",
       "593      1.650000  2008                 Punjab Kings  \n",
       "594      2.291722  2008               Delhi Capitals  \n",
       "596     -0.083524  2008        Kolkata Knight Riders  \n",
       "595      0.306701  2008               Mumbai Indians  \n",
       "..            ...   ...                          ...  \n",
       "586      1.150000  2025         Lucknow Super Giants  \n",
       "587      3.436879  2025                 Punjab Kings  \n",
       "588      1.000000  2025                 Punjab Kings  \n",
       "589      0.744737  2025               Gujarat Titans  \n",
       "590      0.300000  2025               Gujarat Titans  \n",
       "\n",
       "[1161 rows x 14 columns]"
      ]
     },
     "execution_count": 135,
     "metadata": {},
     "output_type": "execute_result"
    }
   ],
   "source": [
    "data['venue_country'] = data['venue'].map(lambda x: grounds_to_home[x])\n",
    "data"
   ]
  },
  {
   "cell_type": "code",
   "execution_count": 136,
   "id": "5ea5bb0b",
   "metadata": {},
   "outputs": [],
   "source": [
    "# np.unique(data['venue_country'].values)"
   ]
  },
  {
   "cell_type": "code",
   "execution_count": 137,
   "id": "d7ea1621",
   "metadata": {},
   "outputs": [],
   "source": [
    "# data['venue_country'] = data['venue_country'].map(lambda x: 'West Indies' if x in ['Antigua and Barbuda', 'Grenada', 'Guyana', 'Jamaica',\n",
    "#                                                                    'Saint Lucia', 'Saint Vincent and the Grenadines', 'Barbados',\n",
    "#                                                                    'Trinidad and Tobago'] else x)\n",
    "# data['venue_country'] = data['venue_country'].map(lambda x: 'Scotland' if x == 'Scotland (United Kingdom)' else\n",
    "#                                                  ('Wales' if x == 'Wales (United Kingdom)' else\n",
    "#                                                  ('Northern Ireland' if x == 'Northern Ireland (United Kingdom)' else x)))\n",
    "# data['venue_country']"
   ]
  },
  {
   "cell_type": "code",
   "execution_count": 138,
   "id": "4e36a068",
   "metadata": {},
   "outputs": [],
   "source": [
    "data = data.replace({'Rising Pune Supergiants':'Rising Pune Supergiant',\n",
    "                                                'Royal Challengers Bangalore': 'Royal Challengers Bengaluru',\n",
    "                    'Delhi Daredevils':'Delhi Capitals',\n",
    "                    'Kings XI Punjab': 'Punjab Kings',\n",
    "                    'Deccan Chargers': 'Sunrisers Hyderabad'})"
   ]
  },
  {
   "cell_type": "code",
   "execution_count": 139,
   "id": "006f7f1e",
   "metadata": {},
   "outputs": [],
   "source": [
    "# data = data[data['year'] != 2020]"
   ]
  },
  {
   "cell_type": "code",
   "execution_count": 140,
   "id": "e2d216e2",
   "metadata": {},
   "outputs": [
    {
     "data": {
      "text/plain": [
       "array(['Chennai Super Kings', 'Delhi Capitals', 'Gujarat Lions',\n",
       "       'Gujarat Titans', 'Kochi Tuskers Kerala', 'Kolkata Knight Riders',\n",
       "       'Lucknow Super Giants', 'Mumbai Indians', 'Pune Warriors',\n",
       "       'Punjab Kings', 'Rajasthan Royals', 'Rising Pune Supergiant',\n",
       "       'Royal Challengers Bengaluru', 'Sunrisers Hyderabad'], dtype=object)"
      ]
     },
     "execution_count": 140,
     "metadata": {},
     "output_type": "execute_result"
    }
   ],
   "source": [
    "teams = np.unique(np.append(data['first_team'].values, data['second_team'].values))\n",
    "teams"
   ]
  },
  {
   "cell_type": "code",
   "execution_count": 141,
   "id": "45518e68",
   "metadata": {},
   "outputs": [
    {
     "data": {
      "text/plain": [
       "array(['Chennai Super Kings', 'Delhi Capitals', 'Gujarat Titans',\n",
       "       'Kolkata Knight Riders', 'Lucknow Super Giants', 'Mumbai Indians',\n",
       "       'Punjab Kings', 'Rajasthan Royals', 'Royal Challengers Bengaluru',\n",
       "       'Sunrisers Hyderabad', 'neutral'], dtype=object)"
      ]
     },
     "execution_count": 141,
     "metadata": {},
     "output_type": "execute_result"
    }
   ],
   "source": [
    "np.unique(data['venue_country'].values)"
   ]
  },
  {
   "cell_type": "code",
   "execution_count": 142,
   "id": "774231a2",
   "metadata": {},
   "outputs": [
    {
     "data": {
      "text/plain": [
       "array(['Chennai Super Kings', 'Delhi Capitals', 'Gujarat Lions',\n",
       "       'Gujarat Titans', 'Kochi Tuskers Kerala', 'Kolkata Knight Riders',\n",
       "       'Lucknow Super Giants', 'Mumbai Indians', 'Pune Warriors',\n",
       "       'Punjab Kings', 'Rajasthan Royals', 'Rising Pune Supergiant',\n",
       "       'Royal Challengers Bengaluru', 'Sunrisers Hyderabad'], dtype=object)"
      ]
     },
     "execution_count": 142,
     "metadata": {},
     "output_type": "execute_result"
    }
   ],
   "source": [
    "np.unique(np.append(data['first_team'].values, data['second_team'].values))"
   ]
  },
  {
   "cell_type": "code",
   "execution_count": 143,
   "id": "05aca3f9",
   "metadata": {},
   "outputs": [],
   "source": [
    "sample_Ks = np.arange(7, 120, 0.5)\n",
    "sample_alphas = np.arange(100, 800, 1)"
   ]
  },
  {
   "cell_type": "code",
   "execution_count": 144,
   "id": "4c8bbae0",
   "metadata": {},
   "outputs": [],
   "source": [
    "def crossent_cond(params):\n",
    "    K, alpha, hga, mean_rev_const = params\n",
    "    ce_score = brier(data, intl_elos, K=K, alpha=alpha, hga=hga, mean_rev_const=mean_rev_const)\n",
    "    return ce_score"
   ]
  },
  {
   "cell_type": "code",
   "execution_count": 145,
   "id": "ca36197c",
   "metadata": {
    "scrolled": true
   },
   "outputs": [
    {
     "data": {
      "text/plain": [
       "{'Chennai Super Kings': 1500,\n",
       " 'Delhi Capitals': 1500,\n",
       " 'Gujarat Lions': 1500,\n",
       " 'Gujarat Titans': 1500,\n",
       " 'Kochi Tuskers Kerala': 1500,\n",
       " 'Kolkata Knight Riders': 1500,\n",
       " 'Lucknow Super Giants': 1500,\n",
       " 'Mumbai Indians': 1500,\n",
       " 'Pune Warriors': 1500,\n",
       " 'Punjab Kings': 1500,\n",
       " 'Rajasthan Royals': 1500,\n",
       " 'Rising Pune Supergiant': 1500,\n",
       " 'Royal Challengers Bengaluru': 1500,\n",
       " 'Sunrisers Hyderabad': 1500}"
      ]
     },
     "execution_count": 145,
     "metadata": {},
     "output_type": "execute_result"
    }
   ],
   "source": [
    "intl_elos = {key: 1500 for key in teams}\n",
    "intl_elos # At start"
   ]
  },
  {
   "cell_type": "code",
   "execution_count": 146,
   "id": "099c593c",
   "metadata": {},
   "outputs": [],
   "source": [
    "# intl_elos.values()"
   ]
  },
  {
   "cell_type": "code",
   "execution_count": null,
   "id": "ed6db060",
   "metadata": {
    "scrolled": true
   },
   "outputs": [],
   "source": [
    "x0 = [100, 400, 80, 0.3]\n",
    "bounds = [(15, 150), (200, 600), (0, 1000), (0, 1)]\n",
    "res = opt.minimize(crossent_cond, x0, bounds=bounds)\n",
    "K_opt, alpha_opt, hga_opt, mrc_opt = res.x\n",
    "err = res.fun\n",
    "K_opt, alpha_opt, hga_opt, mrc_opt, err"
   ]
  },
  {
   "cell_type": "code",
   "execution_count": null,
   "id": "b74a7206",
   "metadata": {},
   "outputs": [],
   "source": [
    "# Get optimized results from above later once you're done fixing above!\n",
    "# K_opt, alpha_opt, hga_opt = 80.3223654592129, 502.2928412067084, 72.45113954192632"
   ]
  },
  {
   "cell_type": "code",
   "execution_count": null,
   "id": "919c2b6b",
   "metadata": {
    "scrolled": false
   },
   "outputs": [],
   "source": [
    "# K = 69.5\n",
    "# alpha = 509\n",
    "# K_opt = 38\n",
    "elo_sample_dict = generate_elo_ratings(data, intl_elos, K=K_opt, alpha=alpha_opt, hga=hga_opt, mean_rev_const=mrc_opt)\n",
    "dict(sorted(elo_sample_dict.items(), key=lambda item: item[1], reverse=True))"
   ]
  },
  {
   "cell_type": "code",
   "execution_count": null,
   "id": "9931225c",
   "metadata": {},
   "outputs": [],
   "source": [
    "# prob_win_country_A(elo_sample_dict, 'Nepal', 'Netherlands', venue_country='Scotland', alpha=alpha_opt, hga=hga_opt)"
   ]
  },
  {
   "cell_type": "code",
   "execution_count": null,
   "id": "301dce82",
   "metadata": {},
   "outputs": [],
   "source": [
    "brier_score = brier(data, intl_elos, K=K_opt, alpha=alpha_opt, hga=hga_opt, mean_rev_const=mrc_opt)\n",
    "brier_score"
   ]
  },
  {
   "cell_type": "code",
   "execution_count": null,
   "id": "e66fa436",
   "metadata": {},
   "outputs": [],
   "source": [
    "cross_ent_loss = cross_entropy(data, intl_elos, K=K_opt, alpha=alpha_opt, hga=hga_opt, mean_rev_const=mrc_opt)\n",
    "cross_ent_loss"
   ]
  },
  {
   "cell_type": "code",
   "execution_count": null,
   "id": "492f21e5",
   "metadata": {},
   "outputs": [],
   "source": [
    "correct = correctness(data, intl_elos, K=K_opt, alpha=alpha_opt, hga=hga_opt, mean_rev_const=mrc_opt)\n",
    "correct"
   ]
  },
  {
   "cell_type": "code",
   "execution_count": 362,
   "id": "315bc7f4",
   "metadata": {},
   "outputs": [
    {
     "data": {
      "text/plain": [
       "array([[  7. , 100. ],\n",
       "       [  7. , 101. ],\n",
       "       [  7. , 102. ],\n",
       "       ...,\n",
       "       [119.5, 797. ],\n",
       "       [119.5, 798. ],\n",
       "       [119.5, 799. ]])"
      ]
     },
     "execution_count": 362,
     "metadata": {},
     "output_type": "execute_result"
    }
   ],
   "source": [
    "K_alpha = np.array(np.meshgrid(sample_Ks, sample_alphas)).T.reshape(-1, 2)\n",
    "K_alpha"
   ]
  },
  {
   "cell_type": "code",
   "execution_count": 512,
   "id": "925e77e5",
   "metadata": {
    "scrolled": true
   },
   "outputs": [
    {
     "name": "stderr",
     "output_type": "stream",
     "text": [
      "100%|████████████████████████████████████████████████████████████████████████████████| 700/700 [04:09<00:00,  2.80it/s]\n"
     ]
    }
   ],
   "source": [
    "gen_briers = []\n",
    "K = 56.5\n",
    "alpha = 400\n",
    "\n",
    "for alpha in tqdm(sample_alphas):\n",
    "    elo_sample_dict = generate_elo_ratings(data, intl_elos, K, alpha)\n",
    "    brier_score = brier(data, intl_elos, K, alpha=alpha)\n",
    "    \n",
    "    gen_briers.append(brier_score)"
   ]
  },
  {
   "cell_type": "code",
   "execution_count": 513,
   "id": "e50fae4f",
   "metadata": {},
   "outputs": [
    {
     "data": {
      "text/plain": [
       "array([0.49178424, 0.49098234, 0.49019677, 0.48942709, 0.48867286,\n",
       "       0.48793366, 0.48720909, 0.48649876, 0.48580229, 0.48511932,\n",
       "       0.4844495 , 0.48379249, 0.48314795, 0.48251558, 0.48189507,\n",
       "       0.48128612, 0.48068844, 0.48010176, 0.4795258 , 0.47896032,\n",
       "       0.47840504, 0.47785974, 0.47732418, 0.47679812, 0.47628135,\n",
       "       0.47577365, 0.47527481, 0.47478463, 0.47430291, 0.47382947,\n",
       "       0.47336412, 0.47290667, 0.47245696, 0.47201482, 0.47158008,\n",
       "       0.47115259, 0.47073218, 0.47031871, 0.46991203, 0.469512  ,\n",
       "       0.46911848, 0.46873133, 0.46835043, 0.46797565, 0.46760686,\n",
       "       0.46724394, 0.46688678, 0.46653525, 0.46618926, 0.46584868,\n",
       "       0.46551342, 0.46518337, 0.46485842, 0.46453849, 0.46422348,\n",
       "       0.46391328, 0.46360782, 0.463307  , 0.46301073, 0.46271894,\n",
       "       0.46243153, 0.46214843, 0.46186955, 0.46159483, 0.46132419,\n",
       "       0.46105755, 0.46079484, 0.46053599, 0.46028093, 0.4600296 ,\n",
       "       0.45978193, 0.45953785, 0.45929731, 0.45906024, 0.45882658,\n",
       "       0.45859627, 0.45836926, 0.45814549, 0.45792491, 0.45770746,\n",
       "       0.45749309, 0.45728174, 0.45707337, 0.45686793, 0.45666537,\n",
       "       0.45646564, 0.4562687 , 0.4560745 , 0.45588299, 0.45569414,\n",
       "       0.45550789, 0.45532422, 0.45514307, 0.4549644 , 0.45478819,\n",
       "       0.45461438, 0.45444295, 0.45427384, 0.45410704, 0.45394249,\n",
       "       0.45378018, 0.45362005, 0.45346209, 0.45330625, 0.4531525 ,\n",
       "       0.45300081, 0.45285116, 0.4527035 , 0.45255781, 0.45241406,\n",
       "       0.45227223, 0.45213227, 0.45199418, 0.4518579 , 0.45172343,\n",
       "       0.45159074, 0.45145979, 0.45133056, 0.45120303, 0.45107718,\n",
       "       0.45095297, 0.45083039, 0.45070941, 0.45059001, 0.45047217,\n",
       "       0.45035586, 0.45024106, 0.45012776, 0.45001593, 0.44990555,\n",
       "       0.44979659, 0.44968905, 0.4495829 , 0.44947812, 0.44937469,\n",
       "       0.4492726 , 0.44917182, 0.44907234, 0.44897414, 0.4488772 ,\n",
       "       0.44878151, 0.44868705, 0.4485938 , 0.44850174, 0.44841087,\n",
       "       0.44832116, 0.4482326 , 0.44814518, 0.44805887, 0.44797367,\n",
       "       0.44788955, 0.44780652, 0.44772454, 0.44764361, 0.44756372,\n",
       "       0.44748485, 0.44740698, 0.44733011, 0.44725422, 0.44717931,\n",
       "       0.44710534, 0.44703233, 0.44696024, 0.44688908, 0.44681883,\n",
       "       0.44674947, 0.44668101, 0.44661342, 0.44654669, 0.44648082,\n",
       "       0.44641579, 0.44635159, 0.44628822, 0.44622566, 0.44616391,\n",
       "       0.44610294, 0.44604277, 0.44598336, 0.44592472, 0.44586683,\n",
       "       0.44580969, 0.44575329, 0.44569762, 0.44564267, 0.44558842,\n",
       "       0.44553488, 0.44548204, 0.44542988, 0.4453784 , 0.44532759,\n",
       "       0.44527744, 0.44522794, 0.44517909, 0.44513089, 0.44508331,\n",
       "       0.44503636, 0.44499002, 0.4449443 , 0.44489917, 0.44485465,\n",
       "       0.44481071, 0.44476736, 0.44472458, 0.44468237, 0.44464072,\n",
       "       0.44459963, 0.44455909, 0.4445191 , 0.44447964, 0.44444072,\n",
       "       0.44440232, 0.44436444, 0.44432707, 0.44429022, 0.44425386,\n",
       "       0.44421801, 0.44418264, 0.44414776, 0.44411337, 0.44407944,\n",
       "       0.44404599, 0.44401301, 0.44398048, 0.44394841, 0.44391679,\n",
       "       0.44388562, 0.44385488, 0.44382459, 0.44379472, 0.44376528,\n",
       "       0.44373626, 0.44370766, 0.44367948, 0.4436517 , 0.44362432,\n",
       "       0.44359735, 0.44357077, 0.44354458, 0.44351879, 0.44349337,\n",
       "       0.44346833, 0.44344367, 0.44341938, 0.44339546, 0.4433719 ,\n",
       "       0.4433487 , 0.44332586, 0.44330337, 0.44328123, 0.44325944,\n",
       "       0.44323798, 0.44321687, 0.44319609, 0.44317564, 0.44315552,\n",
       "       0.44313572, 0.44311625, 0.44309709, 0.44307825, 0.44305972,\n",
       "       0.44304149, 0.44302358, 0.44300596, 0.44298865, 0.44297163,\n",
       "       0.4429549 , 0.44293847, 0.44292232, 0.44290645, 0.44289087,\n",
       "       0.44287557, 0.44286054, 0.44284579, 0.44283131, 0.44281709,\n",
       "       0.44280314, 0.44278946, 0.44277603, 0.44276286, 0.44274995,\n",
       "       0.44273729, 0.44272487, 0.44271271, 0.44270079, 0.44268912,\n",
       "       0.44267768, 0.44266649, 0.44265553, 0.4426448 , 0.44263431,\n",
       "       0.44262404, 0.442614  , 0.44260419, 0.4425946 , 0.44258523,\n",
       "       0.44257607, 0.44256714, 0.44255842, 0.44254991, 0.44254161,\n",
       "       0.44253352, 0.44252563, 0.44251795, 0.44251047, 0.4425032 ,\n",
       "       0.44249612, 0.44248923, 0.44248255, 0.44247605, 0.44246975,\n",
       "       0.44246364, 0.44245771, 0.44245197, 0.44244641, 0.44244104,\n",
       "       0.44243585, 0.44243083, 0.442426  , 0.44242134, 0.44241685,\n",
       "       0.44241253, 0.44240839, 0.44240442, 0.44240061, 0.44239697,\n",
       "       0.4423935 , 0.44239019, 0.44238704, 0.44238405, 0.44238122,\n",
       "       0.44237854, 0.44237603, 0.44237366, 0.44237145, 0.44236939,\n",
       "       0.44236749, 0.44236573, 0.44236412, 0.44236265, 0.44236133,\n",
       "       0.44236016, 0.44235912, 0.44235823, 0.44235747, 0.44235686,\n",
       "       0.44235638, 0.44235604, 0.44235583, 0.44235576, 0.44235582,\n",
       "       0.44235601, 0.44235633, 0.44235678, 0.44235736, 0.44235806,\n",
       "       0.44235889, 0.44235985, 0.44236093, 0.44236212, 0.44236345,\n",
       "       0.44236489, 0.44236645, 0.44236812, 0.44236992, 0.44237183,\n",
       "       0.44237385, 0.44237599, 0.44237824, 0.44238061, 0.44238308,\n",
       "       0.44238566, 0.44238836, 0.44239116, 0.44239407, 0.44239708,\n",
       "       0.4424002 , 0.44240342, 0.44240675, 0.44241018, 0.44241371,\n",
       "       0.44241734, 0.44242107, 0.4424249 , 0.44242883, 0.44243285,\n",
       "       0.44243697, 0.44244119, 0.4424455 , 0.44244991, 0.4424544 ,\n",
       "       0.44245899, 0.44246368, 0.44246845, 0.44247331, 0.44247826,\n",
       "       0.4424833 , 0.44248843, 0.44249364, 0.44249894, 0.44250432,\n",
       "       0.44250979, 0.44251535, 0.44252098, 0.4425267 , 0.4425325 ,\n",
       "       0.44253838, 0.44254434, 0.44255038, 0.4425565 , 0.4425627 ,\n",
       "       0.44256898, 0.44257533, 0.44258176, 0.44258826, 0.44259484,\n",
       "       0.44260149, 0.44260822, 0.44261502, 0.44262189, 0.44262884,\n",
       "       0.44263585, 0.44264294, 0.44265009, 0.44265732, 0.44266461,\n",
       "       0.44267197, 0.4426794 , 0.4426869 , 0.44269446, 0.44270209,\n",
       "       0.44270978, 0.44271754, 0.44272536, 0.44273325, 0.4427412 ,\n",
       "       0.44274921, 0.44275729, 0.44276542, 0.44277362, 0.44278187,\n",
       "       0.44279019, 0.44279857, 0.442807  , 0.44281549, 0.44282405,\n",
       "       0.44283265, 0.44284132, 0.44285004, 0.44285882, 0.44286765,\n",
       "       0.44287654, 0.44288548, 0.44289448, 0.44290353, 0.44291263,\n",
       "       0.44292179, 0.442931  , 0.44294026, 0.44294957, 0.44295893,\n",
       "       0.44296835, 0.44297781, 0.44298732, 0.44299688, 0.4430065 ,\n",
       "       0.44301615, 0.44302586, 0.44303562, 0.44304542, 0.44305527,\n",
       "       0.44306516, 0.4430751 , 0.44308509, 0.44309512, 0.44310519,\n",
       "       0.44311531, 0.44312548, 0.44313569, 0.44314594, 0.44315623,\n",
       "       0.44316657, 0.44317695, 0.44318737, 0.44319783, 0.44320833,\n",
       "       0.44321887, 0.44322946, 0.44324008, 0.44325075, 0.44326145,\n",
       "       0.44327219, 0.44328297, 0.44329379, 0.44330465, 0.44331554,\n",
       "       0.44332647, 0.44333744, 0.44334845, 0.44335949, 0.44337057,\n",
       "       0.44338168, 0.44339283, 0.44340401, 0.44341523, 0.44342648,\n",
       "       0.44343777, 0.44344909, 0.44346045, 0.44347184, 0.44348326,\n",
       "       0.44349471, 0.4435062 , 0.44351772, 0.44352927, 0.44354085,\n",
       "       0.44355246, 0.44356411, 0.44357578, 0.44358749, 0.44359922,\n",
       "       0.44361099, 0.44362278, 0.44363461, 0.44364646, 0.44365835,\n",
       "       0.44367026, 0.4436822 , 0.44369417, 0.44370616, 0.44371819,\n",
       "       0.44373024, 0.44374231, 0.44375442, 0.44376655, 0.44377871,\n",
       "       0.44379089, 0.4438031 , 0.44381534, 0.4438276 , 0.44383989,\n",
       "       0.4438522 , 0.44386454, 0.4438769 , 0.44388928, 0.44390169,\n",
       "       0.44391413, 0.44392658, 0.44393906, 0.44395157, 0.44396409,\n",
       "       0.44397664, 0.44398922, 0.44400181, 0.44401443, 0.44402707,\n",
       "       0.44403973, 0.44405241, 0.44406511, 0.44407784, 0.44409059,\n",
       "       0.44410335, 0.44411614, 0.44412895, 0.44414178, 0.44415462,\n",
       "       0.44416749, 0.44418038, 0.44419329, 0.44420621, 0.44421916,\n",
       "       0.44423212, 0.4442451 , 0.44425811, 0.44427113, 0.44428416,\n",
       "       0.44429722, 0.44431029, 0.44432338, 0.44433649, 0.44434962,\n",
       "       0.44436276, 0.44437592, 0.4443891 , 0.44440229, 0.44441551,\n",
       "       0.44442873, 0.44444198, 0.44445523, 0.44446851, 0.4444818 ,\n",
       "       0.44449511, 0.44450843, 0.44452176, 0.44453512, 0.44454848,\n",
       "       0.44456186, 0.44457526, 0.44458867, 0.44460209, 0.44461553,\n",
       "       0.44462899, 0.44464245, 0.44465593, 0.44466943, 0.44468294,\n",
       "       0.44469646, 0.44470999, 0.44472354, 0.4447371 , 0.44475067,\n",
       "       0.44476426, 0.44477785, 0.44479146, 0.44480509, 0.44481872,\n",
       "       0.44483237, 0.44484603, 0.4448597 , 0.44487338, 0.44488707,\n",
       "       0.44490077, 0.44491449, 0.44492822, 0.44494195, 0.4449557 ,\n",
       "       0.44496946, 0.44498323, 0.44499701, 0.4450108 , 0.4450246 ,\n",
       "       0.44503841, 0.44505223, 0.44506606, 0.4450799 , 0.44509375,\n",
       "       0.44510761, 0.44512148, 0.44513536, 0.44514925, 0.44516315,\n",
       "       0.44517705, 0.44519096, 0.44520489, 0.44521882, 0.44523276,\n",
       "       0.44524671, 0.44526067, 0.44527463, 0.4452886 , 0.44530259,\n",
       "       0.44531658, 0.44533057, 0.44534458, 0.44535859, 0.44537261,\n",
       "       0.44538664, 0.44540067, 0.44541471, 0.44542876, 0.44544282,\n",
       "       0.44545688, 0.44547095, 0.44548503, 0.44549911, 0.4455132 ,\n",
       "       0.4455273 , 0.4455414 , 0.44555551, 0.44556963, 0.44558375,\n",
       "       0.44559787, 0.44561201, 0.44562615, 0.44564029, 0.44565444,\n",
       "       0.4456686 , 0.44568276, 0.44569693, 0.4457111 , 0.44572528,\n",
       "       0.44573946, 0.44575365, 0.44576784, 0.44578204, 0.44579624,\n",
       "       0.44581045, 0.44582466, 0.44583888, 0.4458531 , 0.44586733,\n",
       "       0.44588156, 0.44589579, 0.44591003, 0.44592427, 0.44593852,\n",
       "       0.44595277, 0.44596703, 0.44598129, 0.44599555, 0.44600982])"
      ]
     },
     "execution_count": 513,
     "metadata": {},
     "output_type": "execute_result"
    }
   ],
   "source": [
    "gen_briers = np.array(gen_briers)\n",
    "gen_briers"
   ]
  },
  {
   "cell_type": "code",
   "execution_count": 514,
   "id": "ec049499",
   "metadata": {},
   "outputs": [
    {
     "data": {
      "text/plain": [
       "Text(0, 0.5, 'Brier score')"
      ]
     },
     "execution_count": 514,
     "metadata": {},
     "output_type": "execute_result"
    },
    {
     "data": {
      "image/png": "[encoded data removed]",
      "text/plain": [
       "<Figure size 640x480 with 1 Axes>"
      ]
     },
     "metadata": {},
     "output_type": "display_data"
    }
   ],
   "source": [
    "plt.plot(sample_alphas, gen_briers)\n",
    "plt.xlabel(r'$\\alpha$')\n",
    "plt.ylabel('Brier score')"
   ]
  },
  {
   "cell_type": "code",
   "execution_count": 515,
   "id": "0d3f8ef9",
   "metadata": {},
   "outputs": [
    {
     "data": {
      "text/plain": [
       "448"
      ]
     },
     "execution_count": 515,
     "metadata": {},
     "output_type": "execute_result"
    }
   ],
   "source": [
    "ind = np.where(gen_briers == np.min(gen_briers))[0][0]\n",
    "opt_alpha = sample_alphas[ind]\n",
    "opt_alpha"
   ]
  },
  {
   "cell_type": "code",
   "execution_count": 516,
   "id": "975c5b08",
   "metadata": {},
   "outputs": [
    {
     "data": {
      "text/plain": [
       "0.4423557619999428"
      ]
     },
     "execution_count": 516,
     "metadata": {},
     "output_type": "execute_result"
    }
   ],
   "source": [
    "np.min(gen_briers)"
   ]
  },
  {
   "cell_type": "code",
   "execution_count": 523,
   "id": "f85d46dd",
   "metadata": {},
   "outputs": [
    {
     "name": "stderr",
     "output_type": "stream",
     "text": [
      "100%|████████████████████████████████████████████████████████████████████████████████| 700/700 [04:20<00:00,  2.69it/s]\n"
     ]
    }
   ],
   "source": [
    "gen_losses = []\n",
    "K = 62\n",
    "alpha = 448\n",
    "\n",
    "for alpha in tqdm(sample_alphas):\n",
    "    elo_sample_dict = generate_elo_ratings(data, intl_elos, K, alpha)\n",
    "    loss = cross_entropy(data, intl_elos, K, alpha=alpha)\n",
    "    \n",
    "    gen_losses.append(loss)"
   ]
  },
  {
   "cell_type": "code",
   "execution_count": 524,
   "id": "2135b633",
   "metadata": {},
   "outputs": [
    {
     "data": {
      "text/plain": [
       "array([0.76236174, 0.75990838, 0.75752095, 0.75519705, 0.75293436,\n",
       "       0.7507307 , 0.74858397, 0.74649217, 0.74445338, 0.74246579,\n",
       "       0.74052763, 0.73863725, 0.73679304, 0.73499348, 0.73323709,\n",
       "       0.73152247, 0.72984827, 0.72821322, 0.72661606, 0.72505561,\n",
       "       0.72353073, 0.72204033, 0.72058336, 0.7191588 , 0.71776568,\n",
       "       0.71640308, 0.71507009, 0.71376585, 0.71248952, 0.71124032,\n",
       "       0.71001746, 0.7088202 , 0.70764783, 0.70649966, 0.70537502,\n",
       "       0.70427328, 0.7031938 , 0.702136  , 0.70109929, 0.70008312,\n",
       "       0.69908695, 0.69811027, 0.69715256, 0.69621334, 0.69529214,\n",
       "       0.69438851, 0.69350201, 0.6926322 , 0.69177869, 0.69094106,\n",
       "       0.69011893, 0.68931194, 0.68851971, 0.68774189, 0.68697815,\n",
       "       0.68622814, 0.68549156, 0.68476809, 0.68405743, 0.68335928,\n",
       "       0.68267337, 0.68199941, 0.68133713, 0.68068628, 0.68004661,\n",
       "       0.67941786, 0.6787998 , 0.6781922 , 0.67759483, 0.67700747,\n",
       "       0.67642991, 0.67586194, 0.67530335, 0.67475396, 0.67421356,\n",
       "       0.67368198, 0.67315903, 0.67264453, 0.67213832, 0.67164022,\n",
       "       0.67115007, 0.67066771, 0.670193  , 0.66972576, 0.66926587,\n",
       "       0.66881317, 0.66836753, 0.6679288 , 0.66749686, 0.66707157,\n",
       "       0.66665281, 0.66624046, 0.66583438, 0.66543447, 0.66504061,\n",
       "       0.66465269, 0.6642706 , 0.66389422, 0.66352346, 0.66315821,\n",
       "       0.66279838, 0.66244385, 0.66209455, 0.66175038, 0.66141124,\n",
       "       0.66107704, 0.66074771, 0.66042314, 0.66010327, 0.659788  ,\n",
       "       0.65947726, 0.65917097, 0.65886906, 0.65857144, 0.65827805,\n",
       "       0.65798882, 0.65770367, 0.65742253, 0.65714535, 0.65687204,\n",
       "       0.65660256, 0.65633683, 0.65607479, 0.65581639, 0.65556156,\n",
       "       0.65531025, 0.6550624 , 0.65481795, 0.65457685, 0.65433904,\n",
       "       0.65410448, 0.65387311, 0.65364488, 0.65341975, 0.65319766,\n",
       "       0.65297856, 0.65276241, 0.65254917, 0.65233879, 0.65213122,\n",
       "       0.65192642, 0.65172436, 0.65152498, 0.65132825, 0.65113413,\n",
       "       0.65094258, 0.65075355, 0.65056702, 0.65038295, 0.6502013 ,\n",
       "       0.65002202, 0.6498451 , 0.64967049, 0.64949817, 0.64932809,\n",
       "       0.64916022, 0.64899454, 0.64883101, 0.64866959, 0.64851027,\n",
       "       0.64835301, 0.64819778, 0.64804456, 0.6478933 , 0.647744  ,\n",
       "       0.64759661, 0.64745112, 0.64730749, 0.6471657 , 0.64702573,\n",
       "       0.64688754, 0.64675113, 0.64661645, 0.64648349, 0.64635222,\n",
       "       0.64622263, 0.64609468, 0.64596836, 0.64584364, 0.64572051,\n",
       "       0.64559893, 0.6454789 , 0.64536039, 0.64524338, 0.64512785,\n",
       "       0.64501378, 0.64490115, 0.64478994, 0.64468014, 0.64457173,\n",
       "       0.64446468, 0.64435898, 0.64425462, 0.64415157, 0.64404982,\n",
       "       0.64394936, 0.64385016, 0.64375221, 0.64365549, 0.64355999,\n",
       "       0.6434657 , 0.64337259, 0.64328066, 0.64318988, 0.64310025,\n",
       "       0.64301175, 0.64292436, 0.64283808, 0.64275289, 0.64266876,\n",
       "       0.64258571, 0.6425037 , 0.64242272, 0.64234277, 0.64226383,\n",
       "       0.64218589, 0.64210894, 0.64203296, 0.64195794, 0.64188387,\n",
       "       0.64181075, 0.64173855, 0.64166727, 0.6415969 , 0.64152742,\n",
       "       0.64145883, 0.64139112, 0.64132427, 0.64125827, 0.64119312,\n",
       "       0.6411288 , 0.64106531, 0.64100264, 0.64094077, 0.64087969,\n",
       "       0.64081941, 0.6407599 , 0.64070116, 0.64064318, 0.64058596,\n",
       "       0.64052947, 0.64047373, 0.6404187 , 0.6403644 , 0.64031081,\n",
       "       0.64025792, 0.64020572, 0.64015421, 0.64010338, 0.64005322,\n",
       "       0.64000372, 0.63995488, 0.63990669, 0.63985914, 0.63981223,\n",
       "       0.63976594, 0.63972027, 0.63967522, 0.63963077, 0.63958693,\n",
       "       0.63954367, 0.63950101, 0.63945893, 0.63941742, 0.63937648,\n",
       "       0.6393361 , 0.63929628, 0.63925701, 0.63921828, 0.63918009,\n",
       "       0.63914243, 0.6391053 , 0.6390687 , 0.6390326 , 0.63899702,\n",
       "       0.63896194, 0.63892737, 0.63889328, 0.63885969, 0.63882658,\n",
       "       0.63879395, 0.63876179, 0.6387301 , 0.63869887, 0.6386681 ,\n",
       "       0.63863779, 0.63860793, 0.63857851, 0.63854953, 0.63852099,\n",
       "       0.63849288, 0.63846519, 0.63843793, 0.63841108, 0.63838465,\n",
       "       0.63835863, 0.63833301, 0.6383078 , 0.63828298, 0.63825855,\n",
       "       0.63823452, 0.63821086, 0.63818759, 0.6381647 , 0.63814218,\n",
       "       0.63812003, 0.63809824, 0.63807682, 0.63805575, 0.63803504,\n",
       "       0.63801469, 0.63799468, 0.63797501, 0.63795568, 0.6379367 ,\n",
       "       0.63791804, 0.63789972, 0.63788173, 0.63786406, 0.63784671,\n",
       "       0.63782968, 0.63781296, 0.63779656, 0.63778046, 0.63776467,\n",
       "       0.63774918, 0.63773399, 0.6377191 , 0.63770451, 0.6376902 ,\n",
       "       0.63767618, 0.63766245, 0.637649  , 0.63763583, 0.63762294,\n",
       "       0.63761032, 0.63759797, 0.6375859 , 0.63757408, 0.63756254,\n",
       "       0.63755125, 0.63754023, 0.63752946, 0.63751894, 0.63750868,\n",
       "       0.63749866, 0.6374889 , 0.63747937, 0.63747009, 0.63746105,\n",
       "       0.63745225, 0.63744368, 0.63743535, 0.63742724, 0.63741937,\n",
       "       0.63741172, 0.63740429, 0.63739709, 0.63739011, 0.63738335,\n",
       "       0.6373768 , 0.63737047, 0.63736435, 0.63735844, 0.63735273,\n",
       "       0.63734724, 0.63734194, 0.63733685, 0.63733196, 0.63732727,\n",
       "       0.63732278, 0.63731848, 0.63731437, 0.63731046, 0.63730674,\n",
       "       0.6373032 , 0.63729985, 0.63729668, 0.6372937 , 0.63729089,\n",
       "       0.63728827, 0.63728582, 0.63728356, 0.63728146, 0.63727954,\n",
       "       0.63727779, 0.6372762 , 0.63727479, 0.63727354, 0.63727246,\n",
       "       0.63727154, 0.63727079, 0.63727019, 0.63726976, 0.63726948,\n",
       "       0.63726936, 0.63726939, 0.63726957, 0.63726991, 0.6372704 ,\n",
       "       0.63727104, 0.63727183, 0.63727276, 0.63727384, 0.63727506,\n",
       "       0.63727642, 0.63727793, 0.63727957, 0.63728136, 0.63728328,\n",
       "       0.63728534, 0.63728753, 0.63728986, 0.63729232, 0.63729492,\n",
       "       0.63729764, 0.63730049, 0.63730347, 0.63730658, 0.63730981,\n",
       "       0.63731317, 0.63731665, 0.63732025, 0.63732398, 0.63732782,\n",
       "       0.63733178, 0.63733587, 0.63734006, 0.63734438, 0.63734881,\n",
       "       0.63735335, 0.63735801, 0.63736278, 0.63736766, 0.63737265,\n",
       "       0.63737775, 0.63738295, 0.63738827, 0.63739369, 0.63739921,\n",
       "       0.63740484, 0.63741058, 0.63741641, 0.63742235, 0.63742838,\n",
       "       0.63743452, 0.63744076, 0.63744709, 0.63745352, 0.63746005,\n",
       "       0.63746667, 0.63747339, 0.6374802 , 0.6374871 , 0.6374941 ,\n",
       "       0.63750118, 0.63750836, 0.63751563, 0.63752298, 0.63753043,\n",
       "       0.63753796, 0.63754557, 0.63755328, 0.63756106, 0.63756894,\n",
       "       0.63757689, 0.63758493, 0.63759305, 0.63760125, 0.63760954,\n",
       "       0.6376179 , 0.63762634, 0.63763486, 0.63764346, 0.63765213,\n",
       "       0.63766089, 0.63766971, 0.63767862, 0.63768759, 0.63769664,\n",
       "       0.63770577, 0.63771496, 0.63772423, 0.63773357, 0.63774298,\n",
       "       0.63775246, 0.63776201, 0.63777163, 0.63778131, 0.63779106,\n",
       "       0.63780088, 0.63781077, 0.63782072, 0.63783074, 0.63784082,\n",
       "       0.63785097, 0.63786118, 0.63787145, 0.63788179, 0.63789218,\n",
       "       0.63790264, 0.63791316, 0.63792374, 0.63793438, 0.63794507,\n",
       "       0.63795583, 0.63796664, 0.63797752, 0.63798844, 0.63799943,\n",
       "       0.63801047, 0.63802157, 0.63803272, 0.63804392, 0.63805518,\n",
       "       0.6380665 , 0.63807787, 0.63808929, 0.63810076, 0.63811228,\n",
       "       0.63812385, 0.63813548, 0.63814716, 0.63815888, 0.63817066,\n",
       "       0.63818248, 0.63819435, 0.63820627, 0.63821824, 0.63823026,\n",
       "       0.63824232, 0.63825443, 0.63826658, 0.63827878, 0.63829103,\n",
       "       0.63830332, 0.63831565, 0.63832803, 0.63834045, 0.63835292,\n",
       "       0.63836543, 0.63837798, 0.63839057, 0.6384032 , 0.63841588,\n",
       "       0.63842859, 0.63844135, 0.63845415, 0.63846698, 0.63847986,\n",
       "       0.63849277, 0.63850573, 0.63851872, 0.63853175, 0.63854482,\n",
       "       0.63855792, 0.63857106, 0.63858424, 0.63859745, 0.6386107 ,\n",
       "       0.63862399, 0.63863731, 0.63865067, 0.63866406, 0.63867748,\n",
       "       0.63869094, 0.63870443, 0.63871796, 0.63873152, 0.63874511,\n",
       "       0.63875873, 0.63877239, 0.63878608, 0.6387998 , 0.63881355,\n",
       "       0.63882733, 0.63884114, 0.63885498, 0.63886885, 0.63888276,\n",
       "       0.63889669, 0.63891065, 0.63892464, 0.63893866, 0.6389527 ,\n",
       "       0.63896678, 0.63898088, 0.63899501, 0.63900917, 0.63902335,\n",
       "       0.63903756, 0.6390518 , 0.63906606, 0.63908035, 0.63909467,\n",
       "       0.63910901, 0.63912337, 0.63913776, 0.63915218, 0.63916662,\n",
       "       0.63918108, 0.63919557, 0.63921008, 0.63922462, 0.63923918,\n",
       "       0.63925376, 0.63926837, 0.63928299, 0.63929764, 0.63931231,\n",
       "       0.63932701, 0.63934172, 0.63935646, 0.63937122, 0.639386  ,\n",
       "       0.6394008 , 0.63941562, 0.63943046, 0.63944532, 0.6394602 ,\n",
       "       0.6394751 , 0.63949002, 0.63950496, 0.63951992, 0.6395349 ,\n",
       "       0.6395499 , 0.63956491, 0.63957995, 0.639595  , 0.63961007,\n",
       "       0.63962516, 0.63964026, 0.63965539, 0.63967053, 0.63968568,\n",
       "       0.63970086, 0.63971605, 0.63973125, 0.63974648, 0.63976172,\n",
       "       0.63977697, 0.63979224, 0.63980753, 0.63982283, 0.63983815,\n",
       "       0.63985348, 0.63986883, 0.63988419, 0.63989957, 0.63991496,\n",
       "       0.63993036, 0.63994578, 0.63996121, 0.63997666, 0.63999212,\n",
       "       0.6400076 , 0.64002308, 0.64003858, 0.6400541 , 0.64006962,\n",
       "       0.64008516, 0.64010071, 0.64011628, 0.64013185, 0.64014744,\n",
       "       0.64016304, 0.64017865, 0.64019427, 0.64020991, 0.64022555,\n",
       "       0.64024121, 0.64025688, 0.64027256, 0.64028825, 0.64030395,\n",
       "       0.64031966, 0.64033538, 0.64035111, 0.64036685, 0.6403826 ,\n",
       "       0.64039836, 0.64041413, 0.64042991, 0.6404457 , 0.6404615 ,\n",
       "       0.64047731, 0.64049313, 0.64050895, 0.64052479, 0.64054063,\n",
       "       0.64055648, 0.64057234, 0.64058821, 0.64060409, 0.64061998,\n",
       "       0.64063587, 0.64065177, 0.64066768, 0.64068359, 0.64069952])"
      ]
     },
     "execution_count": 524,
     "metadata": {},
     "output_type": "execute_result"
    }
   ],
   "source": [
    "gen_losses = np.array(gen_losses)\n",
    "gen_losses"
   ]
  },
  {
   "cell_type": "code",
   "execution_count": 525,
   "id": "7a9cfedc",
   "metadata": {},
   "outputs": [
    {
     "data": {
      "text/plain": [
       "Text(0, 0.5, 'Cross entropy loss')"
      ]
     },
     "execution_count": 525,
     "metadata": {},
     "output_type": "execute_result"
    },
    {
     "data": {
      "image/png": "[encoded data removed]",
      "text/plain": [
       "<Figure size 640x480 with 1 Axes>"
      ]
     },
     "metadata": {},
     "output_type": "display_data"
    }
   ],
   "source": [
    "plt.plot(sample_alphas, gen_losses)\n",
    "plt.xlabel(r'$\\alpha$')\n",
    "plt.ylabel('Cross entropy loss')"
   ]
  },
  {
   "cell_type": "code",
   "execution_count": 521,
   "id": "19aaa950",
   "metadata": {},
   "outputs": [],
   "source": [
    "# ind"
   ]
  },
  {
   "cell_type": "code",
   "execution_count": 526,
   "id": "de3a9a15",
   "metadata": {},
   "outputs": [
    {
     "data": {
      "text/plain": [
       "495"
      ]
     },
     "execution_count": 526,
     "metadata": {},
     "output_type": "execute_result"
    }
   ],
   "source": [
    "ind = np.where(gen_losses == np.min(gen_losses))[0][0]\n",
    "opt_alpha = sample_alphas[ind]\n",
    "opt_alpha"
   ]
  },
  {
   "cell_type": "code",
   "execution_count": 612,
   "id": "57af2e74",
   "metadata": {},
   "outputs": [],
   "source": [
    "Krange = np.arange(78, 100, 0.5)\n",
    "alpharange = np.arange(600, 700, 1)"
   ]
  },
  {
   "cell_type": "code",
   "execution_count": 605,
   "id": "aa3f6687",
   "metadata": {
    "scrolled": true
   },
   "outputs": [
    {
     "data": {
      "text/plain": [
       "array([[ 72. , 530. ],\n",
       "       [ 72. , 531. ],\n",
       "       [ 72. , 532. ],\n",
       "       [ 72. , 533. ],\n",
       "       [ 72. , 534. ],\n",
       "       [ 72. , 535. ],\n",
       "       [ 72. , 536. ],\n",
       "       [ 72. , 537. ],\n",
       "       [ 72. , 538. ],\n",
       "       [ 72. , 539. ],\n",
       "       [ 72. , 540. ],\n",
       "       [ 72. , 541. ],\n",
       "       [ 72. , 542. ],\n",
       "       [ 72. , 543. ],\n",
       "       [ 72. , 544. ],\n",
       "       [ 72. , 545. ],\n",
       "       [ 72. , 546. ],\n",
       "       [ 72. , 547. ],\n",
       "       [ 72. , 548. ],\n",
       "       [ 72. , 549. ],\n",
       "       [ 72. , 550. ],\n",
       "       [ 72. , 551. ],\n",
       "       [ 72. , 552. ],\n",
       "       [ 72. , 553. ],\n",
       "       [ 72. , 554. ],\n",
       "       [ 72. , 555. ],\n",
       "       [ 72. , 556. ],\n",
       "       [ 72. , 557. ],\n",
       "       [ 72. , 558. ],\n",
       "       [ 72. , 559. ],\n",
       "       [ 72.5, 530. ],\n",
       "       [ 72.5, 531. ],\n",
       "       [ 72.5, 532. ],\n",
       "       [ 72.5, 533. ],\n",
       "       [ 72.5, 534. ],\n",
       "       [ 72.5, 535. ],\n",
       "       [ 72.5, 536. ],\n",
       "       [ 72.5, 537. ],\n",
       "       [ 72.5, 538. ],\n",
       "       [ 72.5, 539. ],\n",
       "       [ 72.5, 540. ],\n",
       "       [ 72.5, 541. ],\n",
       "       [ 72.5, 542. ],\n",
       "       [ 72.5, 543. ],\n",
       "       [ 72.5, 544. ],\n",
       "       [ 72.5, 545. ],\n",
       "       [ 72.5, 546. ],\n",
       "       [ 72.5, 547. ],\n",
       "       [ 72.5, 548. ],\n",
       "       [ 72.5, 549. ],\n",
       "       [ 72.5, 550. ],\n",
       "       [ 72.5, 551. ],\n",
       "       [ 72.5, 552. ],\n",
       "       [ 72.5, 553. ],\n",
       "       [ 72.5, 554. ],\n",
       "       [ 72.5, 555. ],\n",
       "       [ 72.5, 556. ],\n",
       "       [ 72.5, 557. ],\n",
       "       [ 72.5, 558. ],\n",
       "       [ 72.5, 559. ],\n",
       "       [ 73. , 530. ],\n",
       "       [ 73. , 531. ],\n",
       "       [ 73. , 532. ],\n",
       "       [ 73. , 533. ],\n",
       "       [ 73. , 534. ],\n",
       "       [ 73. , 535. ],\n",
       "       [ 73. , 536. ],\n",
       "       [ 73. , 537. ],\n",
       "       [ 73. , 538. ],\n",
       "       [ 73. , 539. ],\n",
       "       [ 73. , 540. ],\n",
       "       [ 73. , 541. ],\n",
       "       [ 73. , 542. ],\n",
       "       [ 73. , 543. ],\n",
       "       [ 73. , 544. ],\n",
       "       [ 73. , 545. ],\n",
       "       [ 73. , 546. ],\n",
       "       [ 73. , 547. ],\n",
       "       [ 73. , 548. ],\n",
       "       [ 73. , 549. ],\n",
       "       [ 73. , 550. ],\n",
       "       [ 73. , 551. ],\n",
       "       [ 73. , 552. ],\n",
       "       [ 73. , 553. ],\n",
       "       [ 73. , 554. ],\n",
       "       [ 73. , 555. ],\n",
       "       [ 73. , 556. ],\n",
       "       [ 73. , 557. ],\n",
       "       [ 73. , 558. ],\n",
       "       [ 73. , 559. ],\n",
       "       [ 73.5, 530. ],\n",
       "       [ 73.5, 531. ],\n",
       "       [ 73.5, 532. ],\n",
       "       [ 73.5, 533. ],\n",
       "       [ 73.5, 534. ],\n",
       "       [ 73.5, 535. ],\n",
       "       [ 73.5, 536. ],\n",
       "       [ 73.5, 537. ],\n",
       "       [ 73.5, 538. ],\n",
       "       [ 73.5, 539. ],\n",
       "       [ 73.5, 540. ],\n",
       "       [ 73.5, 541. ],\n",
       "       [ 73.5, 542. ],\n",
       "       [ 73.5, 543. ],\n",
       "       [ 73.5, 544. ],\n",
       "       [ 73.5, 545. ],\n",
       "       [ 73.5, 546. ],\n",
       "       [ 73.5, 547. ],\n",
       "       [ 73.5, 548. ],\n",
       "       [ 73.5, 549. ],\n",
       "       [ 73.5, 550. ],\n",
       "       [ 73.5, 551. ],\n",
       "       [ 73.5, 552. ],\n",
       "       [ 73.5, 553. ],\n",
       "       [ 73.5, 554. ],\n",
       "       [ 73.5, 555. ],\n",
       "       [ 73.5, 556. ],\n",
       "       [ 73.5, 557. ],\n",
       "       [ 73.5, 558. ],\n",
       "       [ 73.5, 559. ],\n",
       "       [ 74. , 530. ],\n",
       "       [ 74. , 531. ],\n",
       "       [ 74. , 532. ],\n",
       "       [ 74. , 533. ],\n",
       "       [ 74. , 534. ],\n",
       "       [ 74. , 535. ],\n",
       "       [ 74. , 536. ],\n",
       "       [ 74. , 537. ],\n",
       "       [ 74. , 538. ],\n",
       "       [ 74. , 539. ],\n",
       "       [ 74. , 540. ],\n",
       "       [ 74. , 541. ],\n",
       "       [ 74. , 542. ],\n",
       "       [ 74. , 543. ],\n",
       "       [ 74. , 544. ],\n",
       "       [ 74. , 545. ],\n",
       "       [ 74. , 546. ],\n",
       "       [ 74. , 547. ],\n",
       "       [ 74. , 548. ],\n",
       "       [ 74. , 549. ],\n",
       "       [ 74. , 550. ],\n",
       "       [ 74. , 551. ],\n",
       "       [ 74. , 552. ],\n",
       "       [ 74. , 553. ],\n",
       "       [ 74. , 554. ],\n",
       "       [ 74. , 555. ],\n",
       "       [ 74. , 556. ],\n",
       "       [ 74. , 557. ],\n",
       "       [ 74. , 558. ],\n",
       "       [ 74. , 559. ],\n",
       "       [ 74.5, 530. ],\n",
       "       [ 74.5, 531. ],\n",
       "       [ 74.5, 532. ],\n",
       "       [ 74.5, 533. ],\n",
       "       [ 74.5, 534. ],\n",
       "       [ 74.5, 535. ],\n",
       "       [ 74.5, 536. ],\n",
       "       [ 74.5, 537. ],\n",
       "       [ 74.5, 538. ],\n",
       "       [ 74.5, 539. ],\n",
       "       [ 74.5, 540. ],\n",
       "       [ 74.5, 541. ],\n",
       "       [ 74.5, 542. ],\n",
       "       [ 74.5, 543. ],\n",
       "       [ 74.5, 544. ],\n",
       "       [ 74.5, 545. ],\n",
       "       [ 74.5, 546. ],\n",
       "       [ 74.5, 547. ],\n",
       "       [ 74.5, 548. ],\n",
       "       [ 74.5, 549. ],\n",
       "       [ 74.5, 550. ],\n",
       "       [ 74.5, 551. ],\n",
       "       [ 74.5, 552. ],\n",
       "       [ 74.5, 553. ],\n",
       "       [ 74.5, 554. ],\n",
       "       [ 74.5, 555. ],\n",
       "       [ 74.5, 556. ],\n",
       "       [ 74.5, 557. ],\n",
       "       [ 74.5, 558. ],\n",
       "       [ 74.5, 559. ],\n",
       "       [ 75. , 530. ],\n",
       "       [ 75. , 531. ],\n",
       "       [ 75. , 532. ],\n",
       "       [ 75. , 533. ],\n",
       "       [ 75. , 534. ],\n",
       "       [ 75. , 535. ],\n",
       "       [ 75. , 536. ],\n",
       "       [ 75. , 537. ],\n",
       "       [ 75. , 538. ],\n",
       "       [ 75. , 539. ],\n",
       "       [ 75. , 540. ],\n",
       "       [ 75. , 541. ],\n",
       "       [ 75. , 542. ],\n",
       "       [ 75. , 543. ],\n",
       "       [ 75. , 544. ],\n",
       "       [ 75. , 545. ],\n",
       "       [ 75. , 546. ],\n",
       "       [ 75. , 547. ],\n",
       "       [ 75. , 548. ],\n",
       "       [ 75. , 549. ],\n",
       "       [ 75. , 550. ],\n",
       "       [ 75. , 551. ],\n",
       "       [ 75. , 552. ],\n",
       "       [ 75. , 553. ],\n",
       "       [ 75. , 554. ],\n",
       "       [ 75. , 555. ],\n",
       "       [ 75. , 556. ],\n",
       "       [ 75. , 557. ],\n",
       "       [ 75. , 558. ],\n",
       "       [ 75. , 559. ],\n",
       "       [ 75.5, 530. ],\n",
       "       [ 75.5, 531. ],\n",
       "       [ 75.5, 532. ],\n",
       "       [ 75.5, 533. ],\n",
       "       [ 75.5, 534. ],\n",
       "       [ 75.5, 535. ],\n",
       "       [ 75.5, 536. ],\n",
       "       [ 75.5, 537. ],\n",
       "       [ 75.5, 538. ],\n",
       "       [ 75.5, 539. ],\n",
       "       [ 75.5, 540. ],\n",
       "       [ 75.5, 541. ],\n",
       "       [ 75.5, 542. ],\n",
       "       [ 75.5, 543. ],\n",
       "       [ 75.5, 544. ],\n",
       "       [ 75.5, 545. ],\n",
       "       [ 75.5, 546. ],\n",
       "       [ 75.5, 547. ],\n",
       "       [ 75.5, 548. ],\n",
       "       [ 75.5, 549. ],\n",
       "       [ 75.5, 550. ],\n",
       "       [ 75.5, 551. ],\n",
       "       [ 75.5, 552. ],\n",
       "       [ 75.5, 553. ],\n",
       "       [ 75.5, 554. ],\n",
       "       [ 75.5, 555. ],\n",
       "       [ 75.5, 556. ],\n",
       "       [ 75.5, 557. ],\n",
       "       [ 75.5, 558. ],\n",
       "       [ 75.5, 559. ],\n",
       "       [ 76. , 530. ],\n",
       "       [ 76. , 531. ],\n",
       "       [ 76. , 532. ],\n",
       "       [ 76. , 533. ],\n",
       "       [ 76. , 534. ],\n",
       "       [ 76. , 535. ],\n",
       "       [ 76. , 536. ],\n",
       "       [ 76. , 537. ],\n",
       "       [ 76. , 538. ],\n",
       "       [ 76. , 539. ],\n",
       "       [ 76. , 540. ],\n",
       "       [ 76. , 541. ],\n",
       "       [ 76. , 542. ],\n",
       "       [ 76. , 543. ],\n",
       "       [ 76. , 544. ],\n",
       "       [ 76. , 545. ],\n",
       "       [ 76. , 546. ],\n",
       "       [ 76. , 547. ],\n",
       "       [ 76. , 548. ],\n",
       "       [ 76. , 549. ],\n",
       "       [ 76. , 550. ],\n",
       "       [ 76. , 551. ],\n",
       "       [ 76. , 552. ],\n",
       "       [ 76. , 553. ],\n",
       "       [ 76. , 554. ],\n",
       "       [ 76. , 555. ],\n",
       "       [ 76. , 556. ],\n",
       "       [ 76. , 557. ],\n",
       "       [ 76. , 558. ],\n",
       "       [ 76. , 559. ],\n",
       "       [ 76.5, 530. ],\n",
       "       [ 76.5, 531. ],\n",
       "       [ 76.5, 532. ],\n",
       "       [ 76.5, 533. ],\n",
       "       [ 76.5, 534. ],\n",
       "       [ 76.5, 535. ],\n",
       "       [ 76.5, 536. ],\n",
       "       [ 76.5, 537. ],\n",
       "       [ 76.5, 538. ],\n",
       "       [ 76.5, 539. ],\n",
       "       [ 76.5, 540. ],\n",
       "       [ 76.5, 541. ],\n",
       "       [ 76.5, 542. ],\n",
       "       [ 76.5, 543. ],\n",
       "       [ 76.5, 544. ],\n",
       "       [ 76.5, 545. ],\n",
       "       [ 76.5, 546. ],\n",
       "       [ 76.5, 547. ],\n",
       "       [ 76.5, 548. ],\n",
       "       [ 76.5, 549. ],\n",
       "       [ 76.5, 550. ],\n",
       "       [ 76.5, 551. ],\n",
       "       [ 76.5, 552. ],\n",
       "       [ 76.5, 553. ],\n",
       "       [ 76.5, 554. ],\n",
       "       [ 76.5, 555. ],\n",
       "       [ 76.5, 556. ],\n",
       "       [ 76.5, 557. ],\n",
       "       [ 76.5, 558. ],\n",
       "       [ 76.5, 559. ],\n",
       "       [ 77. , 530. ],\n",
       "       [ 77. , 531. ],\n",
       "       [ 77. , 532. ],\n",
       "       [ 77. , 533. ],\n",
       "       [ 77. , 534. ],\n",
       "       [ 77. , 535. ],\n",
       "       [ 77. , 536. ],\n",
       "       [ 77. , 537. ],\n",
       "       [ 77. , 538. ],\n",
       "       [ 77. , 539. ],\n",
       "       [ 77. , 540. ],\n",
       "       [ 77. , 541. ],\n",
       "       [ 77. , 542. ],\n",
       "       [ 77. , 543. ],\n",
       "       [ 77. , 544. ],\n",
       "       [ 77. , 545. ],\n",
       "       [ 77. , 546. ],\n",
       "       [ 77. , 547. ],\n",
       "       [ 77. , 548. ],\n",
       "       [ 77. , 549. ],\n",
       "       [ 77. , 550. ],\n",
       "       [ 77. , 551. ],\n",
       "       [ 77. , 552. ],\n",
       "       [ 77. , 553. ],\n",
       "       [ 77. , 554. ],\n",
       "       [ 77. , 555. ],\n",
       "       [ 77. , 556. ],\n",
       "       [ 77. , 557. ],\n",
       "       [ 77. , 558. ],\n",
       "       [ 77. , 559. ],\n",
       "       [ 77.5, 530. ],\n",
       "       [ 77.5, 531. ],\n",
       "       [ 77.5, 532. ],\n",
       "       [ 77.5, 533. ],\n",
       "       [ 77.5, 534. ],\n",
       "       [ 77.5, 535. ],\n",
       "       [ 77.5, 536. ],\n",
       "       [ 77.5, 537. ],\n",
       "       [ 77.5, 538. ],\n",
       "       [ 77.5, 539. ],\n",
       "       [ 77.5, 540. ],\n",
       "       [ 77.5, 541. ],\n",
       "       [ 77.5, 542. ],\n",
       "       [ 77.5, 543. ],\n",
       "       [ 77.5, 544. ],\n",
       "       [ 77.5, 545. ],\n",
       "       [ 77.5, 546. ],\n",
       "       [ 77.5, 547. ],\n",
       "       [ 77.5, 548. ],\n",
       "       [ 77.5, 549. ],\n",
       "       [ 77.5, 550. ],\n",
       "       [ 77.5, 551. ],\n",
       "       [ 77.5, 552. ],\n",
       "       [ 77.5, 553. ],\n",
       "       [ 77.5, 554. ],\n",
       "       [ 77.5, 555. ],\n",
       "       [ 77.5, 556. ],\n",
       "       [ 77.5, 557. ],\n",
       "       [ 77.5, 558. ],\n",
       "       [ 77.5, 559. ]])"
      ]
     },
     "execution_count": 605,
     "metadata": {},
     "output_type": "execute_result"
    }
   ],
   "source": [
    "K_alpha = np.array(np.meshgrid(Krange, alpharange)).T.reshape(-1, 2)\n",
    "K_alpha"
   ]
  },
  {
   "cell_type": "code",
   "execution_count": 606,
   "id": "22d66738",
   "metadata": {},
   "outputs": [
    {
     "data": {
      "text/html": [
       "<div>\n",
       "<style scoped>\n",
       "    .dataframe tbody tr th:only-of-type {\n",
       "        vertical-align: middle;\n",
       "    }\n",
       "\n",
       "    .dataframe tbody tr th {\n",
       "        vertical-align: top;\n",
       "    }\n",
       "\n",
       "    .dataframe thead th {\n",
       "        text-align: right;\n",
       "    }\n",
       "</style>\n",
       "<table border=\"1\" class=\"dataframe\">\n",
       "  <thead>\n",
       "    <tr style=\"text-align: right;\">\n",
       "      <th></th>\n",
       "      <th>0</th>\n",
       "      <th>1</th>\n",
       "    </tr>\n",
       "  </thead>\n",
       "  <tbody>\n",
       "    <tr>\n",
       "      <th>0</th>\n",
       "      <td>1</td>\n",
       "      <td>2</td>\n",
       "    </tr>\n",
       "  </tbody>\n",
       "</table>\n",
       "</div>"
      ],
      "text/plain": [
       "   0  1\n",
       "0  1  2"
      ]
     },
     "execution_count": 606,
     "metadata": {},
     "output_type": "execute_result"
    }
   ],
   "source": [
    "pd.concat([pd.DataFrame(), pd.DataFrame([[1, 2]])], axis=0)"
   ]
  },
  {
   "cell_type": "code",
   "execution_count": 607,
   "id": "14525e6b",
   "metadata": {},
   "outputs": [
    {
     "name": "stderr",
     "output_type": "stream",
     "text": [
      "100%|████████████████████████████████████████████████████████████████████████████████| 360/360 [02:12<00:00,  2.71it/s]\n"
     ]
    }
   ],
   "source": [
    "gen_losses_2d = pd.DataFrame()\n",
    "K = 77.5\n",
    "alpha = 196\n",
    "\n",
    "for K, alpha in tqdm(K_alpha):\n",
    "    elo_sample_dict = generate_elo_ratings(data, intl_elos, K, alpha)\n",
    "    loss = cross_entropy(data, elo_sample_dict, K, alpha=alpha)\n",
    "    \n",
    "    row = [[K, alpha, loss]]\n",
    "    \n",
    "    gen_losses_2d = pd.concat([gen_losses_2d, pd.DataFrame(row)], axis=0)"
   ]
  },
  {
   "cell_type": "code",
   "execution_count": 608,
   "id": "9970e28b",
   "metadata": {},
   "outputs": [
    {
     "data": {
      "text/html": [
       "<div>\n",
       "<style scoped>\n",
       "    .dataframe tbody tr th:only-of-type {\n",
       "        vertical-align: middle;\n",
       "    }\n",
       "\n",
       "    .dataframe tbody tr th {\n",
       "        vertical-align: top;\n",
       "    }\n",
       "\n",
       "    .dataframe thead th {\n",
       "        text-align: right;\n",
       "    }\n",
       "</style>\n",
       "<table border=\"1\" class=\"dataframe\">\n",
       "  <thead>\n",
       "    <tr style=\"text-align: right;\">\n",
       "      <th></th>\n",
       "      <th>0</th>\n",
       "      <th>1</th>\n",
       "      <th>2</th>\n",
       "    </tr>\n",
       "  </thead>\n",
       "  <tbody>\n",
       "    <tr>\n",
       "      <th>0</th>\n",
       "      <td>72.0</td>\n",
       "      <td>530.0</td>\n",
       "      <td>0.597202</td>\n",
       "    </tr>\n",
       "    <tr>\n",
       "      <th>0</th>\n",
       "      <td>72.0</td>\n",
       "      <td>531.0</td>\n",
       "      <td>0.597200</td>\n",
       "    </tr>\n",
       "    <tr>\n",
       "      <th>0</th>\n",
       "      <td>72.0</td>\n",
       "      <td>532.0</td>\n",
       "      <td>0.597198</td>\n",
       "    </tr>\n",
       "    <tr>\n",
       "      <th>0</th>\n",
       "      <td>72.0</td>\n",
       "      <td>533.0</td>\n",
       "      <td>0.597196</td>\n",
       "    </tr>\n",
       "    <tr>\n",
       "      <th>0</th>\n",
       "      <td>72.0</td>\n",
       "      <td>534.0</td>\n",
       "      <td>0.597195</td>\n",
       "    </tr>\n",
       "    <tr>\n",
       "      <th>...</th>\n",
       "      <td>...</td>\n",
       "      <td>...</td>\n",
       "      <td>...</td>\n",
       "    </tr>\n",
       "    <tr>\n",
       "      <th>0</th>\n",
       "      <td>77.5</td>\n",
       "      <td>555.0</td>\n",
       "      <td>0.597030</td>\n",
       "    </tr>\n",
       "    <tr>\n",
       "      <th>0</th>\n",
       "      <td>77.5</td>\n",
       "      <td>556.0</td>\n",
       "      <td>0.597026</td>\n",
       "    </tr>\n",
       "    <tr>\n",
       "      <th>0</th>\n",
       "      <td>77.5</td>\n",
       "      <td>557.0</td>\n",
       "      <td>0.597021</td>\n",
       "    </tr>\n",
       "    <tr>\n",
       "      <th>0</th>\n",
       "      <td>77.5</td>\n",
       "      <td>558.0</td>\n",
       "      <td>0.597018</td>\n",
       "    </tr>\n",
       "    <tr>\n",
       "      <th>0</th>\n",
       "      <td>77.5</td>\n",
       "      <td>559.0</td>\n",
       "      <td>0.597014</td>\n",
       "    </tr>\n",
       "  </tbody>\n",
       "</table>\n",
       "<p>360 rows × 3 columns</p>\n",
       "</div>"
      ],
      "text/plain": [
       "       0      1         2\n",
       "0   72.0  530.0  0.597202\n",
       "0   72.0  531.0  0.597200\n",
       "0   72.0  532.0  0.597198\n",
       "0   72.0  533.0  0.597196\n",
       "0   72.0  534.0  0.597195\n",
       "..   ...    ...       ...\n",
       "0   77.5  555.0  0.597030\n",
       "0   77.5  556.0  0.597026\n",
       "0   77.5  557.0  0.597021\n",
       "0   77.5  558.0  0.597018\n",
       "0   77.5  559.0  0.597014\n",
       "\n",
       "[360 rows x 3 columns]"
      ]
     },
     "execution_count": 608,
     "metadata": {},
     "output_type": "execute_result"
    }
   ],
   "source": [
    "gen_losses_2d"
   ]
  },
  {
   "cell_type": "code",
   "execution_count": 609,
   "id": "c1e0810a",
   "metadata": {},
   "outputs": [
    {
     "data": {
      "text/html": [
       "<div>\n",
       "<style scoped>\n",
       "    .dataframe tbody tr th:only-of-type {\n",
       "        vertical-align: middle;\n",
       "    }\n",
       "\n",
       "    .dataframe tbody tr th {\n",
       "        vertical-align: top;\n",
       "    }\n",
       "\n",
       "    .dataframe thead th {\n",
       "        text-align: right;\n",
       "    }\n",
       "</style>\n",
       "<table border=\"1\" class=\"dataframe\">\n",
       "  <thead>\n",
       "    <tr style=\"text-align: right;\">\n",
       "      <th></th>\n",
       "      <th>0</th>\n",
       "      <th>1</th>\n",
       "      <th>2</th>\n",
       "    </tr>\n",
       "  </thead>\n",
       "  <tbody>\n",
       "    <tr>\n",
       "      <th>0</th>\n",
       "      <td>77.5</td>\n",
       "      <td>559.0</td>\n",
       "      <td>0.597014</td>\n",
       "    </tr>\n",
       "  </tbody>\n",
       "</table>\n",
       "</div>"
      ],
      "text/plain": [
       "      0      1         2\n",
       "0  77.5  559.0  0.597014"
      ]
     },
     "execution_count": 609,
     "metadata": {},
     "output_type": "execute_result"
    }
   ],
   "source": [
    "gen_losses_2d[gen_losses_2d[2] == np.min(gen_losses_2d[2])]"
   ]
  },
  {
   "cell_type": "code",
   "execution_count": 610,
   "id": "a079c053",
   "metadata": {},
   "outputs": [
    {
     "data": {
      "text/plain": [
       "Text(0, 0.5, 'Cross entropy loss')"
      ]
     },
     "execution_count": 610,
     "metadata": {},
     "output_type": "execute_result"
    },
    {
     "data": {
      "image/png": "[encoded data removed]",
      "text/plain": [
       "<Figure size 640x480 with 1 Axes>"
      ]
     },
     "metadata": {},
     "output_type": "display_data"
    }
   ],
   "source": [
    "# plt.contour([gen_losses_2d[0], gen_losses_2d[1]], gen_losses_2d[2], levels=3, colors=['#808080', '#A0A0A0', '#C0C0C0'])\n",
    "plt.scatter(gen_losses_2d[0], gen_losses_2d[2])\n",
    "plt.xlabel(r'$K$')\n",
    "plt.ylabel('Cross entropy loss')"
   ]
  },
  {
   "cell_type": "code",
   "execution_count": 611,
   "id": "910b5edb",
   "metadata": {},
   "outputs": [
    {
     "data": {
      "text/plain": [
       "Text(0, 0.5, 'Cross entropy loss')"
      ]
     },
     "execution_count": 611,
     "metadata": {},
     "output_type": "execute_result"
    },
    {
     "data": {
      "image/png": "[encoded data removed]",
      "text/plain": [
       "<Figure size 640x480 with 1 Axes>"
      ]
     },
     "metadata": {},
     "output_type": "display_data"
    }
   ],
   "source": [
    "plt.scatter(gen_losses_2d[1], gen_losses_2d[2])\n",
    "plt.xlabel(r'$\\alpha$')\n",
    "plt.ylabel('Cross entropy loss')"
   ]
  },
  {
   "cell_type": "code",
   "execution_count": 402,
   "id": "c7f2bdbe",
   "metadata": {},
   "outputs": [
    {
     "data": {
      "image/png": "[encoded data removed]",
      "text/plain": [
       "<Figure size 640x480 with 1 Axes>"
      ]
     },
     "metadata": {},
     "output_type": "display_data"
    }
   ],
   "source": [
    "plt.hist(data['net_run_rate'], bins=50)\n",
    "plt.xlim(0, 15)\n",
    "plt.grid()"
   ]
  },
  {
   "cell_type": "code",
   "execution_count": 321,
   "id": "bd34cc86",
   "metadata": {},
   "outputs": [],
   "source": [
    "def generate_elo_ratings_trends(data, teams, K, alpha=400, calculate_W_mv=calculate_W_mv_log):\n",
    "    \"\"\"\n",
    "    :param data: DataFrame of games played.\n",
    "    :param teams: Dictionary of all teams with respective elo rating scores. At the start, all teams' Elo ratings \n",
    "    will be set to 1500.\n",
    "    :param K: K-parameter for Elo rating updates.\n",
    "    :param alpha: alpha parameter for calculating probabilities from Elo.\n",
    "    :param calculate_W_mv: Function for calculating the victory multiplier.\n",
    "    \n",
    "    Runs through Elo from start to finish for set of games, assuming that we are starting from the beginning -\n",
    "    i.e. the teams do not have pre-existing Elo ratings calculated from other games and thus all initial\n",
    "    Elo ratings are set to 1500.\n",
    "    \"\"\"\n",
    "    teams_final = teams.copy()\n",
    "    team_trends = {key: [1500] for key in list(teams.keys())}\n",
    "    \n",
    "    for i in range(data.shape[0]):\n",
    "        row = data.iloc[i, :]\n",
    "        \n",
    "        first = row['first_team']\n",
    "        second = row['second_team']\n",
    "        winner = row['winner']\n",
    "        nrr = row['net_run_rate']\n",
    "        \n",
    "        if first == winner:\n",
    "            S_a = 1\n",
    "            loser = second\n",
    "        elif winner == 'tie':\n",
    "            S_a = 0.5\n",
    "            loser = 'tie'\n",
    "        else:\n",
    "            S_a = 0\n",
    "            loser = first\n",
    "        \n",
    "        if winner != 'tie':\n",
    "            W_mv = calculate_W_mv(nrr, teams_final[winner]-teams_final[loser])\n",
    "        else:\n",
    "            W_mv = 2.2*np.log(2)\n",
    "        R_a_pr, R_b_pr = elo_step(teams_final[first], teams_final[second], S_a, K, W_mv, alpha)\n",
    "        \n",
    "        team_trends[first].append(R_a_pr)\n",
    "        team_trends[second].append(R_b_pr)\n",
    "        \n",
    "        teams_final[first] = R_a_pr\n",
    "        teams_final[second] = R_b_pr\n",
    "    \n",
    "    return teams_final, team_trends"
   ]
  },
  {
   "cell_type": "code",
   "execution_count": 322,
   "id": "0559f4ca",
   "metadata": {},
   "outputs": [],
   "source": [
    "# intl_elos"
   ]
  },
  {
   "cell_type": "code",
   "execution_count": 579,
   "id": "f7293f47",
   "metadata": {},
   "outputs": [],
   "source": [
    "_, team_trends = generate_elo_ratings_trends(data, intl_elos, 69.5, alpha=509)"
   ]
  },
  {
   "cell_type": "code",
   "execution_count": 580,
   "id": "b07b0c8f",
   "metadata": {},
   "outputs": [],
   "source": [
    "# dict(sorted(elos.items(), key=lambda item: item[1], reverse=True))"
   ]
  },
  {
   "cell_type": "code",
   "execution_count": 581,
   "id": "5fa9c028",
   "metadata": {},
   "outputs": [
    {
     "data": {
      "text/plain": [
       "2086.3849242561296"
      ]
     },
     "execution_count": 581,
     "metadata": {},
     "output_type": "execute_result"
    }
   ],
   "source": [
    "team_trends['Australia'][-1]"
   ]
  },
  {
   "cell_type": "code",
   "execution_count": 706,
   "id": "4c182e21",
   "metadata": {},
   "outputs": [
    {
     "data": {
      "text/plain": [
       "Text(0, 0.5, 'Elo rating')"
      ]
     },
     "execution_count": 706,
     "metadata": {},
     "output_type": "execute_result"
    },
    {
     "data": {
      "image/png": "[encoded data removed]",
      "text/plain": [
       "<Figure size 640x480 with 1 Axes>"
      ]
     },
     "metadata": {},
     "output_type": "display_data"
    }
   ],
   "source": [
    "plt.plot(team_trends['Uganda'])\n",
    "plt.xlabel('Number of matches played')\n",
    "plt.ylabel('Elo rating')"
   ]
  },
  {
   "cell_type": "code",
   "execution_count": 331,
   "id": "56672a77",
   "metadata": {},
   "outputs": [
    {
     "data": {
      "text/plain": [
       "1896.5900097227818"
      ]
     },
     "execution_count": 331,
     "metadata": {},
     "output_type": "execute_result"
    }
   ],
   "source": [
    "np.max(team_trends['West Indies'])"
   ]
  },
  {
   "cell_type": "code",
   "execution_count": 265,
   "id": "627a5d90",
   "metadata": {},
   "outputs": [],
   "source": [
    "def elodiffs_v_nrrs(data, teams, K, alpha=400, calculate_W_mv=lambda x: 1):\n",
    "    \"\"\"\n",
    "    :param data: DataFrame of games played.\n",
    "    :param teams: Dictionary of all teams with respective elo rating scores. At the start, all teams' Elo ratings \n",
    "    will be set to 1500.\n",
    "    :param K: K-parameter for Elo rating updates.\n",
    "    :param alpha: alpha parameter for calculating probabilities from Elo.\n",
    "    :param calculate_W_mv: Function for calculating the victory multiplier.\n",
    "    \n",
    "    Runs through Elo from start to finish for set of games, assuming that we are starting from the beginning -\n",
    "    i.e. the teams do not have pre-existing Elo ratings calculated from other games and thus all initial\n",
    "    Elo ratings are set to 1500.\n",
    "    \"\"\"\n",
    "    teams_final = teams.copy()\n",
    "    # team_trends = {key: [1500] for key in list(teams.keys())}\n",
    "    diffs = []\n",
    "    nrrs = []\n",
    "    it = 0\n",
    "    \n",
    "    for i in range(data.shape[0]):\n",
    "        row = data.iloc[i, :]\n",
    "        \n",
    "        first = row['first_team']\n",
    "        second = row['second_team']\n",
    "        winner = row['winner']\n",
    "        nrr = row['net_run_rate']\n",
    "        \n",
    "        if first == winner:\n",
    "            S_a = 1\n",
    "        elif winner == 'tie':\n",
    "            S_a = 0.5\n",
    "        else:\n",
    "            S_a = 0\n",
    "            \n",
    "        if it > 0:\n",
    "            diffs.append(abs(teams_final[first] - teams_final[second]))\n",
    "            nrrs.append(abs(nrr))\n",
    "        \n",
    "        W_mv = calculate_W_mv(nrr)\n",
    "        R_a_pr, R_b_pr = elo_step(teams_final[first], teams_final[second], S_a, K, W_mv, alpha)\n",
    "        \n",
    "        teams_final[first] = R_a_pr\n",
    "        teams_final[second] = R_b_pr\n",
    "        \n",
    "        if it == 0:\n",
    "            it += 1\n",
    "    \n",
    "    return np.array([diffs]).T, np.array(nrrs).T"
   ]
  },
  {
   "cell_type": "code",
   "execution_count": 266,
   "id": "cb15613d",
   "metadata": {},
   "outputs": [],
   "source": [
    "diffs, nrrs = elodiffs_v_nrrs(data, intl_elos, 45.5, alpha=214)"
   ]
  },
  {
   "cell_type": "code",
   "execution_count": 267,
   "id": "ae1f0c8f",
   "metadata": {},
   "outputs": [
    {
     "data": {
      "text/plain": [
       "(array([[ 22.75      ],\n",
       "        [ 22.75      ],\n",
       "        [ 22.75      ],\n",
       "        ...,\n",
       "        [104.70854808],\n",
       "        [  4.08329775],\n",
       "        [ 24.76783887]]),\n",
       " array([5.        , 0.55325273, 4.75      , ..., 1.1       , 3.1       ,\n",
       "        1.95      ]),\n",
       " (2810, 1),\n",
       " (2810,))"
      ]
     },
     "execution_count": 267,
     "metadata": {},
     "output_type": "execute_result"
    }
   ],
   "source": [
    "diffs, nrrs, diffs.shape, nrrs.shape"
   ]
  },
  {
   "cell_type": "code",
   "execution_count": 268,
   "id": "1aa5518a",
   "metadata": {},
   "outputs": [
    {
     "data": {
      "text/plain": [
       "<matplotlib.collections.PathCollection at 0x23db131bb50>"
      ]
     },
     "execution_count": 268,
     "metadata": {},
     "output_type": "execute_result"
    },
    {
     "data": {
      "image/png": "[encoded data removed]",
      "text/plain": [
       "<Figure size 640x480 with 1 Axes>"
      ]
     },
     "metadata": {},
     "output_type": "display_data"
    }
   ],
   "source": [
    "plt.scatter(diffs, nrrs)"
   ]
  },
  {
   "cell_type": "code",
   "execution_count": 269,
   "id": "aeece6f3",
   "metadata": {},
   "outputs": [
    {
     "data": {
      "text/plain": [
       "(array([0.00477159]), 1.7870127923789603)"
      ]
     },
     "execution_count": 269,
     "metadata": {},
     "output_type": "execute_result"
    }
   ],
   "source": [
    "reg = lm.LinearRegression()\n",
    "reg.fit(diffs, nrrs)\n",
    "reg.coef_, reg.intercept_"
   ]
  },
  {
   "cell_type": "code",
   "execution_count": 270,
   "id": "0740bd61",
   "metadata": {},
   "outputs": [
    {
     "data": {
      "text/plain": [
       "array([0.10501985])"
      ]
     },
     "execution_count": 270,
     "metadata": {},
     "output_type": "execute_result"
    }
   ],
   "source": [
    "r_regression(diffs, nrrs)"
   ]
  },
  {
   "cell_type": "code",
   "execution_count": 271,
   "id": "9f565d89",
   "metadata": {},
   "outputs": [
    {
     "data": {
      "text/plain": [
       "19266.96190320483"
      ]
     },
     "execution_count": 271,
     "metadata": {},
     "output_type": "execute_result"
    }
   ],
   "source": [
    "expected_nrrs = reg.coef_[0]*diffs + reg.intercept_\n",
    "mse = np.sum((expected_nrrs-nrrs)**2) / nrrs.shape[0]\n",
    "mse"
   ]
  },
  {
   "cell_type": "code",
   "execution_count": 707,
   "id": "193f7a2d",
   "metadata": {},
   "outputs": [],
   "source": [
    "def crossent_cond(params):\n",
    "    K, alpha, hga = params\n",
    "    ce_score = brier(data, intl_elos, K, alpha=alpha, hga=hga)\n",
    "    return ce_score"
   ]
  },
  {
   "cell_type": "code",
   "execution_count": 708,
   "id": "f975566b",
   "metadata": {},
   "outputs": [
    {
     "data": {
      "text/plain": [
       "(80.3223654592129, 502.2928412067084, 72.45113954192632, 0.4402972545817578)"
      ]
     },
     "execution_count": 708,
     "metadata": {},
     "output_type": "execute_result"
    }
   ],
   "source": [
    "x0 = [80, 500, 20]\n",
    "res = opt.minimize(crossent_cond, x0)\n",
    "K_opt, alpha_opt, hga_opt = res.x\n",
    "log_err = res.fun\n",
    "K_opt, alpha_opt, hga_opt, log_err"
   ]
  },
  {
   "cell_type": "code",
   "execution_count": null,
   "id": "4078cb04",
   "metadata": {},
   "outputs": [],
   "source": []
  }
 ],
 "metadata": {
  "kernelspec": {
   "display_name": "Python 3 (ipykernel)",
   "language": "python",
   "name": "python3"
  },
  "language_info": {
   "codemirror_mode": {
    "name": "ipython",
    "version": 3
   },
   "file_extension": ".py",
   "mimetype": "text/x-python",
   "name": "python",
   "nbconvert_exporter": "python",
   "pygments_lexer": "ipython3",
   "version": "3.11.3"
  }
 },
 "nbformat": 4,
 "nbformat_minor": 5
}
