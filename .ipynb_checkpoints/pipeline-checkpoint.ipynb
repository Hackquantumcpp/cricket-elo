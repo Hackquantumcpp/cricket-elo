{
 "cells": [
  {
   "cell_type": "code",
   "execution_count": 1,
   "id": "8b2b4d73",
   "metadata": {},
   "outputs": [
    {
     "name": "stderr",
     "output_type": "stream",
     "text": [
      "C:\\Users\\adhva\\anaconda3\\Lib\\site-packages\\pandas\\core\\arrays\\masked.py:60: UserWarning: Pandas requires version '1.3.6' or newer of 'bottleneck' (version '1.3.5' currently installed).\n",
      "  from pandas.core import (\n"
     ]
    }
   ],
   "source": [
    "import numpy as np\n",
    "import pandas as pd\n",
    "import scipy\n",
    "import scipy.optimize as opt\n",
    "import json\n",
    "import os\n",
    "import matplotlib.pyplot as plt\n",
    "import sklearn.linear_model as lm\n",
    "from sklearn.feature_selection import r_regression\n",
    "\n",
    "from espncricinfo.match import Match\n",
    "\n",
    "from tqdm import tqdm"
   ]
  },
  {
   "cell_type": "code",
   "execution_count": 2,
   "id": "9b81a3ac",
   "metadata": {},
   "outputs": [],
   "source": [
    "#!pip3 install python-espncricinfo"
   ]
  },
  {
   "cell_type": "code",
   "execution_count": 3,
   "id": "9fe88515",
   "metadata": {},
   "outputs": [],
   "source": [
    "import warnings\n",
    "warnings.filterwarnings('ignore')"
   ]
  },
  {
   "cell_type": "code",
   "execution_count": 4,
   "id": "773b990a",
   "metadata": {},
   "outputs": [],
   "source": [
    "# df_afg = scrape_afghanistan_t20is()\n",
    "# df_afg.head()"
   ]
  },
  {
   "cell_type": "code",
   "execution_count": 5,
   "id": "6087467f",
   "metadata": {},
   "outputs": [],
   "source": [
    "# data = pd.read_csv('cricket_matches.csv')\n",
    "# data"
   ]
  },
  {
   "cell_type": "code",
   "execution_count": 6,
   "id": "83c8e57f",
   "metadata": {},
   "outputs": [],
   "source": [
    "# teams = np.unique(np.append(data['team1'].values, data['team2'].values))\n",
    "# teams"
   ]
  },
  {
   "cell_type": "code",
   "execution_count": 7,
   "id": "4f4d5916",
   "metadata": {},
   "outputs": [],
   "source": [
    "# data.columns.values"
   ]
  },
  {
   "cell_type": "code",
   "execution_count": 8,
   "id": "43a55a82",
   "metadata": {},
   "outputs": [],
   "source": [
    "def prob_win_A(R_a: float, R_b: float, alpha: float = 400, home: str = 'neutral', hga: float = 0):\n",
    "    if home == 'neutral':\n",
    "        E_a = 1 / (1 + 10**( (R_b - R_a) / alpha ))\n",
    "    elif home == 'first':\n",
    "        E_a = 1 / (1 + 10**( (R_b - (R_a + hga) ) / alpha ))\n",
    "    elif home == 'second':\n",
    "        E_a = E_a = 1 / (1 + 10**( (R_b + hga - R_a) / alpha ))\n",
    "    else:\n",
    "        raise ValueError('Not a valid home country')\n",
    "    return E_a\n",
    "\n",
    "def elo_step(R_a: float, R_b: float, S: float, K: float, W_mv: float, alpha: float, home: str = 'neutral', hga: float = 0):\n",
    "    E_a = prob_win_A(R_a, R_b, alpha, home, hga)\n",
    "    E_b = 1 - E_a\n",
    "    R_a_pr = R_a + K*(S - E_a)*W_mv\n",
    "    R_b_pr = R_b + K*((1-S) - E_b)*W_mv\n",
    "    \n",
    "    return R_a_pr, R_b_pr"
   ]
  },
  {
   "cell_type": "code",
   "execution_count": 9,
   "id": "08862fed",
   "metadata": {},
   "outputs": [],
   "source": [
    "def prob_win_country_A(team_elos, country_A: str, country_B: str, venue_country: str, alpha: float = 400, hga: float = 0):\n",
    "    \"\"\"\n",
    "    :param team_elos: Dictionary of elo ratings for each team.\n",
    "    For the purposes of this function, country_A is the country for which win probability is calculated.\n",
    "    \"\"\"\n",
    "    R_a = team_elos[country_A]\n",
    "    R_b = team_elos[country_B]\n",
    "    if venue_country == country_A:\n",
    "        home = 'first'\n",
    "    elif venue_country == country_B:\n",
    "        home = 'second'\n",
    "    else:\n",
    "        home = 'neutral'\n",
    "    return prob_win_A(R_a, R_b, alpha, home, hga)"
   ]
  },
  {
   "cell_type": "code",
   "execution_count": 10,
   "id": "8979c122",
   "metadata": {},
   "outputs": [],
   "source": [
    "def calculate_W_mv_m1(nrr):\n",
    "    \"\"\"\n",
    "    :param nrr: Net run rate for game.\n",
    "    \"\"\"\n",
    "    return (3 + nrr)**0.63 - 1 # Testing this out\n",
    "\n",
    "def calculate_W_mv_log(nrr, elodiff):\n",
    "    \"\"\"\n",
    "    :param nrr: Net run rate for game\n",
    "    :param elodiff: Elo rating difference. ELODIFF = ELOW - ELOL\n",
    "    \"\"\"\n",
    "    return np.log(1 + abs(min(nrr, 3))) * 2.2/(0.001*elodiff + 2.2) # Testing this out"
   ]
  },
  {
   "cell_type": "code",
   "execution_count": 11,
   "id": "270fec40",
   "metadata": {},
   "outputs": [],
   "source": [
    "def generate_elo_ratings(data, teams, K, alpha=400, calculate_W_mv=calculate_W_mv_log, hga=0):\n",
    "    \"\"\"\n",
    "    :param data: DataFrame of games played.\n",
    "    :param teams: Dictionary of all teams with respective elo rating scores. At the start, all teams' Elo ratings \n",
    "    will be set to 1500.\n",
    "    :param K: K-parameter for Elo rating updates.\n",
    "    :param alpha: alpha parameter for calculating probabilities from Elo.\n",
    "    :param calculate_W_mv: Function for calculating the victory multiplier.\n",
    "    \n",
    "    Runs through Elo from start to finish for set of games, assuming that we are starting from the beginning -\n",
    "    i.e. the teams do not have pre-existing Elo ratings calculated from other games and thus all initial\n",
    "    Elo ratings are set to 1500.\n",
    "    \"\"\"\n",
    "    teams_final = teams.copy()\n",
    "    \n",
    "    for i in range(data.shape[0]):\n",
    "        row = data.iloc[i, :]\n",
    "        \n",
    "        first = row['first_team']\n",
    "        second = row['second_team']\n",
    "        winner = row['winner']\n",
    "        nrr = row['net_run_rate']\n",
    "        home_country = row['venue_country']\n",
    "        \n",
    "        if home_country == first:\n",
    "            home = 'first'\n",
    "        elif home_country == second:\n",
    "            home = 'second'\n",
    "        else:\n",
    "            home = 'neutral'\n",
    "        \n",
    "        if first == winner:\n",
    "            S_a = 1\n",
    "            loser = second\n",
    "        elif winner == 'tie':\n",
    "            S_a = 0.5\n",
    "            loser = 'tie'\n",
    "        else:\n",
    "            S_a = 0\n",
    "            loser = first\n",
    "        \n",
    "        if winner != 'tie':\n",
    "            W_mv = calculate_W_mv(nrr, teams_final[winner]-teams_final[loser])\n",
    "        else:\n",
    "            W_mv = 2.2*np.log(2)\n",
    "        R_a_pr, R_b_pr = elo_step(teams_final[first], teams_final[second], S_a, K, W_mv, alpha, home, hga)\n",
    "        \n",
    "        teams_final[first] = R_a_pr\n",
    "        teams_final[second] = R_b_pr\n",
    "    \n",
    "    return teams_final"
   ]
  },
  {
   "cell_type": "code",
   "execution_count": 12,
   "id": "ea438338",
   "metadata": {},
   "outputs": [],
   "source": [
    "# def brier(data, elodict, alpha=400): # TODO: Fix this\n",
    "#     \"\"\"\n",
    "#     :param data: DataFrame of all games.\n",
    "#     :param elodict: Dictionary of teams and their final Elo scores.\n",
    "#     :param alpha: alpha parameter.\n",
    "#     Assumes simulation has already been completed and Elo ratings calculated. Brier score test for Elo ratings.\n",
    "#     \"\"\"\n",
    "#     score = 0\n",
    "    \n",
    "#     for i in range(data.shape[0]):\n",
    "#         row = data.iloc[i, :]\n",
    "        \n",
    "        \n",
    "#         first, second, winner = row['first_team'], row['second_team'], row['winner']\n",
    "        \n",
    "#         elo1, elo2 = elodict[first], elodict[second]\n",
    "#         E_a = prob_win_A(elo1, elo2, alpha)\n",
    "#         E_b = 1 - E_a\n",
    "        \n",
    "#         if first == winner:\n",
    "#             S_a = 1\n",
    "#         elif winner == 'tie':\n",
    "#             S_a = 0.5\n",
    "#         else:\n",
    "#             S_a = 0\n",
    "        \n",
    "#         brier_comp = (S_a - E_a)**2 + ((1-S_a) - E_b)**2\n",
    "#         score += brier_comp\n",
    "    \n",
    "#     score /= data.shape[0]\n",
    "    \n",
    "#     return score"
   ]
  },
  {
   "cell_type": "code",
   "execution_count": 13,
   "id": "5b0c388c",
   "metadata": {},
   "outputs": [],
   "source": [
    "def brier(data, teams, K, alpha=400, calculate_W_mv=calculate_W_mv_log, hga=0):\n",
    "    \"\"\"\n",
    "    :param data: DataFrame of all games.\n",
    "    :param elodict: Dictionary of teams and their final Elo scores.\n",
    "    :param alpha: alpha parameter.\n",
    "    Assumes simulation has already been completed and Elo ratings calculated. Cross entropy loss for Elo ratings.\n",
    "    \"\"\"\n",
    "    score = 0\n",
    "    teams_final = teams.copy()\n",
    "    \n",
    "    for i in range(data.shape[0]):\n",
    "        row = data.iloc[i, :]\n",
    "        \n",
    "        first = row['first_team']\n",
    "        second = row['second_team']\n",
    "        winner = row['winner']\n",
    "        nrr = row['net_run_rate']\n",
    "        \n",
    "        home_country = row['venue_country']\n",
    "        \n",
    "        if home_country == first:\n",
    "            home = 'first'\n",
    "        elif home_country == second:\n",
    "            home = 'second'\n",
    "        else:\n",
    "            home = 'neutral'\n",
    "        \n",
    "        \n",
    "        if first == winner:\n",
    "            S_a = 1\n",
    "            loser = second\n",
    "        elif winner == 'tie':\n",
    "            S_a = 0.5\n",
    "            loser = 'tie'\n",
    "        else:\n",
    "            S_a = 0\n",
    "            loser = first\n",
    "        \n",
    "        if winner != 'tie':\n",
    "            W_mv = calculate_W_mv(nrr, teams_final[winner]-teams_final[loser])\n",
    "        else:\n",
    "            W_mv = 2.2*np.log(2)\n",
    "            \n",
    "        E_a = prob_win_A(teams_final[first], teams_final[second], alpha, home, hga)\n",
    "        E_b = 1 - E_a\n",
    "        \n",
    "        R_a_pr, R_b_pr = elo_step(teams_final[first], teams_final[second], S_a, K, W_mv, alpha, home, hga)\n",
    "        \n",
    "        brier_comp = (S_a - E_a)**2 + ((1-S_a) - E_b)**2\n",
    "        score += brier_comp\n",
    "        \n",
    "        teams_final[first] = R_a_pr\n",
    "        teams_final[second] = R_b_pr\n",
    "        \n",
    "        # brier_comp = (S_a - E_a)**2 + ((1-S_a) - E_b)**2\n",
    "    \n",
    "    score /= data.shape[0]\n",
    "    \n",
    "    return score"
   ]
  },
  {
   "cell_type": "code",
   "execution_count": 14,
   "id": "b5312edb",
   "metadata": {},
   "outputs": [],
   "source": [
    "# def cross_entropy(data, elodict, alpha=400):\n",
    "#     \"\"\"\n",
    "#     :param data: DataFrame of all games.\n",
    "#     :param elodict: Dictionary of teams and their final Elo scores.\n",
    "#     :param alpha: alpha parameter.\n",
    "#     Assumes simulation has already been completed and Elo ratings calculated. Cross entropy loss for Elo ratings.\n",
    "#     \"\"\"\n",
    "#     score = 0\n",
    "    \n",
    "#     for i in range(data.shape[0]):\n",
    "#         row = data.iloc[i, :]\n",
    "        \n",
    "        \n",
    "#         first, second, winner = row['first_team'], row['second_team'], row['winner']\n",
    "        \n",
    "#         elo1, elo2 = elodict[first], elodict[second]\n",
    "#         E_a = prob_win_A(elo1, elo2, alpha)\n",
    "#         E_b = 1 - E_a\n",
    "        \n",
    "#         if first == winner:\n",
    "#             S_a = 1\n",
    "#         elif winner == 'tie':\n",
    "#             S_a = 0.5\n",
    "#         else:\n",
    "#             S_a = 0\n",
    "        \n",
    "#         # brier_comp = (S_a - E_a)**2 + ((1-S_a) - E_b)**2\n",
    "#         cross_entropy_comp = -(S_a*np.log(E_a) + (1-S_a)*np.log(1-E_a))\n",
    "#         score += cross_entropy_comp\n",
    "    \n",
    "#     score /= data.shape[0]\n",
    "    \n",
    "#     return score"
   ]
  },
  {
   "cell_type": "code",
   "execution_count": 15,
   "id": "79d3e2e1",
   "metadata": {},
   "outputs": [],
   "source": [
    "def cross_entropy(data, teams, K, alpha=400, calculate_W_mv=calculate_W_mv_log, hga=0):\n",
    "    \"\"\"\n",
    "    :param data: DataFrame of all games.\n",
    "    :param elodict: Dictionary of teams and their final Elo scores.\n",
    "    :param alpha: alpha parameter.\n",
    "    Assumes simulation has already been completed and Elo ratings calculated. Cross entropy loss for Elo ratings.\n",
    "    \"\"\"\n",
    "    score = 0\n",
    "    teams_final = teams.copy()\n",
    "    \n",
    "    for i in range(data.shape[0]):\n",
    "        row = data.iloc[i, :]\n",
    "        \n",
    "        first = row['first_team']\n",
    "        second = row['second_team']\n",
    "        winner = row['winner']\n",
    "        nrr = row['net_run_rate']\n",
    "        \n",
    "        home_country = row['venue_country']\n",
    "        \n",
    "        if home_country == first:\n",
    "            home = 'first'\n",
    "        elif home_country == second:\n",
    "            home = 'second'\n",
    "        else:\n",
    "            home = 'neutral'\n",
    "        \n",
    "        \n",
    "        if first == winner:\n",
    "            S_a = 1\n",
    "            loser = second\n",
    "        elif winner == 'tie':\n",
    "            S_a = 0.5\n",
    "            loser = 'tie'\n",
    "        else:\n",
    "            S_a = 0\n",
    "            loser = first\n",
    "        \n",
    "        if winner != 'tie':\n",
    "            W_mv = calculate_W_mv(nrr, teams_final[winner]-teams_final[loser])\n",
    "        else:\n",
    "            W_mv = 2.2*np.log(2)\n",
    "            \n",
    "        E_a = prob_win_A(teams_final[first], teams_final[second], alpha, home, hga)\n",
    "        E_b = 1 - E_a\n",
    "        \n",
    "        R_a_pr, R_b_pr = elo_step(teams_final[first], teams_final[second], S_a, K, W_mv, alpha, home, hga)\n",
    "        \n",
    "        cross_entropy_comp = -(S_a*np.log(E_a) + (1-S_a)*np.log(1-E_a))\n",
    "        score += cross_entropy_comp\n",
    "        \n",
    "        teams_final[first] = R_a_pr\n",
    "        teams_final[second] = R_b_pr\n",
    "        \n",
    "        # brier_comp = (S_a - E_a)**2 + ((1-S_a) - E_b)**2\n",
    "    \n",
    "    score /= data.shape[0]\n",
    "    \n",
    "    return score"
   ]
  },
  {
   "cell_type": "code",
   "execution_count": 16,
   "id": "04a81652",
   "metadata": {},
   "outputs": [],
   "source": [
    "# def correctness(data, elodict, alpha=400): # TODO: Fix this\n",
    "#     \"\"\"\n",
    "#     :param data: DataFrame of all games.\n",
    "#     :param elodict: Dictionary of teams and their final Elo scores.\n",
    "#     :param alpha: alpha parameter.\n",
    "#     Assumes simulation has already been completed and Elo ratings calculated. Correctness (i.e., what %\n",
    "#     of games are predicted correctly) for Elo ratings.\n",
    "#     \"\"\"\n",
    "#     score = 0\n",
    "    \n",
    "#     for i in range(data.shape[0]):\n",
    "#         row = data.iloc[i, :]\n",
    "        \n",
    "        \n",
    "#         first, second, winner = row['first_team'], row['second_team'], row['winner']\n",
    "        \n",
    "#         elo1, elo2 = elodict[first], elodict[second]\n",
    "#         E_a = prob_win_A(elo1, elo2, alpha)\n",
    "#         E_b = 1 - E_a\n",
    "        \n",
    "#         if E_a >= 0.5:\n",
    "#             S_exp = 1\n",
    "#         else:\n",
    "#             S_exp = 0\n",
    "        \n",
    "#         if first == winner:\n",
    "#             S_a = 1\n",
    "#         elif winner == 'tie':\n",
    "#             S_a = 0.5\n",
    "#         else:\n",
    "#             S_a = 0\n",
    "        \n",
    "#         if S_exp == S_a:\n",
    "#             score += 1\n",
    "    \n",
    "#     score /= data.shape[0]\n",
    "    \n",
    "#     return score"
   ]
  },
  {
   "cell_type": "code",
   "execution_count": 17,
   "id": "772bdcb0",
   "metadata": {},
   "outputs": [],
   "source": [
    "def correctness(data, teams, K, alpha=400, calculate_W_mv=calculate_W_mv_log, hga=0):\n",
    "    \"\"\"\n",
    "    :param data: DataFrame of all games.\n",
    "    :param elodict: Dictionary of teams and their final Elo scores.\n",
    "    :param alpha: alpha parameter.\n",
    "    Assumes simulation has already been completed and Elo ratings calculated. Cross entropy loss for Elo ratings.\n",
    "    \"\"\"\n",
    "    score = 0\n",
    "    teams_final = teams.copy()\n",
    "    \n",
    "    for i in range(data.shape[0]):\n",
    "        row = data.iloc[i, :]\n",
    "        \n",
    "        first = row['first_team']\n",
    "        second = row['second_team']\n",
    "        winner = row['winner']\n",
    "        nrr = row['net_run_rate']\n",
    "        \n",
    "        home_country = row['venue_country']\n",
    "        \n",
    "        if home_country == first:\n",
    "            home = 'first'\n",
    "        elif home_country == second:\n",
    "            home = 'second'\n",
    "        else:\n",
    "            home = 'neutral'\n",
    "        \n",
    "        \n",
    "        if first == winner:\n",
    "            S_a = 1\n",
    "            loser = second\n",
    "        elif winner == 'tie':\n",
    "            S_a = 0.5\n",
    "            loser = 'tie'\n",
    "        else:\n",
    "            S_a = 0\n",
    "            loser = first\n",
    "        \n",
    "        if winner != 'tie':\n",
    "            W_mv = calculate_W_mv(nrr, teams_final[winner]-teams_final[loser])\n",
    "        else:\n",
    "            W_mv = 2.2*np.log(2)\n",
    "            \n",
    "        E_a = prob_win_A(teams_final[first], teams_final[second], alpha, home, hga)\n",
    "        E_b = 1 - E_a\n",
    "        \n",
    "        if E_a >= 0.5:\n",
    "            S_exp = 1\n",
    "        else:\n",
    "            S_exp = 0\n",
    "        \n",
    "        R_a_pr, R_b_pr = elo_step(teams_final[first], teams_final[second], S_a, K, W_mv, alpha, home, hga)\n",
    "        \n",
    "        # cross_entropy_comp = -(S_a*np.log(E_a) + (1-S_a)*np.log(1-E_a))\n",
    "        if S_exp == S_a:\n",
    "            score += 1\n",
    "        \n",
    "        teams_final[first] = R_a_pr\n",
    "        teams_final[second] = R_b_pr\n",
    "        \n",
    "        # brier_comp = (S_a - E_a)**2 + ((1-S_a) - E_b)**2\n",
    "    \n",
    "    score /= data.shape[0]\n",
    "    \n",
    "    return score"
   ]
  },
  {
   "cell_type": "code",
   "execution_count": 18,
   "id": "7b643754",
   "metadata": {},
   "outputs": [],
   "source": [
    "# data.iloc[0, :]"
   ]
  },
  {
   "cell_type": "code",
   "execution_count": 19,
   "id": "af6512d6",
   "metadata": {},
   "outputs": [],
   "source": [
    "def extract_cricket_summary(file_path):\n",
    "    with open(file_path, 'r', encoding='utf-8') as f:\n",
    "        data = json.load(f)\n",
    "\n",
    "    # Get teams and winner\n",
    "    teams = data['info']['teams']\n",
    "    \n",
    "    winner = data['info']['outcome'].get('winner')\n",
    "    \n",
    "    if winner is None:\n",
    "        match data['info']['outcome'].get('result'):\n",
    "            case 'no result':\n",
    "                winner = 'no result'\n",
    "            case 'tie':\n",
    "                winner = 'tie'\n",
    "                \n",
    "    if data['info']['outcome'].get('method') == 'Awarded':\n",
    "        print('Haiiiii! We at ', file_path, '<3')\n",
    "    \n",
    "    date = data['info']['dates'][0]\n",
    "    \n",
    "    teams_np = np.array(teams)\n",
    "    \n",
    "    loser = teams_np[teams_np != winner][0]\n",
    "    \n",
    "    first = (data['info']['toss']['winner'] if data['info']['toss']['decision']=='bat' \n",
    "             else teams_np[teams_np != data['info']['toss']['winner']][0])\n",
    "    second = teams_np[teams_np != first][0]\n",
    "    \n",
    "    # city = data['info']['city']\n",
    "    venue = data['info']['venue']\n",
    "\n",
    "    team_stats = {}\n",
    "\n",
    "    for innings in data['innings']:\n",
    "        team = innings['team']\n",
    "        total_runs = 0\n",
    "        legal_balls = 0\n",
    "\n",
    "        for over in innings['overs']:\n",
    "            for delivery in over['deliveries']:\n",
    "                # Add runs\n",
    "                total_runs += delivery['runs']['total']\n",
    "                \n",
    "                # Count legal balls only (not wides or no-balls)\n",
    "                extras = delivery.get('extras', {})\n",
    "                if 'wides' not in extras and 'noballs' not in extras:\n",
    "                    legal_balls += 1\n",
    "\n",
    "        overs = legal_balls // 6 + (legal_balls % 6) / 10\n",
    "        team_stats[team] = {\n",
    "            'runs': total_runs,\n",
    "            'balls': legal_balls,\n",
    "            'overs': round(overs, 1)\n",
    "        }\n",
    "    \n",
    "    if winner == 'no result' or data['info']['outcome'].get('method') == 'Awarded':\n",
    "        nrr = float('nan')\n",
    "    \n",
    "    elif winner == 'tie':\n",
    "        nrr = abs((team_stats[first]['runs'] - team_stats[second]['runs'])/20)\n",
    "    \n",
    "    elif team_stats[second]['balls'] <= 120 and winner == second: # quickfix: Condition on balls instead of overs\n",
    "        nrr = team_stats[winner]['runs']/team_stats[winner]['overs'] - team_stats[loser]['runs']/team_stats[loser]['overs']\n",
    "    \n",
    "    else:\n",
    "        nrr = (team_stats[winner]['runs'] - team_stats[loser]['runs']) / 20\n",
    "    \n",
    "    if winner == 'no result' or data['info']['outcome'].get('method') == 'Awarded': # For our purposes, matches with no result do not matter for Elo rating updates\n",
    "        return {\n",
    "        'date': date,\n",
    "        'winner': winner,\n",
    "        # 'city': city,\n",
    "        'venue': venue,\n",
    "        'first_team': first,\n",
    "        'second_team': second,\n",
    "        'first_runs': float('nan'),\n",
    "        'first_balls': float('nan'),\n",
    "        'first_overs': float('nan'),\n",
    "        'second_runs': float('nan'),\n",
    "        'second_balls': float('nan'),\n",
    "        'second_overs': float('nan'),\n",
    "        'net_run_rate': nrr\n",
    "    }\n",
    "    \n",
    "    return {\n",
    "        'date': date,\n",
    "        'winner': winner,\n",
    "        # 'city': city,\n",
    "        'venue': venue,\n",
    "        'first_team': first,\n",
    "        'second_team': second,\n",
    "        'first_runs': team_stats[first]['runs'],\n",
    "        'first_balls': team_stats[first]['balls'],\n",
    "        'first_overs': team_stats[first]['overs'],\n",
    "        'second_runs': team_stats[second]['runs'],\n",
    "        'second_balls': team_stats[second]['balls'],\n",
    "        'second_overs': team_stats[second]['overs'],\n",
    "        'net_run_rate': nrr\n",
    "    }"
   ]
  },
  {
   "cell_type": "code",
   "execution_count": 20,
   "id": "402cbfcd",
   "metadata": {},
   "outputs": [
    {
     "name": "stdout",
     "output_type": "stream",
     "text": [
      "{'date': '2025-06-12', 'winner': 'Bermuda', 'venue': 'Maple Leaf North-East Ground, King City', 'first_team': 'Bermuda', 'second_team': 'Cayman Islands', 'first_runs': 172, 'first_balls': 120, 'first_overs': 20.0, 'second_runs': 142, 'second_balls': 115, 'second_overs': 19.1, 'net_run_rate': 1.5}\n"
     ]
    }
   ],
   "source": [
    "# Example usage\n",
    "summary = extract_cricket_summary(\"data/1489582.json\")\n",
    "# summary = extract_cricket_summary(\"data/1407719.json\")\n",
    "print(summary)"
   ]
  },
  {
   "cell_type": "code",
   "execution_count": 21,
   "id": "e1db69c6",
   "metadata": {},
   "outputs": [],
   "source": [
    "def load_directory(directory):\n",
    "    summaries = []\n",
    "\n",
    "    for filename in os.listdir(directory):\n",
    "        if filename.endswith('.json'):\n",
    "            full_path = os.path.join(directory, filename)\n",
    "            try:\n",
    "                summary = extract_cricket_summary(full_path)\n",
    "                if summary:\n",
    "                    summaries.append(summary)\n",
    "            except Exception as e:\n",
    "                print(f\"Error processing {filename}: {e}\")\n",
    "\n",
    "    return pd.DataFrame(summaries)"
   ]
  },
  {
   "cell_type": "code",
   "execution_count": 22,
   "id": "498fc4c1",
   "metadata": {},
   "outputs": [],
   "source": [
    "def calculate_nrr(winner, first, second, first_runs, first_overs, second_runs, second_overs):\n",
    "    if winner == 'tie':\n",
    "        nrr = abs((first_runs - second_runs)/20)\n",
    "    elif second_overs <= 20 and winner == second:\n",
    "        nrr = second_runs/second_overs - first_runs/first_overs\n",
    "    elif winner == first:\n",
    "        nrr = (first_runs - second_runs) / 20\n",
    "    \n",
    "    return nrr"
   ]
  },
  {
   "cell_type": "code",
   "execution_count": 23,
   "id": "7fede57e",
   "metadata": {},
   "outputs": [
    {
     "data": {
      "text/html": [
       "<div>\n",
       "<style scoped>\n",
       "    .dataframe tbody tr th:only-of-type {\n",
       "        vertical-align: middle;\n",
       "    }\n",
       "\n",
       "    .dataframe tbody tr th {\n",
       "        vertical-align: top;\n",
       "    }\n",
       "\n",
       "    .dataframe thead th {\n",
       "        text-align: right;\n",
       "    }\n",
       "</style>\n",
       "<table border=\"1\" class=\"dataframe\">\n",
       "  <thead>\n",
       "    <tr style=\"text-align: right;\">\n",
       "      <th></th>\n",
       "      <th>date</th>\n",
       "      <th>winner</th>\n",
       "      <th>venue</th>\n",
       "      <th>first_team</th>\n",
       "      <th>second_team</th>\n",
       "      <th>first_runs</th>\n",
       "      <th>first_balls</th>\n",
       "      <th>first_overs</th>\n",
       "      <th>second_runs</th>\n",
       "      <th>second_balls</th>\n",
       "      <th>second_overs</th>\n",
       "      <th>net_run_rate</th>\n",
       "    </tr>\n",
       "  </thead>\n",
       "  <tbody>\n",
       "    <tr>\n",
       "      <th>0</th>\n",
       "      <td>2010-02-01</td>\n",
       "      <td>Ireland</td>\n",
       "      <td>Colombo (PSS)</td>\n",
       "      <td>Afghanistan</td>\n",
       "      <td>Ireland</td>\n",
       "      <td>121</td>\n",
       "      <td>120</td>\n",
       "      <td>20.0</td>\n",
       "      <td>124</td>\n",
       "      <td>109</td>\n",
       "      <td>18.1</td>\n",
       "      <td>0.800829</td>\n",
       "    </tr>\n",
       "    <tr>\n",
       "      <th>1</th>\n",
       "      <td>2010-02-03</td>\n",
       "      <td>Afghanistan</td>\n",
       "      <td>Colombo (SSC)</td>\n",
       "      <td>Canada</td>\n",
       "      <td>Afghanistan</td>\n",
       "      <td>140</td>\n",
       "      <td>120</td>\n",
       "      <td>20.0</td>\n",
       "      <td>143</td>\n",
       "      <td>119</td>\n",
       "      <td>19.5</td>\n",
       "      <td>0.333333</td>\n",
       "    </tr>\n",
       "    <tr>\n",
       "      <th>2</th>\n",
       "      <td>2010-02-08</td>\n",
       "      <td>Afghanistan</td>\n",
       "      <td>Dubai (DICS)</td>\n",
       "      <td>Afghanistan</td>\n",
       "      <td>Ireland</td>\n",
       "      <td>139</td>\n",
       "      <td>120</td>\n",
       "      <td>20.0</td>\n",
       "      <td>126</td>\n",
       "      <td>117</td>\n",
       "      <td>19.2</td>\n",
       "      <td>0.650000</td>\n",
       "    </tr>\n",
       "    <tr>\n",
       "      <th>3</th>\n",
       "      <td>2010-02-10</td>\n",
       "      <td>Afghanistan</td>\n",
       "      <td>Abu Dhabi</td>\n",
       "      <td>Afghanistan</td>\n",
       "      <td>Scotland</td>\n",
       "      <td>131</td>\n",
       "      <td>120</td>\n",
       "      <td>20.0</td>\n",
       "      <td>117</td>\n",
       "      <td>120</td>\n",
       "      <td>20.0</td>\n",
       "      <td>0.700000</td>\n",
       "    </tr>\n",
       "    <tr>\n",
       "      <th>4</th>\n",
       "      <td>2010-02-12</td>\n",
       "      <td>Netherlands</td>\n",
       "      <td>Dubai (DICS)</td>\n",
       "      <td>Afghanistan</td>\n",
       "      <td>Netherlands</td>\n",
       "      <td>128</td>\n",
       "      <td>120</td>\n",
       "      <td>20.0</td>\n",
       "      <td>132</td>\n",
       "      <td>113</td>\n",
       "      <td>18.5</td>\n",
       "      <td>0.735135</td>\n",
       "    </tr>\n",
       "  </tbody>\n",
       "</table>\n",
       "</div>"
      ],
      "text/plain": [
       "         date       winner          venue   first_team  second_team  \\\n",
       "0  2010-02-01      Ireland  Colombo (PSS)  Afghanistan      Ireland   \n",
       "1  2010-02-03  Afghanistan  Colombo (SSC)       Canada  Afghanistan   \n",
       "2  2010-02-08  Afghanistan   Dubai (DICS)  Afghanistan      Ireland   \n",
       "3  2010-02-10  Afghanistan      Abu Dhabi  Afghanistan     Scotland   \n",
       "4  2010-02-12  Netherlands   Dubai (DICS)  Afghanistan  Netherlands   \n",
       "\n",
       "   first_runs  first_balls  first_overs  second_runs  second_balls  \\\n",
       "0         121          120         20.0          124           109   \n",
       "1         140          120         20.0          143           119   \n",
       "2         139          120         20.0          126           117   \n",
       "3         131          120         20.0          117           120   \n",
       "4         128          120         20.0          132           113   \n",
       "\n",
       "   second_overs  net_run_rate  \n",
       "0          18.1      0.800829  \n",
       "1          19.5      0.333333  \n",
       "2          19.2      0.650000  \n",
       "3          20.0      0.700000  \n",
       "4          18.5      0.735135  "
      ]
     },
     "execution_count": 23,
     "metadata": {},
     "output_type": "execute_result"
    }
   ],
   "source": [
    "afg = pd.read_csv('afghanistan-T20I-matches.csv')\n",
    "# print(afg['winner'])\n",
    "afg['net_run_rate'] = afg[['winner', 'first_team', 'second_team', 'first_runs', 'first_overs', 'second_runs',\n",
    "                          'second_overs']].apply(lambda x: calculate_nrr(x['winner'], x['first_team'], x['second_team'],\n",
    "                                                                         x['first_runs'], x['first_overs'], x['second_runs'],\n",
    "                                                                         x['second_overs']), axis=1)\n",
    "afg.head()"
   ]
  },
  {
   "cell_type": "code",
   "execution_count": 24,
   "id": "6b8d1e8c",
   "metadata": {
    "scrolled": true
   },
   "outputs": [
    {
     "name": "stdout",
     "output_type": "stream",
     "text": [
      "Haiiiii! We at  data/1273144.json <3\n",
      "Haiiiii! We at  data/1407719.json <3\n"
     ]
    },
    {
     "data": {
      "text/html": [
       "<div>\n",
       "<style scoped>\n",
       "    .dataframe tbody tr th:only-of-type {\n",
       "        vertical-align: middle;\n",
       "    }\n",
       "\n",
       "    .dataframe tbody tr th {\n",
       "        vertical-align: top;\n",
       "    }\n",
       "\n",
       "    .dataframe thead th {\n",
       "        text-align: right;\n",
       "    }\n",
       "</style>\n",
       "<table border=\"1\" class=\"dataframe\">\n",
       "  <thead>\n",
       "    <tr style=\"text-align: right;\">\n",
       "      <th></th>\n",
       "      <th>date</th>\n",
       "      <th>winner</th>\n",
       "      <th>venue</th>\n",
       "      <th>first_team</th>\n",
       "      <th>second_team</th>\n",
       "      <th>first_runs</th>\n",
       "      <th>first_balls</th>\n",
       "      <th>first_overs</th>\n",
       "      <th>second_runs</th>\n",
       "      <th>second_balls</th>\n",
       "      <th>second_overs</th>\n",
       "      <th>net_run_rate</th>\n",
       "    </tr>\n",
       "  </thead>\n",
       "  <tbody>\n",
       "    <tr>\n",
       "      <th>2251</th>\n",
       "      <td>2005-02-17</td>\n",
       "      <td>Australia</td>\n",
       "      <td>Eden Park</td>\n",
       "      <td>Australia</td>\n",
       "      <td>New Zealand</td>\n",
       "      <td>214.0</td>\n",
       "      <td>120.0</td>\n",
       "      <td>20.0</td>\n",
       "      <td>170.0</td>\n",
       "      <td>120.0</td>\n",
       "      <td>20.0</td>\n",
       "      <td>2.200000</td>\n",
       "    </tr>\n",
       "    <tr>\n",
       "      <th>2250</th>\n",
       "      <td>2005-06-13</td>\n",
       "      <td>England</td>\n",
       "      <td>The Rose Bowl</td>\n",
       "      <td>England</td>\n",
       "      <td>Australia</td>\n",
       "      <td>179.0</td>\n",
       "      <td>120.0</td>\n",
       "      <td>20.0</td>\n",
       "      <td>79.0</td>\n",
       "      <td>87.0</td>\n",
       "      <td>14.3</td>\n",
       "      <td>5.000000</td>\n",
       "    </tr>\n",
       "    <tr>\n",
       "      <th>2252</th>\n",
       "      <td>2005-10-21</td>\n",
       "      <td>New Zealand</td>\n",
       "      <td>New Wanderers Stadium</td>\n",
       "      <td>South Africa</td>\n",
       "      <td>New Zealand</td>\n",
       "      <td>133.0</td>\n",
       "      <td>117.0</td>\n",
       "      <td>19.3</td>\n",
       "      <td>134.0</td>\n",
       "      <td>108.0</td>\n",
       "      <td>18.0</td>\n",
       "      <td>0.553253</td>\n",
       "    </tr>\n",
       "    <tr>\n",
       "      <th>2255</th>\n",
       "      <td>2006-01-09</td>\n",
       "      <td>Australia</td>\n",
       "      <td>Brisbane Cricket Ground, Woolloongabba</td>\n",
       "      <td>Australia</td>\n",
       "      <td>South Africa</td>\n",
       "      <td>209.0</td>\n",
       "      <td>120.0</td>\n",
       "      <td>20.0</td>\n",
       "      <td>114.0</td>\n",
       "      <td>111.0</td>\n",
       "      <td>18.3</td>\n",
       "      <td>4.750000</td>\n",
       "    </tr>\n",
       "    <tr>\n",
       "      <th>2256</th>\n",
       "      <td>2006-02-16</td>\n",
       "      <td>tie</td>\n",
       "      <td>Eden Park</td>\n",
       "      <td>West Indies</td>\n",
       "      <td>New Zealand</td>\n",
       "      <td>126.0</td>\n",
       "      <td>120.0</td>\n",
       "      <td>20.0</td>\n",
       "      <td>126.0</td>\n",
       "      <td>120.0</td>\n",
       "      <td>20.0</td>\n",
       "      <td>0.000000</td>\n",
       "    </tr>\n",
       "  </tbody>\n",
       "</table>\n",
       "</div>"
      ],
      "text/plain": [
       "            date       winner                                   venue  \\\n",
       "2251  2005-02-17    Australia                               Eden Park   \n",
       "2250  2005-06-13      England                           The Rose Bowl   \n",
       "2252  2005-10-21  New Zealand                   New Wanderers Stadium   \n",
       "2255  2006-01-09    Australia  Brisbane Cricket Ground, Woolloongabba   \n",
       "2256  2006-02-16          tie                               Eden Park   \n",
       "\n",
       "        first_team   second_team  first_runs  first_balls  first_overs  \\\n",
       "2251     Australia   New Zealand       214.0        120.0         20.0   \n",
       "2250       England     Australia       179.0        120.0         20.0   \n",
       "2252  South Africa   New Zealand       133.0        117.0         19.3   \n",
       "2255     Australia  South Africa       209.0        120.0         20.0   \n",
       "2256   West Indies   New Zealand       126.0        120.0         20.0   \n",
       "\n",
       "      second_runs  second_balls  second_overs  net_run_rate  \n",
       "2251        170.0         120.0          20.0      2.200000  \n",
       "2250         79.0          87.0          14.3      5.000000  \n",
       "2252        134.0         108.0          18.0      0.553253  \n",
       "2255        114.0         111.0          18.3      4.750000  \n",
       "2256        126.0         120.0          20.0      0.000000  "
      ]
     },
     "execution_count": 24,
     "metadata": {},
     "output_type": "execute_result"
    }
   ],
   "source": [
    "data = load_directory('data/')\n",
    "data = pd.concat([data, afg], axis=0)\n",
    "data = data.sort_values(by=['date'], ascending=True)\n",
    "data.head()"
   ]
  },
  {
   "cell_type": "code",
   "execution_count": 25,
   "id": "ff70352d",
   "metadata": {},
   "outputs": [
    {
     "data": {
      "text/plain": [
       "(2870, 12)"
      ]
     },
     "execution_count": 25,
     "metadata": {},
     "output_type": "execute_result"
    }
   ],
   "source": [
    "data.shape"
   ]
  },
  {
   "cell_type": "code",
   "execution_count": 26,
   "id": "779bfd69",
   "metadata": {},
   "outputs": [
    {
     "data": {
      "text/plain": [
       "(2811, 12)"
      ]
     },
     "execution_count": 26,
     "metadata": {},
     "output_type": "execute_result"
    }
   ],
   "source": [
    "data = data[data['winner'] != 'no result']\n",
    "data = data[~data['net_run_rate'].isna()]\n",
    "data.shape"
   ]
  },
  {
   "cell_type": "code",
   "execution_count": 27,
   "id": "275232ca",
   "metadata": {},
   "outputs": [],
   "source": [
    "# data.iloc[-1, :]"
   ]
  },
  {
   "cell_type": "code",
   "execution_count": 28,
   "id": "d5d78312",
   "metadata": {},
   "outputs": [
    {
     "data": {
      "text/plain": [
       "array(['Afghanistan', 'Argentina', 'Australia', 'Austria', 'Bahamas',\n",
       "       'Bahrain', 'Bangladesh', 'Belgium', 'Belize', 'Bermuda', 'Bhutan',\n",
       "       'Botswana', 'Brazil', 'Bulgaria', 'Cambodia', 'Cameroon', 'Canada',\n",
       "       'Cayman Islands', 'Chile', 'China', 'Cook Islands', 'Costa Rica',\n",
       "       'Croatia', 'Cyprus', 'Czech Republic', 'Denmark', 'England',\n",
       "       'Estonia', 'Eswatini', 'Fiji', 'Finland', 'France', 'Gambia',\n",
       "       'Germany', 'Ghana', 'Gibraltar', 'Greece', 'Guernsey', 'Hong Kong',\n",
       "       'Hungary', 'ICC World XI', 'India', 'Indonesia', 'Iran', 'Ireland',\n",
       "       'Isle of Man', 'Israel', 'Italy', 'Ivory Coast', 'Japan', 'Jersey',\n",
       "       'Kenya', 'Kuwait', 'Lesotho', 'Luxembourg', 'Malawi', 'Malaysia',\n",
       "       'Maldives', 'Mali', 'Malta', 'Mexico', 'Mongolia', 'Mozambique',\n",
       "       'Myanmar', 'Namibia', 'Nepal', 'Netherlands', 'New Zealand',\n",
       "       'Nigeria', 'Norway', 'Oman', 'Pakistan', 'Panama',\n",
       "       'Papua New Guinea', 'Philippines', 'Portugal', 'Qatar', 'Romania',\n",
       "       'Rwanda', 'Samoa', 'Saudi Arabia', 'Scotland', 'Serbia',\n",
       "       'Seychelles', 'Sierra Leone', 'Singapore', 'Slovenia',\n",
       "       'South Africa', 'South Korea', 'Spain', 'Sri Lanka', 'St Helena',\n",
       "       'Suriname', 'Swaziland', 'Sweden', 'Switzerland', 'Tanzania',\n",
       "       'Thailand', 'Turkey', 'Turks and Caicos Island', 'Uganda',\n",
       "       'United Arab Emirates', 'United States of America', 'Vanuatu',\n",
       "       'West Indies', 'Zimbabwe'], dtype=object)"
      ]
     },
     "execution_count": 28,
     "metadata": {},
     "output_type": "execute_result"
    }
   ],
   "source": [
    "teams = np.unique(np.append(data['first_team'].values, data['second_team'].values))\n",
    "teams"
   ]
  },
  {
   "cell_type": "code",
   "execution_count": 29,
   "id": "aecbe1bb",
   "metadata": {
    "scrolled": true
   },
   "outputs": [
    {
     "data": {
      "text/plain": [
       "array(['AMI Stadium', 'Abu Dhabi',\n",
       "       'Achimota Senior Secondary School A Field, Accra',\n",
       "       'Achimota Senior Secondary School B Field, Accra', 'Adelaide',\n",
       "       'Adelaide Oval',\n",
       "       'Al Amerat Cricket Ground Oman Cricket (Ministry Turf 1)',\n",
       "       'Al Amerat Cricket Ground Oman Cricket (Ministry Turf 2)',\n",
       "       'Amini Park', 'Amini Park, Port Moresby',\n",
       "       'Arnos Vale Ground, Kingstown',\n",
       "       'Arnos Vale Ground, Kingstown, St Vincent', 'Arun Jaitley Stadium',\n",
       "       'Arun Jaitley Stadium, Delhi', 'Ballpark Ground, Graz',\n",
       "       'Barabati Stadium', 'Barabati Stadium, Cuttack',\n",
       "       'Barsapara Cricket Stadium', 'Barsapara Cricket Stadium, Guwahati',\n",
       "       'Basseterre', 'Bay Oval', 'Bay Oval, Mount Maunganui',\n",
       "       'Bayer Uerdingen Cricket Ground', 'Bayuemas Oval, Kuala Lumpur',\n",
       "       'Beausejour Stadium, Gros Islet', 'Belfast',\n",
       "       'Belgrano Athletic Club Ground, Buenos Aires', 'Bellerive Oval',\n",
       "       'Bellerive Oval, Hobart', 'Bengaluru', 'Bermuda National Stadium',\n",
       "       'Bharat Ratna Shri Atal Bihari Vajpayee Ekana Cricket Stadium',\n",
       "       'Bharat Ratna Shri Atal Bihari Vajpayee Ekana Cricket Stadium, Lucknow',\n",
       "       'Boland Park', 'Brabourne Stadium', 'Bready',\n",
       "       'Bready Cricket Club, Magheramason',\n",
       "       'Bready Cricket Club, Magheramason, Bready',\n",
       "       'Brian Lara Stadium, Tarouba, Trinidad', 'Bridgetown', 'Brisbane',\n",
       "       'Brisbane Cricket Ground, Woolloongabba',\n",
       "       'Brisbane Cricket Ground, Woolloongabba, Brisbane', 'Buffalo Park',\n",
       "       'Bulawayo', 'Bulawayo Athletic Club', 'Carrara Oval',\n",
       "       'Castle Avenue, Dublin',\n",
       "       'Central Broward Regional Park Stadium Turf Ground',\n",
       "       'Central Broward Regional Park Stadium Turf Ground, Lauderhill',\n",
       "       'Chattogram', 'Civil Service Cricket Club, Stormont',\n",
       "       'Civil Service Cricket Club, Stormont, Belfast',\n",
       "       'Clayton Panama, Panama City', 'College Field',\n",
       "       'College Field, St Peter Port', 'Colombo (PSS)', 'Colombo (RPS)',\n",
       "       'Colombo (SSC)', 'Coolidge Cricket Ground, Antigua',\n",
       "       'County Ground', 'County Ground, Bristol', 'Dambulla',\n",
       "       'Daren Sammy National Cricket Stadium, Gros Islet, St Lucia',\n",
       "       'Darren Sammy National Cricket Stadium, St Lucia',\n",
       "       'De Beers Diamond Oval', 'Dehradun', 'Delhi',\n",
       "       'Desert Springs Cricket Ground',\n",
       "       'Desert Springs Cricket Ground, Almeria',\n",
       "       'Dr. Y.S. Rajasekhara Reddy ACA-VDCA Cricket Stadium',\n",
       "       'Dr. Y.S. Rajasekhara Reddy ACA-VDCA Cricket Stadium, Visakhapatnam',\n",
       "       'Dreux Sport Cricket Club', 'Dubai (DICS)',\n",
       "       'Dubai International Cricket Stadium', 'Dublin',\n",
       "       'Dublin (Malahide)', 'Eden Gardens', 'Eden Gardens, Kolkata',\n",
       "       'Eden Park', 'Eden Park, Auckland', 'Edgbaston',\n",
       "       'Edgbaston, Birmingham', 'Edinburgh', 'Entebbe Cricket Oval',\n",
       "       'Europa Sports Complex', 'Faleata Oval No 2, Apia', 'Fatullah',\n",
       "       'Feroz Shah Kotla', 'GB Oval, Szodliget',\n",
       "       'GMHBA Stadium, South Geelong, Victoria', 'Gaddafi Stadium',\n",
       "       'Gaddafi Stadium, Lahore',\n",
       "       'Gahanga International Cricket Stadium, Rwanda',\n",
       "       'Gahanga International Cricket Stadium. Rwanda',\n",
       "       'Gelephu International Cricket Ground', 'Goldenacre, Edinburgh',\n",
       "       'Grainville, St Saviour', 'Grand Prairie Stadium, Dallas',\n",
       "       'Grange Cricket Club Ground, Raeburn Place',\n",
       "       'Grange Cricket Club Ground, Raeburn Place, Edinburgh',\n",
       "       'Grange Cricket Club, Raeburn Place', 'Greater Noida',\n",
       "       'Green Park', 'Greenfield International Stadium',\n",
       "       'Greenfield International Stadium, Thiruvananthapuram',\n",
       "       'Gros Islet', 'Gucherre Cricket Ground',\n",
       "       'Guernsey Rovers Athletic Club Ground, Port Soif',\n",
       "       'Gymkhana Club Ground', 'Gymkhana Club Ground, Dar-es-Salaam',\n",
       "       'Gymkhana Club Ground, Nairobi', 'Hagley Oval',\n",
       "       'Hagley Oval, Christchurch', 'Hangzhou', 'Happy Valley Ground',\n",
       "       'Harare', 'Harare Sports Club', 'Hazelaarweg', 'Headingley, Leeds',\n",
       "       'Himachal Pradesh Cricket Association Stadium',\n",
       "       'Himachal Pradesh Cricket Association Stadium, Dharamsala',\n",
       "       'Holkar Cricket Stadium', 'Holkar Cricket Stadium, Indore',\n",
       "       'Hurlingham Club Ground, Buenos Aires', 'ICC Academy',\n",
       "       'ICC Academy Ground No 2', 'ICC Academy, Dubai',\n",
       "       'ICC Global Cricket Academy', 'ICCA Dubai',\n",
       "       'Independence Park, Port Vila', 'Indian Association Ground',\n",
       "       'Indian Association Ground, Singapore', 'Indore',\n",
       "       'Integrated Polytechnic Regional Centre',\n",
       "       'Ishoj Cricket Club, Vejledalen',\n",
       "       'JSCA International Stadium Complex',\n",
       "       'JSCA International Stadium Complex, Ranchi', 'Jade Stadium',\n",
       "       'Jimmy Powell Oval, Cayman Islands', 'Jinja Cricket Ground',\n",
       "       'John Davies Oval, Queenstown', 'Kennington Oval',\n",
       "       'Kennington Oval, London', 'Kensington Oval, Bridgetown',\n",
       "       'Kensington Oval, Bridgetown, Barbados',\n",
       "       'Kerava National Cricket Ground', 'Khan Shaheb Osman Ali Stadium',\n",
       "       'King George V Sports Ground',\n",
       "       'King George V Sports Ground, Castel', 'Kingsmead',\n",
       "       'Kingsmead, Durban', 'Kingstown', 'Kinrara Academy Oval',\n",
       "       'Koge Cricket Club', 'Kyambogo Cricket Oval',\n",
       "       'La Manga Club Bottom Ground', 'La Manga Club Top Ground',\n",
       "       'Lisicji Jarak Cricket Ground', \"Lord's\", 'Los Reyes Polo Club',\n",
       "       'Lucknow', 'Lugogo Cricket Oval', 'M Chinnaswamy Stadium',\n",
       "       'M Chinnaswamy Stadium, Bengaluru', 'M.Chinnaswamy Stadium',\n",
       "       'MA Chidambaram Stadium, Chepauk',\n",
       "       'MA Chidambaram Stadium, Chepauk, Chennai',\n",
       "       'Maharashtra Cricket Association Stadium',\n",
       "       'Maharashtra Cricket Association Stadium, Pune',\n",
       "       'Mahinda Rajapaksa International Cricket Stadium, Sooriyawewa',\n",
       "       'Malahide, Dublin', 'Mangaung Oval', 'Manuka Oval',\n",
       "       'Manuka Oval, Canberra', 'Maple Leaf North-East Ground, King City',\n",
       "       'Maple Leaf North-West Ground',\n",
       "       'Maple Leaf North-West Ground, King City', 'Marsa Sports Club',\n",
       "       'McLean Park', 'McLean Park, Napier', 'Meersen, Gent',\n",
       "       'Melbourne Cricket Ground', 'Mirpur',\n",
       "       'Mission Road Ground, Mong Kok',\n",
       "       'Mission Road Ground, Mong Kok, Hong Kong',\n",
       "       'Mladost Cricket Ground, Zagreb', 'Moara Vlasiei Cricket Ground',\n",
       "       'Moara Vlasiei Cricket Ground, Ilfov County', 'Mohali',\n",
       "       'Mombasa Sports Club Ground', 'Moses Mabhida Stadium',\n",
       "       'Mulpani Cricket Ground', 'Nagpur',\n",
       "       'Namibia Cricket Ground, Windhoek', 'Narendra Modi Stadium',\n",
       "       'Narendra Modi Stadium, Ahmedabad',\n",
       "       'Nassau County International Cricket Stadium, New York',\n",
       "       'National Cricket Stadium, Grenada',\n",
       "       \"National Cricket Stadium, St George's, Grenada\",\n",
       "       'National Sports Academy, Sofia', 'National Stadium',\n",
       "       'National Stadium, Hamilton', 'National Stadium, Karachi',\n",
       "       'New Wanderers Stadium', 'Newlands',\n",
       "       'Nigeria Cricket Federation Oval 1, Abuja',\n",
       "       'Nigeria Cricket Federation Oval 2, Abuja', 'OUTsurance Oval',\n",
       "       'Old Trafford', 'Old Trafford, Manchester', 'P Sara Oval',\n",
       "       'Pallekele International Cricket Stadium', 'Perth',\n",
       "       'Perth Stadium', 'Pierre Werner Cricket Ground',\n",
       "       'Prairie View Cricket Complex', 'Providence', 'Providence Stadium',\n",
       "       'Providence Stadium, Guyana',\n",
       "       'Punjab Cricket Association IS Bindra Stadium, Mohali',\n",
       "       'Punjab Cricket Association IS Bindra Stadium, Mohali, Chandigarh',\n",
       "       'Punjab Cricket Association Stadium, Mohali',\n",
       "       \"Queen's Park Oval, Port of Spain\", 'Queens Sports Club',\n",
       "       'Queens Sports Club, Bulawayo', 'R Premadasa Stadium',\n",
       "       'R Premadasa Stadium, Colombo', 'R.Premadasa Stadium, Khettarama',\n",
       "       'Rajiv Gandhi International Stadium, Uppal',\n",
       "       'Rajiv Gandhi International Stadium, Uppal, Hyderabad',\n",
       "       'Rangiri Dambulla International Stadium',\n",
       "       'Rawalpindi Cricket Stadium', 'Riverside Ground',\n",
       "       'Riverside Ground, Chester-le-Street', 'Roma Cricket Ground',\n",
       "       'Royal Brussels Cricket Club Ground, Waterloo',\n",
       "       'Ruaraka Sports Club Ground, Nairobi', 'Sabina Park, Kingston',\n",
       "       'Sabina Park, Kingston, Jamaica',\n",
       "       'Sano International Cricket Ground', 'Santarem Cricket Ground',\n",
       "       'Sao Fernando Polo and Cricket Club',\n",
       "       'Sardar Patel Stadium, Motera',\n",
       "       'Saurashtra Cricket Association Stadium',\n",
       "       'Saurashtra Cricket Association Stadium, Rajkot',\n",
       "       'Sawai Mansingh Stadium, Jaipur', 'Saxton Oval',\n",
       "       'Saxton Oval, Nelson', 'Scott Page Field, Vinor', 'Seddon Park',\n",
       "       'Seddon Park, Hamilton', 'Selangor Turf Club, Kuala Lumpur',\n",
       "       'Senwes Park',\n",
       "       'Shaheed Veer Narayan Singh International Stadium, Raipur',\n",
       "       'Sharjah', 'Sharjah Cricket Stadium', 'Sheikh Abu Naser Stadium',\n",
       "       'Sheikh Zayed Stadium', 'Shere Bangla National Stadium',\n",
       "       'Shere Bangla National Stadium, Mirpur',\n",
       "       'Shrimant Madhavrao Scindia Cricket Stadium, Gwalior',\n",
       "       'Sikh Union Club Ground, Nairobi', 'Simar Cricket Ground, Rome',\n",
       "       'Simonds Stadium, South Geelong',\n",
       "       'Singapore National Cricket Ground',\n",
       "       'Sir Vivian Richards Stadium, North Sound',\n",
       "       'Sir Vivian Richards Stadium, North Sound, Antigua', 'Sky Stadium',\n",
       "       'Sky Stadium, Wellington', 'Solvangs Park, Glostrup',\n",
       "       'Sophia Gardens', 'Sophia Gardens, Cardiff',\n",
       "       'Sportpark Het Schootsveld', 'Sportpark Het Schootsveld, Deventer',\n",
       "       'Sportpark Maarschalkerweerd',\n",
       "       'Sportpark Maarschalkerweerd, Utrecht', 'Sportpark Westvliet',\n",
       "       'Sportpark Westvliet, The Hague', 'St Albans Club, Buenos Aires',\n",
       "       \"St George's College Ground, Buenos Aires\", \"St George's Park\",\n",
       "       \"St George's Park, Gqeberha\", 'St Georges Quilmes',\n",
       "       'Stadium Australia', 'Stars Arena Hofstade, Zemst',\n",
       "       'Subrata Roy Sahara Stadium', 'SuperSport Park',\n",
       "       'SuperSport Park, Centurion', 'Svanholm Park, Brondby',\n",
       "       'Sydney Cricket Ground', 'Sylhet',\n",
       "       'Sylhet International Cricket Stadium', 'Sylhet Stadium',\n",
       "       'TCA Oval, Blantyre', 'Tafawa Balewa Square Cricket Oval, Lagos',\n",
       "       'Tarouba', 'Terdthai Cricket Ground',\n",
       "       'Terdthai Cricket Ground, Bangkok', 'The Rose Bowl',\n",
       "       'The Rose Bowl, Southampton', 'The Village, Malahide',\n",
       "       'The Village, Malahide, Dublin', 'The Wanderers Stadium',\n",
       "       'The Wanderers Stadium, Johannesburg', 'Tikkurila Cricket Ground',\n",
       "       'Titwood, Glasgow', 'Tolerance Oval', 'Tony Ireland Stadium',\n",
       "       'Trent Bridge', 'Trent Bridge, Nottingham',\n",
       "       'Tribhuvan University International Cricket Ground',\n",
       "       'Tribhuvan University International Cricket Ground, Kirtipur',\n",
       "       'UKM-YSD Cricket Oval, Bangi', 'Udayana Cricket Ground',\n",
       "       'United Cricket Club Ground',\n",
       "       'United Cricket Club Ground, Windhoek', 'University Oval',\n",
       "       'University Oval, Dunedin', 'University of Dar-es-Salaam Ground',\n",
       "       'University of Doha for Science and Technology',\n",
       "       'University of Lagos Cricket Oval', 'VRA Ground',\n",
       "       'Velden Cricket Ground, Latschach',\n",
       "       'Vidarbha Cricket Association Stadium, Jamtha',\n",
       "       'Vidarbha Cricket Association Stadium, Jamtha, Nagpur',\n",
       "       'Wanderers', 'Wanderers Cricket Ground',\n",
       "       'Wanderers Cricket Ground, Windhoek', 'Wankhede',\n",
       "       'Wankhede Stadium', 'Wankhede Stadium, Mumbai',\n",
       "       'Warner Park, Basseterre', 'Warner Park, Basseterre, St Kitts',\n",
       "       'Warner Park, St Kitts',\n",
       "       'West End Park International Cricket Stadium, Doha',\n",
       "       'Western Australia Cricket Association Ground', 'Westpac Stadium',\n",
       "       'White Hill Field, Sandys Parish', 'Willowmoore Park, Benoni',\n",
       "       'Windsor Park, Roseau', 'Windsor Park, Roseau, Dominica',\n",
       "       'YSD-UKM Cricket Oval, Bangi', 'Yeonhui Cricket Ground, Incheon',\n",
       "       'Zahur Ahmed Chowdhury Stadium',\n",
       "       'Zahur Ahmed Chowdhury Stadium, Chattogram',\n",
       "       'Zayed Cricket Stadium, Abu Dhabi',\n",
       "       'Zhejiang University of Technology Cricket Field'], dtype=object)"
      ]
     },
     "execution_count": 29,
     "metadata": {},
     "output_type": "execute_result"
    }
   ],
   "source": [
    "grounds = np.unique(data['venue'].values)\n",
    "grounds"
   ]
  },
  {
   "cell_type": "code",
   "execution_count": 30,
   "id": "d25bda7f",
   "metadata": {},
   "outputs": [],
   "source": [
    "# Generated with AI: check before utilizing for HGA\n",
    "grounds_to_home = {\n",
    "    'AMI Stadium': 'New Zealand',\n",
    "    'Abu Dhabi': 'United Arab Emirates',\n",
    "    'Achimota Senior Secondary School A Field, Accra': 'Ghana',\n",
    "    'Achimota Senior Secondary School B Field, Accra': 'Ghana',\n",
    "    'Adelaide': 'Australia',\n",
    "    'Adelaide Oval': 'Australia',\n",
    "    'Al Amerat Cricket Ground Oman Cricket (Ministry Turf 1)': 'Oman',\n",
    "    'Al Amerat Cricket Ground Oman Cricket (Ministry Turf 2)': 'Oman',\n",
    "    'Amini Park': 'Papua New Guinea',\n",
    "    'Amini Park, Port Moresby': 'Papua New Guinea',\n",
    "    'Arnos Vale Ground, Kingstown': 'Saint Vincent and the Grenadines',\n",
    "    'Arnos Vale Ground, Kingstown, St Vincent': 'Saint Vincent and the Grenadines',\n",
    "    'Arun Jaitley Stadium': 'India',\n",
    "    'Arun Jaitley Stadium, Delhi': 'India',\n",
    "    'Ballpark Ground, Graz': 'Austria',\n",
    "    'Barabati Stadium': 'India',\n",
    "    'Barabati Stadium, Cuttack': 'India',\n",
    "    'Barsapara Cricket Stadium': 'India',\n",
    "    'Barsapara Cricket Stadium, Guwahati': 'India',\n",
    "    'Basseterre': 'Saint Kitts and Nevis',\n",
    "    'Bay Oval': 'New Zealand',\n",
    "    'Bay Oval, Mount Maunganui': 'New Zealand',\n",
    "    'Bayer Uerdingen Cricket Ground': 'Germany',\n",
    "    'Bayuemas Oval, Kuala Lumpur': 'Malaysia',\n",
    "    'Beausejour Stadium, Gros Islet': 'Saint Lucia',\n",
    "    'Belfast': 'Northern Ireland (United Kingdom)',\n",
    "    'Belgrano Athletic Club Ground, Buenos Aires': 'Argentina',\n",
    "    'Bellerive Oval': 'Australia',\n",
    "    'Bellerive Oval, Hobart': 'Australia',\n",
    "    'Bengaluru': 'India',\n",
    "    'Bermuda National Stadium': 'Bermuda',\n",
    "    'Bharat Ratna Shri Atal Bihari Vajpayee Ekana Cricket Stadium': 'India',\n",
    "    'Bharat Ratna Shri Atal Bihari Vajpayee Ekana Cricket Stadium, Lucknow': 'India',\n",
    "    'Boland Park': 'South Africa',\n",
    "    'Brabourne Stadium': 'India',\n",
    "    'Bready': 'Northern Ireland (United Kingdom)',\n",
    "    'Bready Cricket Club, Magheramason': 'Northern Ireland (United Kingdom)',\n",
    "    'Bready Cricket Club, Magheramason, Bready': 'Northern Ireland (United Kingdom)',\n",
    "    'Brian Lara Stadium, Tarouba, Trinidad': 'Trinidad and Tobago',\n",
    "    'Bridgetown': 'Barbados',\n",
    "    'Brisbane': 'Australia',\n",
    "    'Brisbane Cricket Ground, Woolloongabba': 'Australia',\n",
    "    'Brisbane Cricket Ground, Woolloongabba, Brisbane': 'Australia',\n",
    "    'Buffalo Park': 'South Africa',\n",
    "    'Bulawayo': 'Zimbabwe',\n",
    "    'Bulawayo Athletic Club': 'Zimbabwe',\n",
    "    'Carrara Oval': 'Australia',\n",
    "    'Castle Avenue, Dublin': 'Ireland',\n",
    "    'Central Broward Regional Park Stadium Turf Ground': 'United States',\n",
    "    'Central Broward Regional Park Stadium Turf Ground, Lauderhill': 'United States',\n",
    "    'Chattogram': 'Bangladesh',\n",
    "    'Civil Service Cricket Club, Stormont': 'Northern Ireland (United Kingdom)',\n",
    "    'Civil Service Cricket Club, Stormont, Belfast': 'Northern Ireland (United Kingdom)',\n",
    "    'Clayton Panama, Panama City': 'Panama',\n",
    "    'College Field': 'Guernsey',\n",
    "    'College Field, St Peter Port': 'Guernsey',\n",
    "    'Colombo (PSS)': 'Sri Lanka',\n",
    "    'Colombo (RPS)': 'Sri Lanka',\n",
    "    'Colombo (SSC)': 'Sri Lanka',\n",
    "    'Coolidge Cricket Ground, Antigua': 'Antigua and Barbuda',\n",
    "    'County Ground': 'England',\n",
    "    'County Ground, Bristol': 'England',\n",
    "    'Dambulla': 'Sri Lanka',\n",
    "    'Daren Sammy National Cricket Stadium, Gros Islet, St Lucia': 'Saint Lucia',\n",
    "    'Darren Sammy National Cricket Stadium, St Lucia': 'Saint Lucia',\n",
    "    'De Beers Diamond Oval': 'South Africa',\n",
    "    'Dehradun': 'India',\n",
    "    'Delhi': 'India',\n",
    "    'Desert Springs Cricket Ground': 'Spain',\n",
    "    'Desert Springs Cricket Ground, Almeria': 'Spain',\n",
    "    'Dr. Y.S. Rajasekhara Reddy ACA-VDCA Cricket Stadium': 'India',\n",
    "    'Dr. Y.S. Rajasekhara Reddy ACA-VDCA Cricket Stadium, Visakhapatnam': 'India',\n",
    "    'Dreux Sport Cricket Club': 'France',\n",
    "    'Dubai (DICS)': 'United Arab Emirates',\n",
    "    'Dubai International Cricket Stadium': 'United Arab Emirates',\n",
    "    'Dublin': 'Ireland',\n",
    "    'Dublin (Malahide)': 'Ireland',\n",
    "    'Eden Gardens': 'India',\n",
    "    'Eden Gardens, Kolkata': 'India',\n",
    "    'Eden Park': 'New Zealand',\n",
    "    'Eden Park, Auckland': 'New Zealand',\n",
    "    'Edgbaston': 'England',\n",
    "    'Edgbaston, Birmingham': 'England',\n",
    "    'Edinburgh': 'Scotland (United Kingdom)',\n",
    "    'Entebbe Cricket Oval': 'Uganda',\n",
    "    'Europa Sports Complex': 'Gibraltar',\n",
    "    'Faleata Oval No 2, Apia': 'Samoa',\n",
    "    'Fatullah': 'Bangladesh',\n",
    "    'Feroz Shah Kotla': 'India',\n",
    "    'GB Oval, Szodliget': 'Hungary',\n",
    "    'GMHBA Stadium, South Geelong, Victoria': 'Australia',\n",
    "    'Gaddafi Stadium': 'Pakistan',\n",
    "    'Gaddafi Stadium, Lahore': 'Pakistan',\n",
    "    'Gahanga International Cricket Stadium, Rwanda': 'Rwanda',\n",
    "    'Gahanga International Cricket Stadium. Rwanda': 'Rwanda',\n",
    "    'Gelephu International Cricket Ground': 'Bhutan',\n",
    "    'Goldenacre, Edinburgh': 'Scotland (United Kingdom)',\n",
    "    'Grainville, St Saviour': 'Jersey',\n",
    "    'Grand Prairie Stadium, Dallas': 'United States',\n",
    "    'Grange Cricket Club Ground, Raeburn Place': 'Scotland (United Kingdom)',\n",
    "    'Grange Cricket Club Ground, Raeburn Place, Edinburgh': 'Scotland (United Kingdom)',\n",
    "    'Grange Cricket Club, Raeburn Place': 'Scotland (United Kingdom)',\n",
    "    'Greater Noida': 'India',\n",
    "    'Green Park': 'India',\n",
    "    'Greenfield International Stadium': 'India',\n",
    "    'Greenfield International Stadium, Thiruvananthapuram': 'India',\n",
    "    'Gros Islet': 'Saint Lucia',\n",
    "    'Gucherre Cricket Ground': 'Portugal',\n",
    "    'Guernsey Rovers Athletic Club Ground, Port Soif': 'Guernsey',\n",
    "    'Gymkhana Club Ground': 'Tanzania',\n",
    "    'Gymkhana Club Ground, Dar-es-Salaam': 'Tanzania',\n",
    "    'Gymkhana Club Ground, Nairobi': 'Kenya',\n",
    "    'Hagley Oval': 'New Zealand',\n",
    "    'Hagley Oval, Christchurch': 'New Zealand',\n",
    "    'Hangzhou': 'China',\n",
    "    'Happy Valley Ground': 'Hong Kong',\n",
    "    'Harare': 'Zimbabwe',\n",
    "    'Harare Sports Club': 'Zimbabwe',\n",
    "    'Hazelaarweg': 'Netherlands',\n",
    "    'Headingley, Leeds': 'England',\n",
    "    'Himachal Pradesh Cricket Association Stadium': 'India',\n",
    "    'Himachal Pradesh Cricket Association Stadium, Dharamsala': 'India',\n",
    "    'Holkar Cricket Stadium': 'India',\n",
    "    'Holkar Cricket Stadium, Indore': 'India',\n",
    "    'Hurlingham Club Ground, Buenos Aires': 'Argentina',\n",
    "    'ICC Academy': 'United Arab Emirates',\n",
    "    'ICC Academy Ground No 2': 'United Arab Emirates',\n",
    "    'ICC Academy, Dubai': 'United Arab Emirates',\n",
    "    'ICC Global Cricket Academy': 'United Arab Emirates',\n",
    "    'ICCA Dubai': 'United Arab Emirates',\n",
    "    'Independence Park, Port Vila': 'Vanuatu',\n",
    "    'Indian Association Ground': 'Singapore',\n",
    "    'Indian Association Ground, Singapore': 'Singapore',\n",
    "    'Indore': 'India',\n",
    "    'Integrated Polytechnic Regional Centre': 'Rwanda',\n",
    "    'Ishoj Cricket Club, Vejledalen': 'Denmark',\n",
    "    'JSCA International Stadium Complex': 'India',\n",
    "    'JSCA International Stadium Complex, Ranchi': 'India',\n",
    "    'Jade Stadium': 'New Zealand',\n",
    "    'Jimmy Powell Oval, Cayman Islands': 'Cayman Islands',\n",
    "    'Jinja Cricket Ground': 'Uganda',\n",
    "    'John Davies Oval, Queenstown': 'New Zealand',\n",
    "    'Kennington Oval': 'England',\n",
    "    'Kennington Oval, London': 'England',\n",
    "    'Kensington Oval, Bridgetown': 'Barbados',\n",
    "    'Kensington Oval, Bridgetown, Barbados': 'Barbados',\n",
    "    'Kerava National Cricket Ground': 'Finland',\n",
    "    'Khan Shaheb Osman Ali Stadium': 'Bangladesh',\n",
    "    'King George V Sports Ground': 'Guernsey',\n",
    "    'King George V Sports Ground, Castel': 'Guernsey',\n",
    "    'Kingsmead': 'South Africa',\n",
    "    'Kingsmead, Durban': 'South Africa',\n",
    "    'Kingstown': 'Saint Vincent and the Grenadines',\n",
    "    'Kinrara Academy Oval': 'Malaysia',\n",
    "    'Koge Cricket Club': 'Denmark',\n",
    "    'Kyambogo Cricket Oval': 'Uganda',\n",
    "    'La Manga Club Bottom Ground': 'Spain',\n",
    "    'La Manga Club Top Ground': 'Spain',\n",
    "    'Lisicji Jarak Cricket Ground': 'Serbia',\n",
    "    \"Lord's\": 'England',\n",
    "    'Los Reyes Polo Club': 'Argentina',\n",
    "    'Lucknow': 'India',\n",
    "    'Lugogo Cricket Oval': 'Uganda',\n",
    "    'M Chinnaswamy Stadium': 'India',\n",
    "    'M Chinnaswamy Stadium, Bengaluru': 'India',\n",
    "    'M.Chinnaswamy Stadium': 'India',\n",
    "    'MA Chidambaram Stadium, Chepauk': 'India',\n",
    "    'MA Chidambaram Stadium, Chepauk, Chennai': 'India',\n",
    "    'Maharashtra Cricket Association Stadium': 'India',\n",
    "    'Maharashtra Cricket Association Stadium, Pune': 'India',\n",
    "    'Mahinda Rajapaksa International Cricket Stadium, Sooriyawewa': 'Sri Lanka',\n",
    "    'Malahide, Dublin': 'Ireland',\n",
    "    'Mangaung Oval': 'South Africa',\n",
    "    'Manuka Oval': 'Australia',\n",
    "    'Manuka Oval, Canberra': 'Australia',\n",
    "    'Maple Leaf North-East Ground, King City': 'Canada',\n",
    "    'Maple Leaf North-West Ground': 'Canada',\n",
    "    'Maple Leaf North-West Ground, King City': 'Canada',\n",
    "    'Marsa Sports Club': 'Malta',\n",
    "    'McLean Park': 'New Zealand',\n",
    "    'McLean Park, Napier': 'New Zealand',\n",
    "    'Meersen, Gent': 'Belgium',\n",
    "    'Melbourne Cricket Ground': 'Australia',\n",
    "    'Mirpur': 'Bangladesh',\n",
    "    'Mission Road Ground, Mong Kok': 'Hong Kong',\n",
    "    'Mission Road Ground, Mong Kok, Hong Kong': 'Hong Kong',\n",
    "    'Mladost Cricket Ground, Zagreb': 'Croatia',\n",
    "    'Moara Vlasiei Cricket Ground': 'Romania',\n",
    "    'Moara Vlasiei Cricket Ground, Ilfov County': 'Romania',\n",
    "    'Mohali': 'India',\n",
    "    'Mombasa Sports Club Ground': 'Kenya',\n",
    "    'Moses Mabhida Stadium': 'South Africa',\n",
    "    'Mulpani Cricket Ground': 'Nepal',\n",
    "    'Nagpur': 'India',\n",
    "    'Namibia Cricket Ground, Windhoek': 'Namibia',\n",
    "    'Narendra Modi Stadium': 'India',\n",
    "    'Narendra Modi Stadium, Ahmedabad': 'India',\n",
    "    'Nassau County International Cricket Stadium, New York': 'United States',\n",
    "    'National Cricket Stadium, Grenada': 'Grenada',\n",
    "    \"National Cricket Stadium, St George's, Grenada\": 'Grenada',\n",
    "    'National Sports Academy, Sofia': 'Bulgaria',\n",
    "    'National Stadium': 'Pakistan',\n",
    "    'National Stadium, Hamilton': 'Bermuda',\n",
    "    'National Stadium, Karachi': 'Pakistan',\n",
    "    'New Wanderers Stadium': 'South Africa',\n",
    "    'Newlands': 'South Africa',\n",
    "    'Nigeria Cricket Federation Oval 1, Abuja': 'Nigeria',\n",
    "    'Nigeria Cricket Federation Oval 2, Abuja': 'Nigeria',\n",
    "    'OUTsurance Oval': 'South Africa',\n",
    "    'Old Trafford': 'England',\n",
    "    'Old Trafford, Manchester': 'England',\n",
    "    'P Sara Oval': 'Sri Lanka',\n",
    "    'Pallekele International Cricket Stadium': 'Sri Lanka',\n",
    "    'Perth': 'Australia',\n",
    "    'Perth Stadium': 'Australia',\n",
    "    'Pierre Werner Cricket Ground': 'Luxembourg',\n",
    "    'Prairie View Cricket Complex': 'United States',\n",
    "    'Providence': 'Guyana',\n",
    "    'Providence Stadium': 'Guyana',\n",
    "    'Providence Stadium, Guyana': 'Guyana',\n",
    "    'Punjab Cricket Association IS Bindra Stadium, Mohali': 'India',\n",
    "    'Punjab Cricket Association IS Bindra Stadium, Mohali, Chandigarh': 'India',\n",
    "    'Punjab Cricket Association Stadium, Mohali': 'India',\n",
    "    \"Queen's Park Oval, Port of Spain\": 'Trinidad and Tobago',\n",
    "    'Queens Sports Club': 'Zimbabwe',\n",
    "    'Queens Sports Club, Bulawayo': 'Zimbabwe',\n",
    "    'R Premadasa Stadium': 'Sri Lanka',\n",
    "    'R Premadasa Stadium, Colombo': 'Sri Lanka',\n",
    "    'R.Premadasa Stadium, Khettarama': 'Sri Lanka',\n",
    "    'Rajiv Gandhi International Stadium, Uppal': 'India',\n",
    "    'Rajiv Gandhi International Stadium, Uppal, Hyderabad': 'India',\n",
    "    'Rangiri Dambulla International Stadium': 'Sri Lanka',\n",
    "    'Rawalpindi Cricket Stadium': 'Pakistan',\n",
    "    'Riverside Ground': 'England',\n",
    "    'Riverside Ground, Chester-le-Street': 'England',\n",
    "    'Roma Cricket Ground': 'Italy',\n",
    "    'Royal Brussels Cricket Club Ground, Waterloo': 'Belgium',\n",
    "    'Ruaraka Sports Club Ground, Nairobi': 'Kenya',\n",
    "    'Sabina Park, Kingston': 'Jamaica',\n",
    "    'Sabina Park, Kingston, Jamaica': 'Jamaica',\n",
    "    'Sano International Cricket Ground': 'Japan',\n",
    "    'Santarem Cricket Ground': 'Portugal',\n",
    "    'Sao Fernando Polo and Cricket Club': 'Brazil',\n",
    "    'Sardar Patel Stadium, Motera': 'India',\n",
    "    'Saurashtra Cricket Association Stadium': 'India',\n",
    "    'Saurashtra Cricket Association Stadium, Rajkot': 'India',\n",
    "    'Sawai Mansingh Stadium, Jaipur': 'India',\n",
    "    'Saxton Oval': 'New Zealand',\n",
    "    'Saxton Oval, Nelson': 'New Zealand',\n",
    "    'Scott Page Field, Vinor': 'Czech Republic',\n",
    "    'Seddon Park': 'New Zealand',\n",
    "    'Seddon Park, Hamilton': 'New Zealand',\n",
    "    'Selangor Turf Club, Kuala Lumpur': 'Malaysia',\n",
    "    'Senwes Park': 'South Africa',\n",
    "    'Shaheed Veer Narayan Singh International Stadium, Raipur': 'India',\n",
    "    'Sharjah': 'United Arab Emirates',\n",
    "    'Sharjah Cricket Stadium': 'United Arab Emirates',\n",
    "    'Sheikh Abu Naser Stadium': 'Bangladesh',\n",
    "    'Sheikh Zayed Stadium': 'United Arab Emirates',\n",
    "    'Shere Bangla National Stadium': 'Bangladesh',\n",
    "    'Shere Bangla National Stadium, Mirpur': 'Bangladesh',\n",
    "    'Shrimant Madhavrao Scindia Cricket Stadium, Gwalior': 'India',\n",
    "    'Sikh Union Club Ground, Nairobi': 'Kenya',\n",
    "    'Simar Cricket Ground, Rome': 'Italy',\n",
    "    'Simonds Stadium, South Geelong': 'Australia',\n",
    "    'Singapore National Cricket Ground': 'Singapore',\n",
    "    'Sir Vivian Richards Stadium, North Sound': 'Antigua and Barbuda',\n",
    "    'Sir Vivian Richards Stadium, North Sound, Antigua': 'Antigua and Barbuda',\n",
    "    'Sky Stadium': 'New Zealand',\n",
    "    'Sky Stadium, Wellington': 'New Zealand',\n",
    "    'Solvangs Park, Glostrup': 'Denmark',\n",
    "    'Sophia Gardens': 'Wales (United Kingdom)',\n",
    "    'Sophia Gardens, Cardiff': 'Wales (United Kingdom)',\n",
    "    'Sportpark Het Schootsveld': 'Netherlands',\n",
    "    'Sportpark Het Schootsveld, Deventer': 'Netherlands',\n",
    "    'Sportpark Maarschalkerweerd': 'Netherlands',\n",
    "    'Sportpark Maarschalkerweerd, Utrecht': 'Netherlands',\n",
    "    'Sportpark Westvliet': 'Netherlands',\n",
    "    'Sportpark Westvliet, The Hague': 'Netherlands',\n",
    "    'St Albans Club, Buenos Aires': 'Argentina',\n",
    "    \"St George's College Ground, Buenos Aires\": 'Argentina',\n",
    "    \"St George's Park\": 'South Africa',\n",
    "    \"St George's Park, Gqeberha\": 'South Africa',\n",
    "    'St Georges Quilmes': 'Argentina',\n",
    "    'Stadium Australia': 'Australia',\n",
    "    'Stars Arena Hofstade, Zemst': 'Belgium',\n",
    "    'Subrata Roy Sahara Stadium': 'India',\n",
    "    'SuperSport Park': 'South Africa',\n",
    "    'SuperSport Park, Centurion': 'South Africa',\n",
    "    'Svanholm Park, Brondby': 'Denmark',\n",
    "    'Sydney Cricket Ground': 'Australia',\n",
    "    'Sylhet': 'Bangladesh',\n",
    "    'Sylhet International Cricket Stadium': 'Bangladesh',\n",
    "    'Sylhet Stadium': 'Bangladesh',\n",
    "    'TCA Oval, Blantyre': 'Malawi',\n",
    "    'Tafawa Balewa Square Cricket Oval, Lagos': 'Nigeria',\n",
    "    'Tarouba': 'Trinidad and Tobago',\n",
    "    'Terdthai Cricket Ground': 'Thailand',\n",
    "    'Terdthai Cricket Ground, Bangkok': 'Thailand',\n",
    "    'The Rose Bowl': 'England',\n",
    "    'The Rose Bowl, Southampton': 'England',\n",
    "    'The Village, Malahide': 'Ireland',\n",
    "    'The Village, Malahide, Dublin': 'Ireland',\n",
    "    'The Wanderers Stadium': 'South Africa',\n",
    "    'The Wanderers Stadium, Johannesburg': 'South Africa',\n",
    "    'Tikkurila Cricket Ground': 'Finland',\n",
    "    'Titwood, Glasgow': 'Scotland (United Kingdom)',\n",
    "    'Tolerance Oval': 'United Arab Emirates',\n",
    "    'Tony Ireland Stadium': 'Australia',\n",
    "    'Trent Bridge': 'England',\n",
    "    'Trent Bridge, Nottingham': 'England',\n",
    "    'Tribhuvan University International Cricket Ground': 'Nepal',\n",
    "    'Tribhuvan University International Cricket Ground, Kirtipur': 'Nepal',\n",
    "    'UKM-YSD Cricket Oval, Bangi': 'Malaysia',\n",
    "    'Udayana Cricket Ground': 'Indonesia',\n",
    "    'United Cricket Club Ground': 'Namibia',\n",
    "    'United Cricket Club Ground, Windhoek': 'Namibia',\n",
    "    'University Oval': 'New Zealand',\n",
    "    'University Oval, Dunedin': 'New Zealand',\n",
    "    'University of Dar-es-Salaam Ground': 'Tanzania',\n",
    "    'University of Doha for Science and Technology': 'Qatar',\n",
    "    'University of Lagos Cricket Oval': 'Nigeria',\n",
    "    'VRA Ground': 'Netherlands',\n",
    "    'Velden Cricket Ground, Latschach': 'Austria',\n",
    "    'Vidarbha Cricket Association Stadium, Jamtha': 'India',\n",
    "    'Vidarbha Cricket Association Stadium, Jamtha, Nagpur': 'India',\n",
    "    'Wanderers': 'South Africa',\n",
    "    'Wanderers Cricket Ground': 'Namibia',\n",
    "    'Wanderers Cricket Ground, Windhoek': 'Namibia',\n",
    "    'Wankhede': 'India',\n",
    "    'Wankhede Stadium': 'India',\n",
    "    'Wankhede Stadium, Mumbai': 'India',\n",
    "    'Warner Park, Basseterre': 'Saint Kitts and Nevis',\n",
    "    'Warner Park, Basseterre, St Kitts': 'Saint Kitts and Nevis',\n",
    "    'Warner Park, St Kitts': 'Saint Kitts and Nevis',\n",
    "    'West End Park International Cricket Stadium, Doha': 'Qatar',\n",
    "    'Western Australia Cricket Association Ground': 'Australia',\n",
    "    'Westpac Stadium': 'New Zealand',\n",
    "    'White Hill Field, Sandys Parish': 'Bermuda',\n",
    "    'Willowmoore Park, Benoni': 'South Africa',\n",
    "    'Windsor Park, Roseau': 'Dominica',\n",
    "    'Windsor Park, Roseau, Dominica': 'Dominica',\n",
    "    'YSD-UKM Cricket Oval, Bangi': 'Malaysia',\n",
    "    'Yeonhui Cricket Ground, Incheon': 'South Korea',\n",
    "    'Zahur Ahmed Chowdhury Stadium': 'Bangladesh',\n",
    "    'Zahur Ahmed Chowdhury Stadium, Chattogram': 'Bangladesh',\n",
    "    'Zayed Cricket Stadium, Abu Dhabi': 'United Arab Emirates',\n",
    "    'Zhejiang University of Technology Cricket Field': 'China'\n",
    "}"
   ]
  },
  {
   "cell_type": "code",
   "execution_count": 31,
   "id": "cc6f0c5c",
   "metadata": {},
   "outputs": [
    {
     "data": {
      "text/plain": [
       "(348,)"
      ]
     },
     "execution_count": 31,
     "metadata": {},
     "output_type": "execute_result"
    }
   ],
   "source": [
    "grounds.shape"
   ]
  },
  {
   "cell_type": "code",
   "execution_count": 32,
   "id": "f3a50755",
   "metadata": {},
   "outputs": [
    {
     "data": {
      "text/html": [
       "<div>\n",
       "<style scoped>\n",
       "    .dataframe tbody tr th:only-of-type {\n",
       "        vertical-align: middle;\n",
       "    }\n",
       "\n",
       "    .dataframe tbody tr th {\n",
       "        vertical-align: top;\n",
       "    }\n",
       "\n",
       "    .dataframe thead th {\n",
       "        text-align: right;\n",
       "    }\n",
       "</style>\n",
       "<table border=\"1\" class=\"dataframe\">\n",
       "  <thead>\n",
       "    <tr style=\"text-align: right;\">\n",
       "      <th></th>\n",
       "      <th>date</th>\n",
       "      <th>winner</th>\n",
       "      <th>venue</th>\n",
       "      <th>first_team</th>\n",
       "      <th>second_team</th>\n",
       "      <th>first_runs</th>\n",
       "      <th>first_balls</th>\n",
       "      <th>first_overs</th>\n",
       "      <th>second_runs</th>\n",
       "      <th>second_balls</th>\n",
       "      <th>second_overs</th>\n",
       "      <th>net_run_rate</th>\n",
       "      <th>venue_country</th>\n",
       "    </tr>\n",
       "  </thead>\n",
       "  <tbody>\n",
       "    <tr>\n",
       "      <th>2251</th>\n",
       "      <td>2005-02-17</td>\n",
       "      <td>Australia</td>\n",
       "      <td>Eden Park</td>\n",
       "      <td>Australia</td>\n",
       "      <td>New Zealand</td>\n",
       "      <td>214.0</td>\n",
       "      <td>120.0</td>\n",
       "      <td>20.0</td>\n",
       "      <td>170.0</td>\n",
       "      <td>120.0</td>\n",
       "      <td>20.0</td>\n",
       "      <td>2.200000</td>\n",
       "      <td>New Zealand</td>\n",
       "    </tr>\n",
       "    <tr>\n",
       "      <th>2250</th>\n",
       "      <td>2005-06-13</td>\n",
       "      <td>England</td>\n",
       "      <td>The Rose Bowl</td>\n",
       "      <td>England</td>\n",
       "      <td>Australia</td>\n",
       "      <td>179.0</td>\n",
       "      <td>120.0</td>\n",
       "      <td>20.0</td>\n",
       "      <td>79.0</td>\n",
       "      <td>87.0</td>\n",
       "      <td>14.3</td>\n",
       "      <td>5.000000</td>\n",
       "      <td>England</td>\n",
       "    </tr>\n",
       "    <tr>\n",
       "      <th>2252</th>\n",
       "      <td>2005-10-21</td>\n",
       "      <td>New Zealand</td>\n",
       "      <td>New Wanderers Stadium</td>\n",
       "      <td>South Africa</td>\n",
       "      <td>New Zealand</td>\n",
       "      <td>133.0</td>\n",
       "      <td>117.0</td>\n",
       "      <td>19.3</td>\n",
       "      <td>134.0</td>\n",
       "      <td>108.0</td>\n",
       "      <td>18.0</td>\n",
       "      <td>0.553253</td>\n",
       "      <td>South Africa</td>\n",
       "    </tr>\n",
       "    <tr>\n",
       "      <th>2255</th>\n",
       "      <td>2006-01-09</td>\n",
       "      <td>Australia</td>\n",
       "      <td>Brisbane Cricket Ground, Woolloongabba</td>\n",
       "      <td>Australia</td>\n",
       "      <td>South Africa</td>\n",
       "      <td>209.0</td>\n",
       "      <td>120.0</td>\n",
       "      <td>20.0</td>\n",
       "      <td>114.0</td>\n",
       "      <td>111.0</td>\n",
       "      <td>18.3</td>\n",
       "      <td>4.750000</td>\n",
       "      <td>Australia</td>\n",
       "    </tr>\n",
       "    <tr>\n",
       "      <th>2256</th>\n",
       "      <td>2006-02-16</td>\n",
       "      <td>tie</td>\n",
       "      <td>Eden Park</td>\n",
       "      <td>West Indies</td>\n",
       "      <td>New Zealand</td>\n",
       "      <td>126.0</td>\n",
       "      <td>120.0</td>\n",
       "      <td>20.0</td>\n",
       "      <td>126.0</td>\n",
       "      <td>120.0</td>\n",
       "      <td>20.0</td>\n",
       "      <td>0.000000</td>\n",
       "      <td>New Zealand</td>\n",
       "    </tr>\n",
       "    <tr>\n",
       "      <th>...</th>\n",
       "      <td>...</td>\n",
       "      <td>...</td>\n",
       "      <td>...</td>\n",
       "      <td>...</td>\n",
       "      <td>...</td>\n",
       "      <td>...</td>\n",
       "      <td>...</td>\n",
       "      <td>...</td>\n",
       "      <td>...</td>\n",
       "      <td>...</td>\n",
       "      <td>...</td>\n",
       "      <td>...</td>\n",
       "      <td>...</td>\n",
       "    </tr>\n",
       "    <tr>\n",
       "      <th>2238</th>\n",
       "      <td>2025-06-15</td>\n",
       "      <td>Cambodia</td>\n",
       "      <td>Udayana Cricket Ground</td>\n",
       "      <td>Indonesia</td>\n",
       "      <td>Cambodia</td>\n",
       "      <td>98.0</td>\n",
       "      <td>117.0</td>\n",
       "      <td>19.3</td>\n",
       "      <td>99.0</td>\n",
       "      <td>45.0</td>\n",
       "      <td>7.3</td>\n",
       "      <td>8.483924</td>\n",
       "      <td>Indonesia</td>\n",
       "    </tr>\n",
       "    <tr>\n",
       "      <th>2237</th>\n",
       "      <td>2025-06-15</td>\n",
       "      <td>Cambodia</td>\n",
       "      <td>Udayana Cricket Ground</td>\n",
       "      <td>Indonesia</td>\n",
       "      <td>Cambodia</td>\n",
       "      <td>133.0</td>\n",
       "      <td>120.0</td>\n",
       "      <td>20.0</td>\n",
       "      <td>134.0</td>\n",
       "      <td>96.0</td>\n",
       "      <td>16.0</td>\n",
       "      <td>1.725000</td>\n",
       "      <td>Indonesia</td>\n",
       "    </tr>\n",
       "    <tr>\n",
       "      <th>2245</th>\n",
       "      <td>2025-06-15</td>\n",
       "      <td>Finland</td>\n",
       "      <td>Ishoj Cricket Club, Vejledalen</td>\n",
       "      <td>Finland</td>\n",
       "      <td>Norway</td>\n",
       "      <td>168.0</td>\n",
       "      <td>120.0</td>\n",
       "      <td>20.0</td>\n",
       "      <td>146.0</td>\n",
       "      <td>118.0</td>\n",
       "      <td>19.4</td>\n",
       "      <td>1.100000</td>\n",
       "      <td>Denmark</td>\n",
       "    </tr>\n",
       "    <tr>\n",
       "      <th>2128</th>\n",
       "      <td>2025-06-15</td>\n",
       "      <td>West Indies</td>\n",
       "      <td>Bready Cricket Club, Magheramason, Bready</td>\n",
       "      <td>West Indies</td>\n",
       "      <td>Ireland</td>\n",
       "      <td>256.0</td>\n",
       "      <td>120.0</td>\n",
       "      <td>20.0</td>\n",
       "      <td>194.0</td>\n",
       "      <td>120.0</td>\n",
       "      <td>20.0</td>\n",
       "      <td>3.100000</td>\n",
       "      <td>Northern Ireland (United Kingdom)</td>\n",
       "    </tr>\n",
       "    <tr>\n",
       "      <th>2219</th>\n",
       "      <td>2025-06-15</td>\n",
       "      <td>Scotland</td>\n",
       "      <td>Titwood, Glasgow</td>\n",
       "      <td>Scotland</td>\n",
       "      <td>Netherlands</td>\n",
       "      <td>160.0</td>\n",
       "      <td>120.0</td>\n",
       "      <td>20.0</td>\n",
       "      <td>121.0</td>\n",
       "      <td>109.0</td>\n",
       "      <td>18.1</td>\n",
       "      <td>1.950000</td>\n",
       "      <td>Scotland (United Kingdom)</td>\n",
       "    </tr>\n",
       "  </tbody>\n",
       "</table>\n",
       "<p>2811 rows × 13 columns</p>\n",
       "</div>"
      ],
      "text/plain": [
       "            date       winner                                      venue  \\\n",
       "2251  2005-02-17    Australia                                  Eden Park   \n",
       "2250  2005-06-13      England                              The Rose Bowl   \n",
       "2252  2005-10-21  New Zealand                      New Wanderers Stadium   \n",
       "2255  2006-01-09    Australia     Brisbane Cricket Ground, Woolloongabba   \n",
       "2256  2006-02-16          tie                                  Eden Park   \n",
       "...          ...          ...                                        ...   \n",
       "2238  2025-06-15     Cambodia                     Udayana Cricket Ground   \n",
       "2237  2025-06-15     Cambodia                     Udayana Cricket Ground   \n",
       "2245  2025-06-15      Finland             Ishoj Cricket Club, Vejledalen   \n",
       "2128  2025-06-15  West Indies  Bready Cricket Club, Magheramason, Bready   \n",
       "2219  2025-06-15     Scotland                           Titwood, Glasgow   \n",
       "\n",
       "        first_team   second_team  first_runs  first_balls  first_overs  \\\n",
       "2251     Australia   New Zealand       214.0        120.0         20.0   \n",
       "2250       England     Australia       179.0        120.0         20.0   \n",
       "2252  South Africa   New Zealand       133.0        117.0         19.3   \n",
       "2255     Australia  South Africa       209.0        120.0         20.0   \n",
       "2256   West Indies   New Zealand       126.0        120.0         20.0   \n",
       "...            ...           ...         ...          ...          ...   \n",
       "2238     Indonesia      Cambodia        98.0        117.0         19.3   \n",
       "2237     Indonesia      Cambodia       133.0        120.0         20.0   \n",
       "2245       Finland        Norway       168.0        120.0         20.0   \n",
       "2128   West Indies       Ireland       256.0        120.0         20.0   \n",
       "2219      Scotland   Netherlands       160.0        120.0         20.0   \n",
       "\n",
       "      second_runs  second_balls  second_overs  net_run_rate  \\\n",
       "2251        170.0         120.0          20.0      2.200000   \n",
       "2250         79.0          87.0          14.3      5.000000   \n",
       "2252        134.0         108.0          18.0      0.553253   \n",
       "2255        114.0         111.0          18.3      4.750000   \n",
       "2256        126.0         120.0          20.0      0.000000   \n",
       "...           ...           ...           ...           ...   \n",
       "2238         99.0          45.0           7.3      8.483924   \n",
       "2237        134.0          96.0          16.0      1.725000   \n",
       "2245        146.0         118.0          19.4      1.100000   \n",
       "2128        194.0         120.0          20.0      3.100000   \n",
       "2219        121.0         109.0          18.1      1.950000   \n",
       "\n",
       "                          venue_country  \n",
       "2251                        New Zealand  \n",
       "2250                            England  \n",
       "2252                       South Africa  \n",
       "2255                          Australia  \n",
       "2256                        New Zealand  \n",
       "...                                 ...  \n",
       "2238                          Indonesia  \n",
       "2237                          Indonesia  \n",
       "2245                            Denmark  \n",
       "2128  Northern Ireland (United Kingdom)  \n",
       "2219          Scotland (United Kingdom)  \n",
       "\n",
       "[2811 rows x 13 columns]"
      ]
     },
     "execution_count": 32,
     "metadata": {},
     "output_type": "execute_result"
    }
   ],
   "source": [
    "data['venue_country'] = data['venue'].map(lambda x: grounds_to_home[x])\n",
    "data"
   ]
  },
  {
   "cell_type": "code",
   "execution_count": 33,
   "id": "d38301a4",
   "metadata": {},
   "outputs": [],
   "source": [
    "# np.unique(data['venue_country'].values)"
   ]
  },
  {
   "cell_type": "code",
   "execution_count": 34,
   "id": "ee26d7c9",
   "metadata": {},
   "outputs": [
    {
     "data": {
      "text/plain": [
       "2251         New Zealand\n",
       "2250             England\n",
       "2252        South Africa\n",
       "2255           Australia\n",
       "2256         New Zealand\n",
       "              ...       \n",
       "2238           Indonesia\n",
       "2237           Indonesia\n",
       "2245             Denmark\n",
       "2128    Northern Ireland\n",
       "2219            Scotland\n",
       "Name: venue_country, Length: 2811, dtype: object"
      ]
     },
     "execution_count": 34,
     "metadata": {},
     "output_type": "execute_result"
    }
   ],
   "source": [
    "data['venue_country'] = data['venue_country'].map(lambda x: 'West Indies' if x in ['Antigua and Barbuda', 'Grenada', 'Guyana', 'Jamaica',\n",
    "                                                                   'Saint Lucia', 'Saint Vincent and the Grenadines', 'Barbados',\n",
    "                                                                   'Trinidad and Tobago'] else x)\n",
    "data['venue_country'] = data['venue_country'].map(lambda x: 'Scotland' if x == 'Scotland (United Kingdom)' else\n",
    "                                                 ('Wales' if x == 'Wales (United Kingdom)' else\n",
    "                                                 ('Northern Ireland' if x == 'Northern Ireland (United Kingdom)' else x)))\n",
    "data['venue_country']"
   ]
  },
  {
   "cell_type": "code",
   "execution_count": 35,
   "id": "a984ca48",
   "metadata": {},
   "outputs": [
    {
     "data": {
      "text/plain": [
       "array(['Argentina', 'Australia', 'Austria', 'Bangladesh', 'Belgium',\n",
       "       'Bermuda', 'Bhutan', 'Brazil', 'Bulgaria', 'Canada',\n",
       "       'Cayman Islands', 'China', 'Croatia', 'Czech Republic', 'Denmark',\n",
       "       'Dominica', 'England', 'Finland', 'France', 'Germany', 'Ghana',\n",
       "       'Gibraltar', 'Guernsey', 'Hong Kong', 'Hungary', 'India',\n",
       "       'Indonesia', 'Ireland', 'Italy', 'Japan', 'Jersey', 'Kenya',\n",
       "       'Luxembourg', 'Malawi', 'Malaysia', 'Malta', 'Namibia', 'Nepal',\n",
       "       'Netherlands', 'New Zealand', 'Nigeria', 'Northern Ireland',\n",
       "       'Oman', 'Pakistan', 'Panama', 'Papua New Guinea', 'Portugal',\n",
       "       'Qatar', 'Romania', 'Rwanda', 'Saint Kitts and Nevis', 'Samoa',\n",
       "       'Scotland', 'Serbia', 'Singapore', 'South Africa', 'South Korea',\n",
       "       'Spain', 'Sri Lanka', 'Tanzania', 'Thailand', 'Uganda',\n",
       "       'United Arab Emirates', 'United States', 'Vanuatu', 'Wales',\n",
       "       'West Indies', 'Zimbabwe'], dtype=object)"
      ]
     },
     "execution_count": 35,
     "metadata": {},
     "output_type": "execute_result"
    }
   ],
   "source": [
    "np.unique(data['venue_country'].values)"
   ]
  },
  {
   "cell_type": "code",
   "execution_count": 49,
   "id": "e98199c6",
   "metadata": {},
   "outputs": [
    {
     "data": {
      "text/plain": [
       "0.011739594450373533"
      ]
     },
     "execution_count": 49,
     "metadata": {},
     "output_type": "execute_result"
    }
   ],
   "source": [
    "data[data['winner'] == 'tie'].shape[0] / data.shape[0]"
   ]
  },
  {
   "cell_type": "code",
   "execution_count": 36,
   "id": "05aca3f9",
   "metadata": {},
   "outputs": [],
   "source": [
    "sample_Ks = np.arange(7, 120, 0.5)\n",
    "sample_alphas = np.arange(100, 800, 1)"
   ]
  },
  {
   "cell_type": "code",
   "execution_count": 37,
   "id": "ca36197c",
   "metadata": {
    "scrolled": true
   },
   "outputs": [
    {
     "data": {
      "text/plain": [
       "{'Afghanistan': 1500,\n",
       " 'Argentina': 1500,\n",
       " 'Australia': 1500,\n",
       " 'Austria': 1500,\n",
       " 'Bahamas': 1500,\n",
       " 'Bahrain': 1500,\n",
       " 'Bangladesh': 1500,\n",
       " 'Belgium': 1500,\n",
       " 'Belize': 1500,\n",
       " 'Bermuda': 1500,\n",
       " 'Bhutan': 1500,\n",
       " 'Botswana': 1500,\n",
       " 'Brazil': 1500,\n",
       " 'Bulgaria': 1500,\n",
       " 'Cambodia': 1500,\n",
       " 'Cameroon': 1500,\n",
       " 'Canada': 1500,\n",
       " 'Cayman Islands': 1500,\n",
       " 'Chile': 1500,\n",
       " 'China': 1500,\n",
       " 'Cook Islands': 1500,\n",
       " 'Costa Rica': 1500,\n",
       " 'Croatia': 1500,\n",
       " 'Cyprus': 1500,\n",
       " 'Czech Republic': 1500,\n",
       " 'Denmark': 1500,\n",
       " 'England': 1500,\n",
       " 'Estonia': 1500,\n",
       " 'Eswatini': 1500,\n",
       " 'Fiji': 1500,\n",
       " 'Finland': 1500,\n",
       " 'France': 1500,\n",
       " 'Gambia': 1500,\n",
       " 'Germany': 1500,\n",
       " 'Ghana': 1500,\n",
       " 'Gibraltar': 1500,\n",
       " 'Greece': 1500,\n",
       " 'Guernsey': 1500,\n",
       " 'Hong Kong': 1500,\n",
       " 'Hungary': 1500,\n",
       " 'ICC World XI': 1500,\n",
       " 'India': 1500,\n",
       " 'Indonesia': 1500,\n",
       " 'Iran': 1500,\n",
       " 'Ireland': 1500,\n",
       " 'Isle of Man': 1500,\n",
       " 'Israel': 1500,\n",
       " 'Italy': 1500,\n",
       " 'Ivory Coast': 1500,\n",
       " 'Japan': 1500,\n",
       " 'Jersey': 1500,\n",
       " 'Kenya': 1500,\n",
       " 'Kuwait': 1500,\n",
       " 'Lesotho': 1500,\n",
       " 'Luxembourg': 1500,\n",
       " 'Malawi': 1500,\n",
       " 'Malaysia': 1500,\n",
       " 'Maldives': 1500,\n",
       " 'Mali': 1500,\n",
       " 'Malta': 1500,\n",
       " 'Mexico': 1500,\n",
       " 'Mongolia': 1500,\n",
       " 'Mozambique': 1500,\n",
       " 'Myanmar': 1500,\n",
       " 'Namibia': 1500,\n",
       " 'Nepal': 1500,\n",
       " 'Netherlands': 1500,\n",
       " 'New Zealand': 1500,\n",
       " 'Nigeria': 1500,\n",
       " 'Norway': 1500,\n",
       " 'Oman': 1500,\n",
       " 'Pakistan': 1500,\n",
       " 'Panama': 1500,\n",
       " 'Papua New Guinea': 1500,\n",
       " 'Philippines': 1500,\n",
       " 'Portugal': 1500,\n",
       " 'Qatar': 1500,\n",
       " 'Romania': 1500,\n",
       " 'Rwanda': 1500,\n",
       " 'Samoa': 1500,\n",
       " 'Saudi Arabia': 1500,\n",
       " 'Scotland': 1500,\n",
       " 'Serbia': 1500,\n",
       " 'Seychelles': 1500,\n",
       " 'Sierra Leone': 1500,\n",
       " 'Singapore': 1500,\n",
       " 'Slovenia': 1500,\n",
       " 'South Africa': 1500,\n",
       " 'South Korea': 1500,\n",
       " 'Spain': 1500,\n",
       " 'Sri Lanka': 1500,\n",
       " 'St Helena': 1500,\n",
       " 'Suriname': 1500,\n",
       " 'Swaziland': 1500,\n",
       " 'Sweden': 1500,\n",
       " 'Switzerland': 1500,\n",
       " 'Tanzania': 1500,\n",
       " 'Thailand': 1500,\n",
       " 'Turkey': 1500,\n",
       " 'Turks and Caicos Island': 1500,\n",
       " 'Uganda': 1500,\n",
       " 'United Arab Emirates': 1500,\n",
       " 'United States of America': 1500,\n",
       " 'Vanuatu': 1500,\n",
       " 'West Indies': 1500,\n",
       " 'Zimbabwe': 1500}"
      ]
     },
     "execution_count": 37,
     "metadata": {},
     "output_type": "execute_result"
    }
   ],
   "source": [
    "intl_elos = {key: 1500 for key in teams}\n",
    "intl_elos # At start"
   ]
  },
  {
   "cell_type": "code",
   "execution_count": 85,
   "id": "c082355d",
   "metadata": {},
   "outputs": [],
   "source": [
    "def crossent_cond(params):\n",
    "    K, alpha, hga = params\n",
    "    ce_score = brier(data, intl_elos, K, alpha=alpha, hga=hga)\n",
    "    return ce_score"
   ]
  },
  {
   "cell_type": "code",
   "execution_count": 86,
   "id": "dfca2d97",
   "metadata": {},
   "outputs": [
    {
     "data": {
      "text/plain": [
       "(80.3223654592129, 502.2928412067084, 72.45113954192632, 0.4402972545817578)"
      ]
     },
     "execution_count": 86,
     "metadata": {},
     "output_type": "execute_result"
    }
   ],
   "source": [
    "x0 = [80, 500, 20]\n",
    "res = opt.minimize(crossent_cond, x0)\n",
    "K_opt, alpha_opt, hga_opt = res.x\n",
    "log_err = res.fun\n",
    "K_opt, alpha_opt, hga_opt, log_err"
   ]
  },
  {
   "cell_type": "code",
   "execution_count": 87,
   "id": "38ed25bf",
   "metadata": {},
   "outputs": [
    {
     "data": {
      "text/plain": [
       "(80.3223654592129, 502.2928412067084, 72.45113954192632)"
      ]
     },
     "execution_count": 87,
     "metadata": {},
     "output_type": "execute_result"
    }
   ],
   "source": [
    "K_opt, alpha_opt, hga_opt"
   ]
  },
  {
   "cell_type": "code",
   "execution_count": 88,
   "id": "919c2b6b",
   "metadata": {
    "scrolled": false
   },
   "outputs": [
    {
     "data": {
      "text/plain": [
       "{'India': 2174.479211739731,\n",
       " 'Australia': 2077.796035654189,\n",
       " 'England': 1986.2547238869156,\n",
       " 'New Zealand': 1917.622410951217,\n",
       " 'Uganda': 1903.590560175806,\n",
       " 'Pakistan': 1880.1411734373353,\n",
       " 'Afghanistan': 1861.119120822137,\n",
       " 'United Arab Emirates': 1851.7019424000841,\n",
       " 'Jersey': 1850.267684856609,\n",
       " 'United States of America': 1842.9603317853216,\n",
       " 'Sri Lanka': 1826.2126913837446,\n",
       " 'Spain': 1802.6830203849472,\n",
       " 'Bahrain': 1796.151581744077,\n",
       " 'South Africa': 1793.2223133563516,\n",
       " 'Nepal': 1772.9419565945213,\n",
       " 'Austria': 1752.936638047353,\n",
       " 'Kuwait': 1752.0527697786144,\n",
       " 'Bangladesh': 1745.9910498301545,\n",
       " 'Japan': 1740.8524481187023,\n",
       " 'Scotland': 1733.7683765862223,\n",
       " 'Italy': 1724.757256973175,\n",
       " 'Bermuda': 1720.0194796536518,\n",
       " 'Canada': 1712.7623833235411,\n",
       " 'West Indies': 1693.4520264940197,\n",
       " 'Saudi Arabia': 1681.0055557210687,\n",
       " 'Zimbabwe': 1680.082870808043,\n",
       " 'Germany': 1676.839022319065,\n",
       " 'Portugal': 1674.024016568358,\n",
       " 'Netherlands': 1663.8631572417712,\n",
       " 'Hong Kong': 1651.2746758615083,\n",
       " 'Kenya': 1650.1932946817808,\n",
       " 'Papua New Guinea': 1641.60795831174,\n",
       " 'Guernsey': 1638.6390377614034,\n",
       " 'Nigeria': 1634.0377114996406,\n",
       " 'Namibia': 1617.9973839791814,\n",
       " 'Sweden': 1607.7393723594337,\n",
       " 'Norway': 1606.1901699410084,\n",
       " 'Belgium': 1583.8999570297976,\n",
       " 'Denmark': 1580.870947571327,\n",
       " 'France': 1575.8672379062277,\n",
       " 'Switzerland': 1572.4688417443897,\n",
       " 'Tanzania': 1557.7272883729022,\n",
       " 'Romania': 1554.2825720236476,\n",
       " 'Ireland': 1542.4415666571176,\n",
       " 'Malaysia': 1532.0256744759006,\n",
       " 'Hungary': 1503.545684952458,\n",
       " 'Philippines': 1488.341327735104,\n",
       " 'Isle of Man': 1480.054789795901,\n",
       " 'Mozambique': 1467.099047779647,\n",
       " 'Mexico': 1463.462935153986,\n",
       " 'Argentina': 1461.8020577803572,\n",
       " 'ICC World XI': 1456.2783603954058,\n",
       " 'Fiji': 1454.4152651203162,\n",
       " 'Samoa': 1453.5836717904397,\n",
       " 'Oman': 1441.0756894687563,\n",
       " 'Malawi': 1435.915136961569,\n",
       " 'Iran': 1432.322552483706,\n",
       " 'Finland': 1428.140958461843,\n",
       " 'Cook Islands': 1426.270394665833,\n",
       " 'Sierra Leone': 1420.2502789475086,\n",
       " 'Panama': 1408.9415520387265,\n",
       " 'Qatar': 1403.036362041526,\n",
       " 'Cayman Islands': 1395.8975692443921,\n",
       " 'Cambodia': 1393.8649667353513,\n",
       " 'Botswana': 1392.628158740068,\n",
       " 'Cyprus': 1390.3336605474167,\n",
       " 'Chile': 1388.6608264834133,\n",
       " 'Israel': 1386.6841914946883,\n",
       " 'Turks and Caicos Island': 1382.2236408246915,\n",
       " 'Czech Republic': 1375.3555750081741,\n",
       " 'Rwanda': 1374.3706774360553,\n",
       " 'Thailand': 1372.4111009384078,\n",
       " 'Estonia': 1372.3704227611024,\n",
       " 'Singapore': 1371.521903542114,\n",
       " 'Eswatini': 1355.3593877992212,\n",
       " 'Suriname': 1352.9047830416157,\n",
       " 'Gibraltar': 1351.030050444782,\n",
       " 'St Helena': 1350.446771166237,\n",
       " 'Ghana': 1331.33999494772,\n",
       " 'Costa Rica': 1325.3003279060865,\n",
       " 'Swaziland': 1323.7105105132373,\n",
       " 'Belize': 1322.8431402672657,\n",
       " 'Brazil': 1313.519450127889,\n",
       " 'Luxembourg': 1308.8617205596156,\n",
       " 'Vanuatu': 1307.0802435797175,\n",
       " 'Bahamas': 1298.519339917169,\n",
       " 'Malta': 1278.8184976067682,\n",
       " 'Greece': 1278.8113031786584,\n",
       " 'Gambia': 1259.1950295656216,\n",
       " 'Maldives': 1253.0697108585225,\n",
       " 'Serbia': 1251.4252954690062,\n",
       " 'Lesotho': 1248.9031730870806,\n",
       " 'Ivory Coast': 1236.3731748749058,\n",
       " 'Seychelles': 1231.977278998619,\n",
       " 'Croatia': 1219.2373236752612,\n",
       " 'Cameroon': 1218.9568294101455,\n",
       " 'Turkey': 1218.0753858387845,\n",
       " 'Slovenia': 1205.6959192237628,\n",
       " 'South Korea': 1202.5425670875588,\n",
       " 'China': 1196.0469784978895,\n",
       " 'Bulgaria': 1169.5848636403766,\n",
       " 'Indonesia': 1150.6720801712938,\n",
       " 'Bhutan': 1139.4233904088703,\n",
       " 'Mali': 1122.0279156954057,\n",
       " 'Mongolia': 1095.0379779597145,\n",
       " 'Myanmar': 1025.5353243385048}"
      ]
     },
     "execution_count": 88,
     "metadata": {},
     "output_type": "execute_result"
    }
   ],
   "source": [
    "# K = 69.5\n",
    "# alpha = 509\n",
    "elo_sample_dict = generate_elo_ratings(data, intl_elos, K=K_opt, alpha=alpha_opt, hga=hga_opt)\n",
    "dict(sorted(elo_sample_dict.items(), key=lambda item: item[1], reverse=True))"
   ]
  },
  {
   "cell_type": "code",
   "execution_count": 89,
   "id": "6def38cf",
   "metadata": {},
   "outputs": [
    {
     "data": {
      "text/plain": [
       "0.62246718972907"
      ]
     },
     "execution_count": 89,
     "metadata": {},
     "output_type": "execute_result"
    }
   ],
   "source": [
    "prob_win_country_A(elo_sample_dict, 'Nepal', 'Netherlands', venue_country='Scotland', alpha=alpha_opt, hga=hga_opt)"
   ]
  },
  {
   "cell_type": "code",
   "execution_count": 90,
   "id": "1d23ec35",
   "metadata": {},
   "outputs": [],
   "source": [
    "K=K_opt\n",
    "alpha=alpha_opt\n",
    "hga=hga_opt"
   ]
  },
  {
   "cell_type": "code",
   "execution_count": 91,
   "id": "301dce82",
   "metadata": {},
   "outputs": [
    {
     "data": {
      "text/plain": [
       "0.40706902205977963"
      ]
     },
     "execution_count": 91,
     "metadata": {},
     "output_type": "execute_result"
    }
   ],
   "source": [
    "brier_score = brier(data, elo_sample_dict, K, alpha=alpha, hga=hga)\n",
    "brier_score"
   ]
  },
  {
   "cell_type": "code",
   "execution_count": 92,
   "id": "09f8ec38",
   "metadata": {},
   "outputs": [
    {
     "data": {
      "text/plain": [
       "0.6355129390380984"
      ]
     },
     "execution_count": 92,
     "metadata": {},
     "output_type": "execute_result"
    }
   ],
   "source": [
    "cross_ent_loss = cross_entropy(data, intl_elos, K, alpha=alpha, hga=hga)\n",
    "cross_ent_loss"
   ]
  },
  {
   "cell_type": "code",
   "execution_count": 93,
   "id": "1e41aa9a",
   "metadata": {},
   "outputs": [
    {
     "data": {
      "text/plain": [
       "0.6620419779437923"
      ]
     },
     "execution_count": 93,
     "metadata": {},
     "output_type": "execute_result"
    }
   ],
   "source": [
    "correct = correctness(data, elo_sample_dict, K, alpha=alpha, hga=hga)\n",
    "correct"
   ]
  },
  {
   "cell_type": "code",
   "execution_count": 50,
   "id": "315bc7f4",
   "metadata": {},
   "outputs": [
    {
     "data": {
      "text/plain": [
       "array([[  7. , 100. ],\n",
       "       [  7. , 101. ],\n",
       "       [  7. , 102. ],\n",
       "       ...,\n",
       "       [119.5, 797. ],\n",
       "       [119.5, 798. ],\n",
       "       [119.5, 799. ]])"
      ]
     },
     "execution_count": 50,
     "metadata": {},
     "output_type": "execute_result"
    }
   ],
   "source": [
    "K_alpha = np.array(np.meshgrid(sample_Ks, sample_alphas)).T.reshape(-1, 2)\n",
    "K_alpha"
   ]
  },
  {
   "cell_type": "code",
   "execution_count": 52,
   "id": "925e77e5",
   "metadata": {
    "scrolled": true
   },
   "outputs": [],
   "source": [
    "# gen_briers = []\n",
    "# K = 56.5\n",
    "# alpha = 400\n",
    "\n",
    "# for alpha in tqdm(sample_alphas):\n",
    "#     elo_sample_dict = generate_elo_ratings(data, intl_elos, K, alpha)\n",
    "#     brier_score = brier(data, intl_elos, K, alpha=alpha)\n",
    "    \n",
    "#     gen_briers.append(brier_score)"
   ]
  },
  {
   "cell_type": "code",
   "execution_count": 53,
   "id": "e50fae4f",
   "metadata": {},
   "outputs": [],
   "source": [
    "# gen_briers =np.array(gen_briers)\n",
    "# gen_briers"
   ]
  },
  {
   "cell_type": "code",
   "execution_count": 54,
   "id": "ec049499",
   "metadata": {},
   "outputs": [],
   "source": [
    "# plt.plot(sample_alphas, gen_briers)\n",
    "# plt.xlabel(r'$\\alpha$')\n",
    "# plt.ylabel('Brier score')"
   ]
  },
  {
   "cell_type": "code",
   "execution_count": 55,
   "id": "0d3f8ef9",
   "metadata": {},
   "outputs": [],
   "source": [
    "# ind = np.where(gen_briers == np.min(gen_briers))[0][0]\n",
    "# opt_alpha = sample_alphas[ind]\n",
    "# opt_alpha"
   ]
  },
  {
   "cell_type": "code",
   "execution_count": 56,
   "id": "94b7b769",
   "metadata": {},
   "outputs": [],
   "source": [
    "# np.min(gen_briers)"
   ]
  },
  {
   "cell_type": "code",
   "execution_count": 57,
   "id": "b9e004dc",
   "metadata": {},
   "outputs": [],
   "source": [
    "# gen_losses = []\n",
    "# K = 62\n",
    "# alpha = 448\n",
    "\n",
    "# for alpha in tqdm(sample_alphas):\n",
    "#     elo_sample_dict = generate_elo_ratings(data, intl_elos, K, alpha)\n",
    "#     loss = cross_entropy(data, intl_elos, K, alpha=alpha)\n",
    "    \n",
    "#     gen_losses.append(loss)"
   ]
  },
  {
   "cell_type": "code",
   "execution_count": 58,
   "id": "6155ea25",
   "metadata": {},
   "outputs": [],
   "source": [
    "# gen_losses = np.array(gen_losses)\n",
    "# gen_losses"
   ]
  },
  {
   "cell_type": "code",
   "execution_count": 59,
   "id": "87a3c298",
   "metadata": {},
   "outputs": [],
   "source": [
    "# plt.plot(sample_alphas, gen_losses)\n",
    "# plt.xlabel(r'$\\alpha$')\n",
    "# plt.ylabel('Cross entropy loss')"
   ]
  },
  {
   "cell_type": "code",
   "execution_count": 60,
   "id": "8c97528a",
   "metadata": {},
   "outputs": [],
   "source": [
    "# ind"
   ]
  },
  {
   "cell_type": "code",
   "execution_count": 61,
   "id": "7dd2e6a4",
   "metadata": {},
   "outputs": [],
   "source": [
    "# ind = np.where(gen_losses == np.min(gen_losses))[0][0]\n",
    "# opt_alpha = sample_alphas[ind]\n",
    "# opt_alpha"
   ]
  },
  {
   "cell_type": "code",
   "execution_count": 62,
   "id": "30045f0b",
   "metadata": {},
   "outputs": [],
   "source": [
    "# Krange = np.arange(78, 100, 0.5)\n",
    "# alpharange = np.arange(600, 700, 1)"
   ]
  },
  {
   "cell_type": "code",
   "execution_count": 63,
   "id": "020eb7f6",
   "metadata": {
    "scrolled": true
   },
   "outputs": [],
   "source": [
    "# K_alpha = np.array(np.meshgrid(Krange, alpharange)).T.reshape(-1, 2)\n",
    "# K_alpha"
   ]
  },
  {
   "cell_type": "code",
   "execution_count": 64,
   "id": "37d66124",
   "metadata": {},
   "outputs": [],
   "source": [
    "# pd.concat([pd.DataFrame(), pd.DataFrame([[1, 2]])], axis=0)"
   ]
  },
  {
   "cell_type": "code",
   "execution_count": 65,
   "id": "e4897ee3",
   "metadata": {},
   "outputs": [],
   "source": [
    "# gen_losses_2d = pd.DataFrame()\n",
    "# K = 77.5\n",
    "# alpha = 196\n",
    "\n",
    "# for K, alpha in tqdm(K_alpha):\n",
    "#     elo_sample_dict = generate_elo_ratings(data, intl_elos, K, alpha)\n",
    "#     loss = cross_entropy(data, elo_sample_dict, K, alpha=alpha)\n",
    "    \n",
    "#     row = [[K, alpha, loss]]\n",
    "    \n",
    "#     gen_losses_2d = pd.concat([gen_losses_2d, pd.DataFrame(row)], axis=0)"
   ]
  },
  {
   "cell_type": "code",
   "execution_count": 66,
   "id": "095cd1ae",
   "metadata": {},
   "outputs": [],
   "source": [
    "# gen_losses_2d"
   ]
  },
  {
   "cell_type": "code",
   "execution_count": 67,
   "id": "98049911",
   "metadata": {},
   "outputs": [],
   "source": [
    "# gen_losses_2d[gen_losses_2d[2] == np.min(gen_losses_2d[2])]"
   ]
  },
  {
   "cell_type": "code",
   "execution_count": 68,
   "id": "ff993b71",
   "metadata": {},
   "outputs": [],
   "source": [
    "# # plt.contour([gen_losses_2d[0], gen_losses_2d[1]], gen_losses_2d[2], levels=3, colors=['#808080', '#A0A0A0', '#C0C0C0'])\n",
    "# plt.scatter(gen_losses_2d[0], gen_losses_2d[2])\n",
    "# plt.xlabel(r'$K$')\n",
    "# plt.ylabel('Cross entropy loss')"
   ]
  },
  {
   "cell_type": "code",
   "execution_count": 69,
   "id": "3ccf1ebe",
   "metadata": {},
   "outputs": [],
   "source": [
    "# plt.scatter(gen_losses_2d[1], gen_losses_2d[2])\n",
    "# plt.xlabel(r'$\\alpha$')\n",
    "# plt.ylabel('Cross entropy loss')"
   ]
  },
  {
   "cell_type": "code",
   "execution_count": 70,
   "id": "c7f2bdbe",
   "metadata": {},
   "outputs": [],
   "source": [
    "# plt.hist(data['net_run_rate'], bins=50)\n",
    "# plt.xlim(0, 15)\n",
    "# plt.grid()"
   ]
  },
  {
   "cell_type": "code",
   "execution_count": 71,
   "id": "bd34cc86",
   "metadata": {},
   "outputs": [],
   "source": [
    "def generate_elo_ratings_trends(data, teams, K, alpha=400, calculate_W_mv=calculate_W_mv_log):\n",
    "    \"\"\"\n",
    "    :param data: DataFrame of games played.\n",
    "    :param teams: Dictionary of all teams with respective elo rating scores. At the start, all teams' Elo ratings \n",
    "    will be set to 1500.\n",
    "    :param K: K-parameter for Elo rating updates.\n",
    "    :param alpha: alpha parameter for calculating probabilities from Elo.\n",
    "    :param calculate_W_mv: Function for calculating the victory multiplier.\n",
    "    \n",
    "    Runs through Elo from start to finish for set of games, assuming that we are starting from the beginning -\n",
    "    i.e. the teams do not have pre-existing Elo ratings calculated from other games and thus all initial\n",
    "    Elo ratings are set to 1500.\n",
    "    \"\"\"\n",
    "    teams_final = teams.copy()\n",
    "    team_trends = {key: [1500] for key in list(teams.keys())}\n",
    "    \n",
    "    for i in range(data.shape[0]):\n",
    "        row = data.iloc[i, :]\n",
    "        \n",
    "        first = row['first_team']\n",
    "        second = row['second_team']\n",
    "        winner = row['winner']\n",
    "        nrr = row['net_run_rate']\n",
    "        \n",
    "        if first == winner:\n",
    "            S_a = 1\n",
    "            loser = second\n",
    "        elif winner == 'tie':\n",
    "            S_a = 0.5\n",
    "            loser = 'tie'\n",
    "        else:\n",
    "            S_a = 0\n",
    "            loser = first\n",
    "        \n",
    "        if winner != 'tie':\n",
    "            W_mv = calculate_W_mv(nrr, teams_final[winner]-teams_final[loser])\n",
    "        else:\n",
    "            W_mv = 2.2*np.log(2)\n",
    "        R_a_pr, R_b_pr = elo_step(teams_final[first], teams_final[second], S_a, K, W_mv, alpha)\n",
    "        \n",
    "        team_trends[first].append(R_a_pr)\n",
    "        team_trends[second].append(R_b_pr)\n",
    "        \n",
    "        teams_final[first] = R_a_pr\n",
    "        teams_final[second] = R_b_pr\n",
    "    \n",
    "    return teams_final, team_trends"
   ]
  },
  {
   "cell_type": "code",
   "execution_count": 72,
   "id": "0559f4ca",
   "metadata": {},
   "outputs": [],
   "source": [
    "# intl_elos"
   ]
  },
  {
   "cell_type": "code",
   "execution_count": 73,
   "id": "f7293f47",
   "metadata": {},
   "outputs": [],
   "source": [
    "_, team_trends = generate_elo_ratings_trends(data, intl_elos, 69.5, alpha=509)"
   ]
  },
  {
   "cell_type": "code",
   "execution_count": 74,
   "id": "b07b0c8f",
   "metadata": {},
   "outputs": [],
   "source": [
    "# dict(sorted(elos.items(), key=lambda item: item[1], reverse=True))"
   ]
  },
  {
   "cell_type": "code",
   "execution_count": 75,
   "id": "5fa9c028",
   "metadata": {},
   "outputs": [
    {
     "data": {
      "text/plain": [
       "2026.2701187224836"
      ]
     },
     "execution_count": 75,
     "metadata": {},
     "output_type": "execute_result"
    }
   ],
   "source": [
    "team_trends['Australia'][-1]"
   ]
  },
  {
   "cell_type": "code",
   "execution_count": 76,
   "id": "4c182e21",
   "metadata": {},
   "outputs": [
    {
     "data": {
      "text/plain": [
       "Text(0, 0.5, 'Elo rating')"
      ]
     },
     "execution_count": 76,
     "metadata": {},
     "output_type": "execute_result"
    },
    {
     "data": {
      "image/png": "[encoded data removed]",
      "text/plain": [
       "<Figure size 640x480 with 1 Axes>"
      ]
     },
     "metadata": {},
     "output_type": "display_data"
    }
   ],
   "source": [
    "plt.plot(team_trends['Uganda'])\n",
    "plt.xlabel('Number of matches played')\n",
    "plt.ylabel('Elo rating')"
   ]
  },
  {
   "cell_type": "code",
   "execution_count": 77,
   "id": "6547e0c9",
   "metadata": {},
   "outputs": [
    {
     "data": {
      "text/plain": [
       "1945.1724617333816"
      ]
     },
     "execution_count": 77,
     "metadata": {},
     "output_type": "execute_result"
    }
   ],
   "source": [
    "np.max(team_trends['West Indies'])"
   ]
  },
  {
   "cell_type": "code",
   "execution_count": 78,
   "id": "9f6d2686",
   "metadata": {},
   "outputs": [],
   "source": [
    "def elodiffs_v_nrrs(data, teams, K, alpha=400, calculate_W_mv=lambda x: 1):\n",
    "    \"\"\"\n",
    "    :param data: DataFrame of games played.\n",
    "    :param teams: Dictionary of all teams with respective elo rating scores. At the start, all teams' Elo ratings \n",
    "    will be set to 1500.\n",
    "    :param K: K-parameter for Elo rating updates.\n",
    "    :param alpha: alpha parameter for calculating probabilities from Elo.\n",
    "    :param calculate_W_mv: Function for calculating the victory multiplier.\n",
    "    \n",
    "    Runs through Elo from start to finish for set of games, assuming that we are starting from the beginning -\n",
    "    i.e. the teams do not have pre-existing Elo ratings calculated from other games and thus all initial\n",
    "    Elo ratings are set to 1500.\n",
    "    \"\"\"\n",
    "    teams_final = teams.copy()\n",
    "    # team_trends = {key: [1500] for key in list(teams.keys())}\n",
    "    diffs = []\n",
    "    nrrs = []\n",
    "    it = 0\n",
    "    \n",
    "    for i in range(data.shape[0]):\n",
    "        row = data.iloc[i, :]\n",
    "        \n",
    "        first = row['first_team']\n",
    "        second = row['second_team']\n",
    "        winner = row['winner']\n",
    "        nrr = row['net_run_rate']\n",
    "        \n",
    "        if first == winner:\n",
    "            S_a = 1\n",
    "        elif winner == 'tie':\n",
    "            S_a = 0.5\n",
    "        else:\n",
    "            S_a = 0\n",
    "            \n",
    "        if it > 0:\n",
    "            diffs.append(abs(teams_final[first] - teams_final[second]))\n",
    "            nrrs.append(abs(nrr))\n",
    "        \n",
    "        W_mv = calculate_W_mv(nrr)\n",
    "        R_a_pr, R_b_pr = elo_step(teams_final[first], teams_final[second], S_a, K, W_mv, alpha)\n",
    "        \n",
    "        teams_final[first] = R_a_pr\n",
    "        teams_final[second] = R_b_pr\n",
    "        \n",
    "        if it == 0:\n",
    "            it += 1\n",
    "    \n",
    "    return np.array([diffs]).T, np.array(nrrs).T"
   ]
  },
  {
   "cell_type": "code",
   "execution_count": 79,
   "id": "cb15613d",
   "metadata": {},
   "outputs": [],
   "source": [
    "diffs, nrrs = elodiffs_v_nrrs(data, intl_elos, 45.5, alpha=214)"
   ]
  },
  {
   "cell_type": "code",
   "execution_count": 80,
   "id": "9bb1172f",
   "metadata": {},
   "outputs": [
    {
     "data": {
      "text/plain": [
       "(array([[ 22.75      ],\n",
       "        [ 22.75      ],\n",
       "        [ 22.75      ],\n",
       "        ...,\n",
       "        [104.70854808],\n",
       "        [  4.08329775],\n",
       "        [ 24.76783887]]),\n",
       " array([5.        , 0.55325273, 4.75      , ..., 1.1       , 3.1       ,\n",
       "        1.95      ]),\n",
       " (2810, 1),\n",
       " (2810,))"
      ]
     },
     "execution_count": 80,
     "metadata": {},
     "output_type": "execute_result"
    }
   ],
   "source": [
    "diffs, nrrs, diffs.shape, nrrs.shape"
   ]
  },
  {
   "cell_type": "code",
   "execution_count": 81,
   "id": "b35939e4",
   "metadata": {},
   "outputs": [
    {
     "data": {
      "text/plain": [
       "<matplotlib.collections.PathCollection at 0x2a109b74090>"
      ]
     },
     "execution_count": 81,
     "metadata": {},
     "output_type": "execute_result"
    },
    {
     "data": {
      "image/png": "[encoded data removed]",
      "text/plain": [
       "<Figure size 640x480 with 1 Axes>"
      ]
     },
     "metadata": {},
     "output_type": "display_data"
    }
   ],
   "source": [
    "plt.scatter(diffs, nrrs)"
   ]
  },
  {
   "cell_type": "code",
   "execution_count": 82,
   "id": "077ea603",
   "metadata": {},
   "outputs": [
    {
     "data": {
      "text/plain": [
       "(array([0.00477159]), 1.7870127923789603)"
      ]
     },
     "execution_count": 82,
     "metadata": {},
     "output_type": "execute_result"
    }
   ],
   "source": [
    "reg = lm.LinearRegression()\n",
    "reg.fit(diffs, nrrs)\n",
    "reg.coef_, reg.intercept_"
   ]
  },
  {
   "cell_type": "code",
   "execution_count": 83,
   "id": "ddc99c80",
   "metadata": {},
   "outputs": [
    {
     "data": {
      "text/plain": [
       "array([0.10501985])"
      ]
     },
     "execution_count": 83,
     "metadata": {},
     "output_type": "execute_result"
    }
   ],
   "source": [
    "r_regression(diffs, nrrs)"
   ]
  },
  {
   "cell_type": "code",
   "execution_count": 84,
   "id": "ae3e5293",
   "metadata": {},
   "outputs": [
    {
     "data": {
      "text/plain": [
       "19266.96190320483"
      ]
     },
     "execution_count": 84,
     "metadata": {},
     "output_type": "execute_result"
    }
   ],
   "source": [
    "expected_nrrs = reg.coef_[0]*diffs + reg.intercept_\n",
    "mse = np.sum((expected_nrrs-nrrs)**2) / nrrs.shape[0]\n",
    "mse"
   ]
  },
  {
   "cell_type": "code",
   "execution_count": 94,
   "id": "732b7080",
   "metadata": {},
   "outputs": [],
   "source": [
    "def runs_scored(country: str):\n",
    "    df1 = data[data['first_team'] == country]\n",
    "    df2 = data[data['second_team'] == country]\n",
    "    return np.sum(df1['first_runs']) + np.sum(df2['second_runs'])"
   ]
  },
  {
   "cell_type": "code",
   "execution_count": 99,
   "id": "8e318e11",
   "metadata": {},
   "outputs": [
    {
     "data": {
      "text/plain": [
       "38892.0"
      ]
     },
     "execution_count": 99,
     "metadata": {},
     "output_type": "execute_result"
    }
   ],
   "source": [
    "runs_scored('India') # Testing"
   ]
  },
  {
   "cell_type": "code",
   "execution_count": 100,
   "id": "44767167",
   "metadata": {},
   "outputs": [],
   "source": [
    "def runs_conceded(country: str):\n",
    "    df1 = data[data['first_team'] == country]\n",
    "    df2 = data[data['second_team'] == country]\n",
    "    return np.sum(df2['first_runs']) + np.sum(df1['second_runs'])"
   ]
  },
  {
   "cell_type": "code",
   "execution_count": 101,
   "id": "b51bfbb0",
   "metadata": {},
   "outputs": [
    {
     "data": {
      "text/plain": [
       "35583.0"
      ]
     },
     "execution_count": 101,
     "metadata": {},
     "output_type": "execute_result"
    }
   ],
   "source": [
    "runs_conceded('India')"
   ]
  },
  {
   "cell_type": "code",
   "execution_count": 103,
   "id": "a8c65deb",
   "metadata": {},
   "outputs": [],
   "source": [
    "def wins_losses(country: str):\n",
    "    df1 = data[data['first_team'] == country]\n",
    "    df2 = data[data['second_team'] == country]\n",
    "    wins = np.sum(df1['winner'] == country) + np.sum(df2['winner'] == country)\n",
    "    losses = np.sum(df1['winner'] != country) + np.sum(df2['winner'] != country)\n",
    "    return wins, losses"
   ]
  },
  {
   "cell_type": "code",
   "execution_count": 106,
   "id": "cedbf2eb",
   "metadata": {},
   "outputs": [],
   "source": [
    "def win_percent(country: str):\n",
    "    wins, losses = wins_losses(country)\n",
    "    return wins/(wins+losses)"
   ]
  },
  {
   "cell_type": "code",
   "execution_count": 105,
   "id": "55f0cfd6",
   "metadata": {},
   "outputs": [
    {
     "data": {
      "text/plain": [
       "(164, 77)"
      ]
     },
     "execution_count": 105,
     "metadata": {},
     "output_type": "execute_result"
    }
   ],
   "source": [
    "wins_losses('India')"
   ]
  },
  {
   "cell_type": "code",
   "execution_count": 107,
   "id": "8818d20a",
   "metadata": {},
   "outputs": [
    {
     "data": {
      "text/plain": [
       "0.6804979253112033"
      ]
     },
     "execution_count": 107,
     "metadata": {},
     "output_type": "execute_result"
    }
   ],
   "source": [
    "win_percent('India')"
   ]
  },
  {
   "cell_type": "code",
   "execution_count": 108,
   "id": "fc76b5a5",
   "metadata": {},
   "outputs": [],
   "source": [
    "def pyth_exp(country: str, exp: float): # Pythagorean expectation\n",
    "    \"\"\"\n",
    "    :param country: Country.\n",
    "    :param exp: Exponent for use in calculation\n",
    "    \"\"\"\n",
    "    R_s = runs_scored(country)\n",
    "    R_c = runs_conceded(country)\n",
    "    return (R_s**exp) / ( (R_s)**exp + (R_c)**exp )"
   ]
  },
  {
   "cell_type": "code",
   "execution_count": 133,
   "id": "8e896043",
   "metadata": {},
   "outputs": [],
   "source": [
    "ys = []\n",
    "xs = []\n",
    "\n",
    "for t in teams:\n",
    "    x = np.log(runs_scored(t) / runs_conceded(t))\n",
    "    w, l = wins_losses(t)\n",
    "    if l == 0 or runs_conceded(t) == 0 or w == 0 or runs_scored(t) == 0:\n",
    "        continue\n",
    "    y = np.log(w / l)\n",
    "    xs.append(x)\n",
    "    ys.append(y)"
   ]
  },
  {
   "cell_type": "code",
   "execution_count": 134,
   "id": "b9dc80f7",
   "metadata": {},
   "outputs": [
    {
     "data": {
      "text/plain": [
       "(99, 99)"
      ]
     },
     "execution_count": 134,
     "metadata": {},
     "output_type": "execute_result"
    }
   ],
   "source": [
    "len(xs), len(ys)"
   ]
  },
  {
   "cell_type": "code",
   "execution_count": 135,
   "id": "088fd441",
   "metadata": {},
   "outputs": [
    {
     "data": {
      "text/plain": [
       "([0.054875618981495594, -0.096158681845171, 0.024577480064483504],\n",
       " [0.4653632496892333, -0.0953101798043249, 0.2525907526405108])"
      ]
     },
     "execution_count": 135,
     "metadata": {},
     "output_type": "execute_result"
    }
   ],
   "source": [
    "xs[0:3], ys[0:3]"
   ]
  },
  {
   "cell_type": "code",
   "execution_count": 136,
   "id": "c3eda527",
   "metadata": {},
   "outputs": [],
   "source": [
    "xs = np.array([xs]).T"
   ]
  },
  {
   "cell_type": "code",
   "execution_count": 137,
   "id": "e924b0dc",
   "metadata": {},
   "outputs": [],
   "source": [
    "ys = np.array(ys)"
   ]
  },
  {
   "cell_type": "code",
   "execution_count": 138,
   "id": "db473d0c",
   "metadata": {},
   "outputs": [
    {
     "data": {
      "text/plain": [
       "((99, 1), (99,))"
      ]
     },
     "execution_count": 138,
     "metadata": {},
     "output_type": "execute_result"
    }
   ],
   "source": [
    "xs.shape, ys.shape"
   ]
  },
  {
   "cell_type": "code",
   "execution_count": 139,
   "id": "898535ce",
   "metadata": {},
   "outputs": [
    {
     "data": {
      "text/plain": [
       "(array([3.88919793]), -0.08576402970326955)"
      ]
     },
     "execution_count": 139,
     "metadata": {},
     "output_type": "execute_result"
    }
   ],
   "source": [
    "reg = lm.LinearRegression()\n",
    "reg.fit(np.array(xs), np.array(ys))\n",
    "reg.coef_, reg.intercept_"
   ]
  },
  {
   "cell_type": "code",
   "execution_count": 141,
   "id": "9560a39f",
   "metadata": {},
   "outputs": [
    {
     "data": {
      "text/plain": [
       "3.889197927878163"
      ]
     },
     "execution_count": 141,
     "metadata": {},
     "output_type": "execute_result"
    }
   ],
   "source": [
    "exp_opt = reg.coef_[0]\n",
    "exp_opt"
   ]
  },
  {
   "cell_type": "code",
   "execution_count": 157,
   "id": "2c9b4c7f",
   "metadata": {},
   "outputs": [
    {
     "data": {
      "text/plain": [
       "8.442301134141193"
      ]
     },
     "execution_count": 157,
     "metadata": {},
     "output_type": "execute_result"
    }
   ],
   "source": [
    "abs_err_pyth(3.889197927878163)"
   ]
  },
  {
   "cell_type": "code",
   "execution_count": 155,
   "id": "c223597e",
   "metadata": {},
   "outputs": [],
   "source": [
    "def abs_err_pyth(exp):\n",
    "    abserr_tot = 0\n",
    "    for t in teams:\n",
    "        w, l = wins_losses(t)\n",
    "        if l == 0:\n",
    "            continue\n",
    "        abserr = abs(win_percent(t) - pyth_exp(t, exp))\n",
    "        abserr_tot += abserr\n",
    "    return abserr_tot"
   ]
  },
  {
   "cell_type": "code",
   "execution_count": 164,
   "id": "840238a5",
   "metadata": {},
   "outputs": [],
   "source": [
    "def mse_pyth(exp): # ignore variable names lol\n",
    "    abserr_tot = 0\n",
    "    for t in teams:\n",
    "        w, l = wins_losses(t)\n",
    "        if l == 0:\n",
    "            continue\n",
    "        abserr = (win_percent(t) - pyth_exp(t, exp))**2\n",
    "        abserr_tot += abserr\n",
    "    return abserr_tot"
   ]
  },
  {
   "cell_type": "code",
   "execution_count": 165,
   "id": "325731f7",
   "metadata": {
    "scrolled": true
   },
   "outputs": [
    {
     "data": {
      "text/plain": [
       "(array([4.72268341]), 1.4426592720669305)"
      ]
     },
     "execution_count": 165,
     "metadata": {},
     "output_type": "execute_result"
    }
   ],
   "source": [
    "x0 = [2]\n",
    "res = opt.minimize(mse_pyth, x0)\n",
    "res.x, res.fun"
   ]
  },
  {
   "cell_type": "code",
   "execution_count": 166,
   "id": "319f3f9e",
   "metadata": {},
   "outputs": [],
   "source": [
    "exp_opt = res.x[0]"
   ]
  },
  {
   "cell_type": "code",
   "execution_count": 167,
   "id": "fa0f3401",
   "metadata": {},
   "outputs": [],
   "source": [
    "pyth_dict = {}\n",
    "for t in teams:\n",
    "    p = pyth_exp(t, exp_opt)\n",
    "    pyth_dict.update({t: p})"
   ]
  },
  {
   "cell_type": "code",
   "execution_count": 168,
   "id": "f4a83d19",
   "metadata": {},
   "outputs": [
    {
     "data": {
      "text/plain": [
       "{'Japan': 0.8588176346021033,\n",
       " 'Bermuda': 0.6989841155185778,\n",
       " 'Jersey': 0.693638893008781,\n",
       " 'Canada': 0.6630108693361259,\n",
       " 'Denmark': 0.65482918130837,\n",
       " 'Uganda': 0.6506816716630738,\n",
       " 'Portugal': 0.6187876626908292,\n",
       " 'Tanzania': 0.6144758862810951,\n",
       " 'France': 0.6067034473282351,\n",
       " 'Malawi': 0.6050788749904433,\n",
       " 'India': 0.6034697872770202,\n",
       " 'Mexico': 0.6004304766823755,\n",
       " 'Italy': 0.5983146451696973,\n",
       " 'Spain': 0.5982563870188012,\n",
       " 'Isle of Man': 0.5974425225279621,\n",
       " 'Austria': 0.5926075983877208,\n",
       " 'Belgium': 0.5923694055070853,\n",
       " 'Saudi Arabia': 0.5913589700811771,\n",
       " 'Malaysia': 0.5898897546024755,\n",
       " 'Namibia': 0.584803876770299,\n",
       " 'Nepal': 0.5823530920648784,\n",
       " 'Nigeria': 0.5780658890906626,\n",
       " 'Norway': 0.5742651832293889,\n",
       " 'Afghanistan': 0.5644298331799334,\n",
       " 'Pakistan': 0.5532439340019469,\n",
       " 'United States of America': 0.546942117989711,\n",
       " 'Hungary': 0.5456876513970172,\n",
       " 'Kuwait': 0.5455343689596323,\n",
       " 'Samoa': 0.5424848161012289,\n",
       " 'Turks and Caicos Island': 0.5362673944713484,\n",
       " 'Australia': 0.5289853792350075,\n",
       " 'Romania': 0.5278822581633458,\n",
       " 'New Zealand': 0.5270239106416267,\n",
       " 'United Arab Emirates': 0.5255012838181744,\n",
       " 'England': 0.5201578421994043,\n",
       " 'Bahrain': 0.5197488229034842,\n",
       " 'South Africa': 0.5152506085414772,\n",
       " 'Papua New Guinea': 0.5147612334140736,\n",
       " 'Fiji': 0.5134450805937557,\n",
       " 'Netherlands': 0.5115341001393833,\n",
       " 'Kenya': 0.5031902176525781,\n",
       " 'Guernsey': 0.5010211929816945,\n",
       " 'Sri Lanka': 0.4945542493954053,\n",
       " 'Hong Kong': 0.493976224790479,\n",
       " 'Cyprus': 0.49337204325186856,\n",
       " 'Vanuatu': 0.4910496558874591,\n",
       " 'Iran': 0.48911988171079374,\n",
       " 'Germany': 0.48427870799254136,\n",
       " 'Scotland': 0.4835095913708836,\n",
       " 'Zimbabwe': 0.48157907560636576,\n",
       " 'Sweden': 0.47590611105698816,\n",
       " 'Qatar': 0.4755065425519954,\n",
       " 'Chile': 0.47180538931283306,\n",
       " 'Swaziland': 0.47139177342363014,\n",
       " 'Israel': 0.46781718458689364,\n",
       " 'Bangladesh': 0.46158168039940306,\n",
       " 'Indonesia': 0.46122794840861964,\n",
       " 'Oman': 0.46088651348334175,\n",
       " 'West Indies': 0.4605117654903295,\n",
       " 'Malta': 0.45639859889317436,\n",
       " 'Ireland': 0.44823274281428016,\n",
       " 'Sierra Leone': 0.4352350022358695,\n",
       " 'Thailand': 0.4351087957287125,\n",
       " 'Cambodia': 0.43474458587167275,\n",
       " 'Luxembourg': 0.43441751440316,\n",
       " 'Estonia': 0.4325541343342691,\n",
       " 'Czech Republic': 0.42772405339056174,\n",
       " 'Mozambique': 0.41804072909576484,\n",
       " 'Gibraltar': 0.41630101617506543,\n",
       " 'Singapore': 0.4083826263121417,\n",
       " 'Switzerland': 0.39056019213360527,\n",
       " 'Argentina': 0.38837998120987544,\n",
       " 'Ghana': 0.387302675613701,\n",
       " 'Finland': 0.3823432440423517,\n",
       " 'Cook Islands': 0.3775970219040749,\n",
       " 'Botswana': 0.37398506812197585,\n",
       " 'Bulgaria': 0.3728657670819045,\n",
       " 'Serbia': 0.3665798025396984,\n",
       " 'Cayman Islands': 0.35267655382074087,\n",
       " 'Maldives': 0.3383619230824489,\n",
       " 'Panama': 0.31901948413567605,\n",
       " 'Suriname': 0.3147323694121311,\n",
       " 'Rwanda': 0.31141461393772363,\n",
       " 'ICC World XI': 0.2994808597172881,\n",
       " 'Bhutan': 0.28046473797528476,\n",
       " 'Philippines': 0.26204257274235465,\n",
       " 'Bahamas': 0.258573986881462,\n",
       " 'Greece': 0.2542121651603255,\n",
       " 'Lesotho': 0.253751024507124,\n",
       " 'Belize': 0.24319723712043198,\n",
       " 'St Helena': 0.24251649258481184,\n",
       " 'Eswatini': 0.24067171224305473,\n",
       " 'Slovenia': 0.2103349838640238,\n",
       " 'Croatia': 0.18885117497555687,\n",
       " 'Brazil': 0.17256468705974665,\n",
       " 'Myanmar': 0.16585990920091145,\n",
       " 'Mali': 0.1631807075303408,\n",
       " 'South Korea': 0.14910273055342071,\n",
       " 'Costa Rica': 0.14358993964267466,\n",
       " 'Turkey': 0.1267542349182913,\n",
       " 'Cameroon': 0.11419710652980146,\n",
       " 'Seychelles': 0.08610846718563606,\n",
       " 'Gambia': 0.05647033124243283,\n",
       " 'China': 0.025596864086168472,\n",
       " 'Mongolia': 0.0016375009305078078,\n",
       " 'Ivory Coast': 0.0008285994284606258}"
      ]
     },
     "execution_count": 168,
     "metadata": {},
     "output_type": "execute_result"
    }
   ],
   "source": [
    "dict(sorted(pyth_dict.items(), key=lambda item: item[1], reverse=True))"
   ]
  },
  {
   "cell_type": "code",
   "execution_count": 169,
   "id": "d1cb81d6",
   "metadata": {},
   "outputs": [],
   "source": [
    "over_under = {}\n",
    "for t in teams:\n",
    "    w, l = wins_losses(t)\n",
    "    if l == 0:\n",
    "        over_under.update({t: float('nan')})\n",
    "        continue\n",
    "    wp = win_percent(t)\n",
    "    ou = wp - pyth_dict[t]\n",
    "    over_under.update({t: ou})"
   ]
  },
  {
   "cell_type": "code",
   "execution_count": 171,
   "id": "2dd936f3",
   "metadata": {},
   "outputs": [
    {
     "data": {
      "text/plain": [
       "{'Spain': 0.20729916853675434,\n",
       " 'Switzerland': 0.20034889877548567,\n",
       " 'Brazil': 0.16076864627358667,\n",
       " 'Uganda': 0.13192702398910017,\n",
       " 'Cook Islands': 0.1224029780959251,\n",
       " 'Romania': 0.12211774183665425,\n",
       " 'Germany': 0.11572129200745862,\n",
       " 'Costa Rica': 0.10641006035732534,\n",
       " 'Bahamas': 0.10506237675490165,\n",
       " 'Argentina': 0.08781049498060073,\n",
       " 'China': 0.08551424702494263,\n",
       " 'Guernsey': 0.08518570357002964,\n",
       " 'Portugal': 0.08121233730917077,\n",
       " 'Seychelles': 0.0805581994810306,\n",
       " 'Kuwait': 0.07741645071249892,\n",
       " 'India': 0.07702813803418318,\n",
       " 'Austria': 0.07405906827894582,\n",
       " 'Eswatini': 0.059328287756945264,\n",
       " 'Gambia': 0.054640779868678276,\n",
       " 'Bhutan': 0.052868595358048553,\n",
       " 'Afghanistan': 0.049855881105780875,\n",
       " 'Finland': 0.04622818452907684,\n",
       " 'Philippines': 0.04564973494995306,\n",
       " 'Italy': 0.04454249768744556,\n",
       " 'South Africa': 0.04433488368650207,\n",
       " 'Kenya': 0.03798625293565716,\n",
       " 'Bahrain': 0.03580673265207135,\n",
       " 'Australia': 0.03382869111675124,\n",
       " 'Fiji': 0.032009464860789705,\n",
       " 'Pakistan': 0.02842937277096147,\n",
       " 'Belgium': 0.028320249665328534,\n",
       " 'Cambodia': 0.026793875666788813,\n",
       " 'Cayman Islands': 0.02663379100684532,\n",
       " 'Mozambique': 0.02640371534867958,\n",
       " 'England': 0.02255572563979169,\n",
       " 'Croatia': 0.021675140813916804,\n",
       " 'United Arab Emirates': 0.019141573324682692,\n",
       " 'Cameroon': 0.019136226803531872,\n",
       " 'Czech Republic': 0.009775946609438257,\n",
       " 'St Helena': 0.007483507415188162,\n",
       " 'Netherlands': 0.007333824388918608,\n",
       " 'Belize': 0.0068027628795680195,\n",
       " 'New Zealand': 0.0021240714211535616,\n",
       " 'United States of America': 0.002077489853426262,\n",
       " 'Namibia': 0.0018627898963676781,\n",
       " 'Bermuda': 0.0010158844814222023,\n",
       " 'Qatar': 0.0006839336384807382,\n",
       " 'Nepal': 6.449035270406078e-05,\n",
       " 'Ivory Coast': -0.0008285994284606258,\n",
       " 'Panama': -0.000837665953857869,\n",
       " 'Mongolia': -0.0016375009305078078,\n",
       " 'West Indies': -0.010750999940090267,\n",
       " 'Papua New Guinea': -0.014761233414073649,\n",
       " 'Thailand': -0.015108795728712543,\n",
       " 'Estonia': -0.015887467667602406,\n",
       " 'Ireland': -0.017852995978837105,\n",
       " 'Rwanda': -0.018081280604390293,\n",
       " 'Oman': -0.0213260739229022,\n",
       " 'Sierra Leone': -0.021441898787593616,\n",
       " 'Scotland': -0.02373947642835489,\n",
       " 'Botswana': -0.023985068121975872,\n",
       " 'Hong Kong': -0.03319191106498881,\n",
       " 'Jersey': -0.03510230764292732,\n",
       " 'Tanzania': -0.03552851786004241,\n",
       " 'Saudi Arabia': -0.035803414525621524,\n",
       " 'Turkey': -0.035845144009200386,\n",
       " 'Indonesia': -0.04304613022680148,\n",
       " 'Singapore': -0.04474626267577808,\n",
       " 'Serbia': -0.045151231111126955,\n",
       " 'ICC World XI': -0.049480859717288106,\n",
       " 'Malaysia': -0.050563911905846304,\n",
       " 'Sri Lanka': -0.052343194119023384,\n",
       " 'Bulgaria': -0.05858005279619022,\n",
       " 'Sweden': -0.05923944439032147,\n",
       " 'Malta': -0.05957320206777755,\n",
       " 'Ghana': -0.06297835128937668,\n",
       " 'Nigeria': -0.06336000673772146,\n",
       " 'Suriname': -0.06473236941213112,\n",
       " 'Cyprus': -0.06480061468044002,\n",
       " 'Luxembourg': -0.07078115076679636,\n",
       " 'Isle of Man': -0.07112673305427797,\n",
       " 'Lesotho': -0.07193284268894218,\n",
       " 'Norway': -0.07426518322938891,\n",
       " 'Malawi': -0.07566711028456097,\n",
       " 'Bangladesh': -0.0782483470660697,\n",
       " 'France': -0.08818492880971662,\n",
       " 'Israel': -0.09281718458689364,\n",
       " 'Maldives': -0.09511867983920563,\n",
       " 'Vanuatu': -0.1039528816939107,\n",
       " 'Hungary': -0.10568765139701725,\n",
       " 'Myanmar': -0.10703637978914675,\n",
       " 'Zimbabwe': -0.10890826815294963,\n",
       " 'Canada': -0.12569743650030496,\n",
       " 'Slovenia': -0.12700165053069046,\n",
       " 'Gibraltar': -0.13058673046077973,\n",
       " 'Greece': -0.14310105404921442,\n",
       " 'South Korea': -0.14910273055342071,\n",
       " 'Mexico': -0.15598603223793106,\n",
       " 'Japan': -0.1588176346021033,\n",
       " 'Mali': -0.1631807075303408,\n",
       " 'Samoa': -0.17884845246486525,\n",
       " 'Denmark': -0.21893174541093408,\n",
       " 'Turks and Caicos Island': -0.2862673944713484,\n",
       " 'Swaziland': -0.47139177342363014,\n",
       " 'Chile': -0.47180538931283306,\n",
       " 'Iran': -0.48911988171079374}"
      ]
     },
     "execution_count": 171,
     "metadata": {},
     "output_type": "execute_result"
    }
   ],
   "source": [
    "dict(sorted(over_under.items(), key=lambda item: item[1], reverse=True))"
   ]
  }
 ],
 "metadata": {
  "kernelspec": {
   "display_name": "Python 3 (ipykernel)",
   "language": "python",
   "name": "python3"
  },
  "language_info": {
   "codemirror_mode": {
    "name": "ipython",
    "version": 3
   },
   "file_extension": ".py",
   "mimetype": "text/x-python",
   "name": "python",
   "nbconvert_exporter": "python",
   "pygments_lexer": "ipython3",
   "version": "3.11.3"
  }
 },
 "nbformat": 4,
 "nbformat_minor": 5
}
